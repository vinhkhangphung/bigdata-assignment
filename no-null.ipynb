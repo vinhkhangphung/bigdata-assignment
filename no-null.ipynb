{
 "cells": [
  {
   "cell_type": "code",
   "id": "initial_id",
   "metadata": {
    "collapsed": true,
    "ExecuteTime": {
     "end_time": "2024-11-13T11:54:58.665403Z",
     "start_time": "2024-11-13T11:54:50.581442Z"
    }
   },
   "source": [
    "from pyspark.sql import SparkSession\n",
    "from pyspark.sql.functions import col, explode_outer\n",
    "\n",
    "import os\n",
    "import sys\n",
    "\n",
    "from typing_extensions import override\n",
    "\n",
    "os.environ['PYSPARK_PYTHON'] = sys.executable\n",
    "os.environ['PYSPARK_DRIVER_PYTHON'] = sys.executable\n",
    "\n",
    "# Initialize Spark session\n",
    "spark = (SparkSession.builder.appName(\"DataProcessingApp\")\n",
    "         .config(\"spark.executor.memory\", \"10g\")\n",
    "         .config(\"spark.driver.memory\", \"8g\")\n",
    "         .getOrCreate())\n",
    "spark.sparkContext.setLogLevel(\"DEBUG\")\n",
    "\n",
    "# Read the CSV file into a DataFrame\n",
    "df = spark.read.csv('data/2019-2020_school_year/pdets.csv', header=True, inferSchema=True)\n",
    "\n",
    "# Drop the specified columns\n",
    "df = df.drop('content_source', 'tutoring_types')\n",
    "\n",
    "# Describe the DataFrame and format the output\n",
    "df.describe().show()"
   ],
   "outputs": [
    {
     "name": "stdout",
     "output_type": "stream",
     "text": [
      "+-------+------------------+--------------+--------------------+--------------------+-------------------+-----------------+\n",
      "|summary|        problem_id|        skills|        problem_type|student_answer_count|       mean_correct|mean_time_on_task|\n",
      "+-------+------------------+--------------+--------------------+--------------------+-------------------+-----------------+\n",
      "|  count|            134263|         46388|              134263|              134655|             105612|           127631|\n",
      "|   mean|1185746.6052225856|          NULL|                NULL|  154.11856967806617| 0.6616545480662842|132.4985495373139|\n",
      "| stddev| 556124.5188792311|          NULL|                NULL|  309.82390791199026|0.25891993108560785|139.6793436326628|\n",
      "|    min|               1.0|   ['1.G.A.1']|Algebraic Expression|                   1|                0.0|            0.002|\n",
      "|    max|         1869964.0|['HSS.CP.B.9']|Ungraded Open Res...|               12264|                1.0|        4721.0765|\n",
      "+-------+------------------+--------------+--------------------+--------------------+-------------------+-----------------+\n",
      "\n"
     ]
    }
   ],
   "execution_count": 1
  },
  {
   "metadata": {
    "ExecuteTime": {
     "end_time": "2024-11-13T11:54:58.928323Z",
     "start_time": "2024-11-13T11:54:58.765769Z"
    }
   },
   "cell_type": "code",
   "source": [
    "from pyspark.sql.types import IntegerType\n",
    "\n",
    "# Filter rows where 'problem_id' is not null\n",
    "df = df.filter(df[\"problem_id\"].isNotNull())\n",
    "\n",
    "# Convert 'problem_id' to integer type\n",
    "df = df.withColumn(\"problem_id\", col(\"problem_id\").cast(IntegerType()))\n",
    "\n",
    "# Show the first few rows\n",
    "df.show(10)"
   ],
   "id": "f3e81ed1c3386507",
   "outputs": [
    {
     "name": "stdout",
     "output_type": "stream",
     "text": [
      "+----------+--------------------+--------------------+--------------------+-------------------+-----------------+\n",
      "|problem_id|              skills|        problem_type|student_answer_count|       mean_correct|mean_time_on_task|\n",
      "+----------+--------------------+--------------------+--------------------+-------------------+-----------------+\n",
      "|        16|         ['8.F.B.5']|     Multiple Choice|                  16|              0.875|        62.389875|\n",
      "|        33|      ['8.NS.A.2-1']|     Multiple Choice|                  80| 0.7341772151898734|             NULL|\n",
      "|        35|      ['8.NS.A.2-1']|Exact Match (case...|                  34| 0.3235294117647059|             NULL|\n",
      "|        37|      ['8.NS.A.2-1']|Exact Match (case...|                  28| 0.8571428571428571|             NULL|\n",
      "|        39|      ['8.NS.A.2-1']|     Multiple Choice|                  26| 0.4230769230769231|             NULL|\n",
      "|        48|     ['5.NF.B.4a-1']|     Multiple Choice|                   6|0.16666666666666666|             NULL|\n",
      "|        50|['4.NF.A.1', '5.N...|Exact Match (case...|                   5|                0.4|             NULL|\n",
      "|        58|                NULL|     Multiple Choice|                   7| 0.7142857142857143|             NULL|\n",
      "|        61|       ['7.G.B.5-2']|Exact Match (case...|                  28| 0.6428571428571429| 398.008142857143|\n",
      "|        73|       ['7.G.B.5-1']|Exact Match (case...|                   6|0.16666666666666666|             NULL|\n",
      "+----------+--------------------+--------------------+--------------------+-------------------+-----------------+\n",
      "only showing top 10 rows\n",
      "\n"
     ]
    }
   ],
   "execution_count": 2
  },
  {
   "metadata": {
    "ExecuteTime": {
     "end_time": "2024-11-13T11:54:59.528517Z",
     "start_time": "2024-11-13T11:54:58.972340Z"
    }
   },
   "cell_type": "code",
   "source": [
    "from pyspark.sql.functions import isnan, when, count\n",
    "# df.select([count(when(isnan(c), c)).alias(c) for c in df.columns]).show()\n",
    "df.select([count(when(col(c).isNull(), c)).alias(c) for c in df.columns]).show()"
   ],
   "id": "cc626403038897b8",
   "outputs": [
    {
     "name": "stdout",
     "output_type": "stream",
     "text": [
      "+----------+------+------------+--------------------+------------+-----------------+\n",
      "|problem_id|skills|problem_type|student_answer_count|mean_correct|mean_time_on_task|\n",
      "+----------+------+------------+--------------------+------------+-----------------+\n",
      "|         0| 87875|           0|                   0|       28953|             7024|\n",
      "+----------+------+------------+--------------------+------------+-----------------+\n",
      "\n"
     ]
    }
   ],
   "execution_count": 3
  },
  {
   "metadata": {
    "ExecuteTime": {
     "end_time": "2024-11-13T11:55:00.616219Z",
     "start_time": "2024-11-13T11:54:59.583735Z"
    }
   },
   "cell_type": "code",
   "source": [
    "from pyspark.sql.functions import col, explode, split, regexp_replace, array, size, lit\n",
    "\n",
    "df = df.withColumn(\"skills\", when(col(\"skills\").isNull(), \"[]\").otherwise(col(\"skills\")))\n",
    "\n",
    "# Clean the skills string and convert to array\n",
    "# Note: we need to handle the case where cleaning results in empty string\n",
    "df = df.withColumn(\"skills\", \n",
    "    regexp_replace(regexp_replace(col(\"skills\"), r\"[\\[\\]'\\s]\", \"\"), r\",,\", \",\"))\n",
    "df = df.withColumn(\"skills_array\", when(\n",
    "    col(\"skills\") == \"\", array().cast(\"array<string>\")\n",
    ").otherwise(\n",
    "    split(col(\"skills\"), \",\")\n",
    "))\n",
    "\n",
    "# Explode the array to create one row per skill\n",
    "df = df.withColumn(\"skill\", explode_outer(col(\"skills_array\")))\n",
    "\n",
    "# Extract grade, domain, and subdomain\n",
    "df = df.withColumn(\"parts\", split(col(\"skill\"), \"\\\\.\"))\n",
    "new_df = df.select(\n",
    "    col(\"problem_id\"),\n",
    "    col(\"skills\"),\n",
    "    col(\"problem_type\"),\n",
    "    col(\"student_answer_count\"),\n",
    "    col(\"mean_correct\"),\n",
    "    col(\"mean_time_on_task\"),\n",
    "    col(\"skill\").alias(\"skill_code\"),\n",
    "    col(\"parts\").getItem(0).alias(\"grade\"),\n",
    "    col(\"parts\").getItem(1).alias(\"domain\"),\n",
    "    col(\"parts\").getItem(2).alias(\"subdomain\")\n",
    ")\n",
    "\n",
    "# Cache the DataFrame\n",
    "new_df = new_df.cache()\n",
    "\n",
    "# Show the first few rows\n",
    "new_df.show()"
   ],
   "id": "862164f36c5c32e4",
   "outputs": [
    {
     "name": "stdout",
     "output_type": "stream",
     "text": [
      "+----------+--------------------+--------------------+--------------------+-------------------+-----------------+-----------+-----+------+---------+\n",
      "|problem_id|              skills|        problem_type|student_answer_count|       mean_correct|mean_time_on_task| skill_code|grade|domain|subdomain|\n",
      "+----------+--------------------+--------------------+--------------------+-------------------+-----------------+-----------+-----+------+---------+\n",
      "|        16|             8.F.B.5|     Multiple Choice|                  16|              0.875|        62.389875|    8.F.B.5|    8|     F|        B|\n",
      "|        33|          8.NS.A.2-1|     Multiple Choice|                  80| 0.7341772151898734|             NULL| 8.NS.A.2-1|    8|    NS|        A|\n",
      "|        35|          8.NS.A.2-1|Exact Match (case...|                  34| 0.3235294117647059|             NULL| 8.NS.A.2-1|    8|    NS|        A|\n",
      "|        37|          8.NS.A.2-1|Exact Match (case...|                  28| 0.8571428571428571|             NULL| 8.NS.A.2-1|    8|    NS|        A|\n",
      "|        39|          8.NS.A.2-1|     Multiple Choice|                  26| 0.4230769230769231|             NULL| 8.NS.A.2-1|    8|    NS|        A|\n",
      "|        48|         5.NF.B.4a-1|     Multiple Choice|                   6|0.16666666666666666|             NULL|5.NF.B.4a-1|    5|    NF|        B|\n",
      "|        50|4.NF.A.1,5.NF.B.4a-1|Exact Match (case...|                   5|                0.4|             NULL|   4.NF.A.1|    4|    NF|        A|\n",
      "|        50|4.NF.A.1,5.NF.B.4a-1|Exact Match (case...|                   5|                0.4|             NULL|5.NF.B.4a-1|    5|    NF|        B|\n",
      "|        58|                    |     Multiple Choice|                   7| 0.7142857142857143|             NULL|       NULL| NULL|  NULL|     NULL|\n",
      "|        61|           7.G.B.5-2|Exact Match (case...|                  28| 0.6428571428571429| 398.008142857143|  7.G.B.5-2|    7|     G|        B|\n",
      "|        73|           7.G.B.5-1|Exact Match (case...|                   6|0.16666666666666666|             NULL|  7.G.B.5-1|    7|     G|        B|\n",
      "|        84|4.NF.A.1,6.RP.A.3...|     Multiple Choice|                   5|                0.0|             NULL|   4.NF.A.1|    4|    NF|        A|\n",
      "|        84|4.NF.A.1,6.RP.A.3...|     Multiple Choice|                   5|                0.0|             NULL|  6.RP.A.3b|    6|    RP|        A|\n",
      "|        84|4.NF.A.1,6.RP.A.3...|     Multiple Choice|                   5|                0.0|             NULL| 7.EE.B.3-1|    7|    EE|        B|\n",
      "|        85|4.NF.A.1,6.RP.A.3...|Exact Match (case...|                   5|                0.0|             NULL|   4.NF.A.1|    4|    NF|        A|\n",
      "|        85|4.NF.A.1,6.RP.A.3...|Exact Match (case...|                   5|                0.0|             NULL|  6.RP.A.3b|    6|    RP|        A|\n",
      "|        85|4.NF.A.1,6.RP.A.3...|Exact Match (case...|                   5|                0.0|             NULL| 7.EE.B.3-1|    7|    EE|        B|\n",
      "|       112|          8.NS.A.2-1|Exact Match (case...|                   7| 0.8571428571428571|             NULL| 8.NS.A.2-1|    8|    NS|        A|\n",
      "|       114|          8.NS.A.2-1|Exact Match (case...|                   6|                1.0|             NULL| 8.NS.A.2-1|    8|    NS|        A|\n",
      "|       115|          8.NS.A.2-1|Exact Match (case...|                   6| 0.6666666666666666|             NULL| 8.NS.A.2-1|    8|    NS|        A|\n",
      "+----------+--------------------+--------------------+--------------------+-------------------+-----------------+-----------+-----+------+---------+\n",
      "only showing top 20 rows\n",
      "\n"
     ]
    }
   ],
   "execution_count": 4
  },
  {
   "metadata": {
    "ExecuteTime": {
     "end_time": "2024-11-13T11:55:01.238134Z",
     "start_time": "2024-11-13T11:55:00.625239Z"
    }
   },
   "cell_type": "code",
   "source": "df.select([count(when(col(c).isNull(), c)).alias(c) for c in df.columns]).show()",
   "id": "67b01f2bef159cb9",
   "outputs": [
    {
     "name": "stdout",
     "output_type": "stream",
     "text": [
      "+----------+------+------------+--------------------+------------+-----------------+------------+-----+-----+\n",
      "|problem_id|skills|problem_type|student_answer_count|mean_correct|mean_time_on_task|skills_array|skill|parts|\n",
      "+----------+------+------------+--------------------+------------+-----------------+------------+-----+-----+\n",
      "|         0|     0|           0|                   0|       30883|             7707|           0|87875|87875|\n",
      "+----------+------+------------+--------------------+------------+-----------------+------------+-----+-----+\n",
      "\n"
     ]
    }
   ],
   "execution_count": 5
  },
  {
   "metadata": {
    "ExecuteTime": {
     "end_time": "2024-11-13T11:55:01.679665Z",
     "start_time": "2024-11-13T11:55:01.278481Z"
    }
   },
   "cell_type": "code",
   "source": "df.count()",
   "id": "d0188aa1dc8f3e0d",
   "outputs": [
    {
     "data": {
      "text/plain": [
       "141495"
      ]
     },
     "execution_count": 6,
     "metadata": {},
     "output_type": "execute_result"
    }
   ],
   "execution_count": 6
  },
  {
   "metadata": {
    "ExecuteTime": {
     "end_time": "2024-11-13T11:55:01.842543Z",
     "start_time": "2024-11-13T11:55:01.701230Z"
    }
   },
   "cell_type": "code",
   "source": "new_df.count()",
   "id": "32cdb60d18a131fe",
   "outputs": [
    {
     "data": {
      "text/plain": [
       "141495"
      ]
     },
     "execution_count": 7,
     "metadata": {},
     "output_type": "execute_result"
    }
   ],
   "execution_count": 7
  },
  {
   "metadata": {
    "ExecuteTime": {
     "end_time": "2024-11-13T12:15:23.125986Z",
     "start_time": "2024-11-13T12:14:54.931006Z"
    }
   },
   "cell_type": "code",
   "source": [
    "plogs = spark.read.csv('data/2019-2020_school_year/plogs.csv', header=True, inferSchema=True)\n",
    "print(plogs.count())\n",
    "\n",
    "plogs = plogs.select('assignment_id', 'problem_id').distinct()\n",
    "plogs.filter(plogs.assignment_id == 14101).select('assignment_id', 'problem_id').show()\n",
    "plogs.show(10)"
   ],
   "id": "b5b17f4108934198",
   "outputs": [
    {
     "name": "stdout",
     "output_type": "stream",
     "text": [
      "20752836\n",
      "+-------------+----------+\n",
      "|assignment_id|problem_id|\n",
      "+-------------+----------+\n",
      "|        14101|     43718|\n",
      "|        14101|     44022|\n",
      "|        14101|     43683|\n",
      "+-------------+----------+\n",
      "\n",
      "+-------------+----------+\n",
      "|assignment_id|problem_id|\n",
      "+-------------+----------+\n",
      "|        14000|   1322054|\n",
      "|        14138|   1469127|\n",
      "|        14040|    658671|\n",
      "|        14180|   1088882|\n",
      "|        14004|   1618042|\n",
      "|        14196|   1520113|\n",
      "|        13867|   1719799|\n",
      "|        13862|    896098|\n",
      "|        13866|   1719285|\n",
      "|        13707|   1469212|\n",
      "+-------------+----------+\n",
      "only showing top 10 rows\n",
      "\n"
     ]
    }
   ],
   "execution_count": 26
  },
  {
   "metadata": {
    "ExecuteTime": {
     "end_time": "2024-11-13T12:15:55.683533Z",
     "start_time": "2024-11-13T12:15:55.597955Z"
    }
   },
   "cell_type": "code",
   "source": "new_df.filter(new_df.problem_id == 44022).show()",
   "id": "33c5aec677165829",
   "outputs": [
    {
     "name": "stdout",
     "output_type": "stream",
     "text": [
      "+----------+------+---------------+--------------------+------------+-----------------+----------+-----+------+---------+\n",
      "|problem_id|skills|   problem_type|student_answer_count|mean_correct|mean_time_on_task|skill_code|grade|domain|subdomain|\n",
      "+----------+------+---------------+--------------------+------------+-----------------+----------+-----+------+---------+\n",
      "|     44022|      |Multiple Choice|                  29|         1.0|          262.763|      NULL| NULL|  NULL|     NULL|\n",
      "+----------+------+---------------+--------------------+------------+-----------------+----------+-----+------+---------+\n",
      "\n"
     ]
    }
   ],
   "execution_count": 27
  },
  {
   "metadata": {
    "ExecuteTime": {
     "end_time": "2024-11-13T12:16:39.002166Z",
     "start_time": "2024-11-13T12:16:38.925416Z"
    }
   },
   "cell_type": "code",
   "source": "new_df.filter(new_df.problem_id == 43683).show()",
   "id": "87c5f696567ac8f7",
   "outputs": [
    {
     "name": "stdout",
     "output_type": "stream",
     "text": [
      "+----------+------+---------------+--------------------+------------------+-----------------+----------+-----+------+---------+\n",
      "|problem_id|skills|   problem_type|student_answer_count|      mean_correct|mean_time_on_task|skill_code|grade|domain|subdomain|\n",
      "+----------+------+---------------+--------------------+------------------+-----------------+----------+-----+------+---------+\n",
      "|     43683|      |Multiple Choice|                  29|0.4482758620689655| 61.9871379310345|      NULL| NULL|  NULL|     NULL|\n",
      "+----------+------+---------------+--------------------+------------------+-----------------+----------+-----+------+---------+\n",
      "\n"
     ]
    }
   ],
   "execution_count": 29
  },
  {
   "metadata": {
    "ExecuteTime": {
     "end_time": "2024-11-13T11:55:32.758290Z",
     "start_time": "2024-11-13T11:55:32.581194Z"
    }
   },
   "cell_type": "code",
   "source": [
    "from pyspark.sql import Window\n",
    "from pyspark.sql.functions import count, desc, row_number\n",
    "\n",
    "# Filter out rows where subdomain is null, and collect rows needing processing\n",
    "rows_to_process = new_df.where(new_df.subdomain.isNull()).select('problem_id')\n",
    "rows_to_process = rows_to_process.withColumnRenamed('problem_id', 'no_skill_problem_id')\n",
    "no_skill_in_assignments = rows_to_process.join(plogs, rows_to_process.no_skill_problem_id == plogs.problem_id, 'left').drop('problem_id')\n",
    "\n",
    "new_df_has_skills = new_df.where(new_df.subdomain.isNotNull())\n",
    "plogs_has_skills = new_df_has_skills.join(plogs, plogs.problem_id == new_df_has_skills.problem_id, 'left').select('assignment_id', 'grade', 'domain', 'subdomain')\n",
    "\n",
    "no_skill_impute_data = no_skill_in_assignments.join(plogs_has_skills, no_skill_in_assignments.assignment_id == plogs_has_skills.assignment_id, 'left').drop('assignment_id')\n",
    "\n",
    "# Define a window partitioned by no_skill_problem_id and ordered by frequency in descending order\n",
    "window = Window.partitionBy(\"no_skill_problem_id\").orderBy(desc(\"count\"))\n",
    "\n",
    "# Count occurrences of each grade, domain, and subdomain per no_skill_problem_id\n",
    "df_counts = no_skill_impute_data.groupBy(\"no_skill_problem_id\", \"grade\", \"domain\", \"subdomain\").count()\n",
    "\n",
    "# Get the most frequent grade, domain, and subdomain for each no_skill_problem_id\n",
    "result = df_counts.withColumn(\"rank\", row_number().over(window)) \\\n",
    "                  .filter(col(\"rank\") == 1) \\\n",
    "                  .select(\"no_skill_problem_id\", \"grade\", \"domain\", \"subdomain\")\n"
   ],
   "id": "43545b7d4323edd9",
   "outputs": [],
   "execution_count": 9
  },
  {
   "metadata": {
    "ExecuteTime": {
     "end_time": "2024-11-13T11:58:02.939141Z",
     "start_time": "2024-11-13T11:58:02.929613Z"
    }
   },
   "cell_type": "code",
   "source": "result = result.withColumnsRenamed({'grade': 'impute_grade', 'domain': 'impute_domain', 'subdomain': 'impute_subdomain'})",
   "id": "915a11f8439577ce",
   "outputs": [],
   "execution_count": 13
  },
  {
   "metadata": {
    "ExecuteTime": {
     "end_time": "2024-11-13T12:01:11.319016Z",
     "start_time": "2024-11-13T12:00:56.487801Z"
    }
   },
   "cell_type": "code",
   "source": "result.select([count(when(col(c).isNull(), c)).alias(c) for c in result.columns]).show()",
   "id": "5eea8199eac81779",
   "outputs": [
    {
     "name": "stdout",
     "output_type": "stream",
     "text": [
      "+-------------------+------------+-------------+----------------+\n",
      "|no_skill_problem_id|impute_grade|impute_domain|impute_subdomain|\n",
      "+-------------------+------------+-------------+----------------+\n",
      "|                  0|       76652|        76652|           76652|\n",
      "+-------------------+------------+-------------+----------------+\n",
      "\n"
     ]
    }
   ],
   "execution_count": 18
  },
  {
   "metadata": {
    "ExecuteTime": {
     "end_time": "2024-11-13T12:01:44.470600Z",
     "start_time": "2024-11-13T12:01:30.075070Z"
    }
   },
   "cell_type": "code",
   "source": "result.count()",
   "id": "1ac4389270ec1a4f",
   "outputs": [
    {
     "data": {
      "text/plain": [
       "87875"
      ]
     },
     "execution_count": 19,
     "metadata": {},
     "output_type": "execute_result"
    }
   ],
   "execution_count": 19
  },
  {
   "metadata": {
    "ExecuteTime": {
     "end_time": "2024-11-13T11:58:23.534989Z",
     "start_time": "2024-11-13T11:58:04.967475Z"
    }
   },
   "cell_type": "code",
   "source": [
    "from pyspark.sql.functions import coalesce\n",
    "\n",
    "df_updated = new_df.join(result, new_df.problem_id == result.no_skill_problem_id, how='left').select(\n",
    "    *[new_df[col] for col in new_df.columns if col not in ['grade', 'domain', 'subdomain']],  # Select all columns except E and F\n",
    "    coalesce(result['impute_grade'], new_df['grade']).alias('grade'),  # Replace E with result.E if available\n",
    "    coalesce(result['impute_domain'], new_df['domain']).alias('domain'),   # Replace F with result.F if available\n",
    "    coalesce(result['impute_subdomain'], new_df['subdomain']).alias('subdomain') \n",
    ")\n",
    "df_updated.show(10)"
   ],
   "id": "9f96ebd438c6b114",
   "outputs": [
    {
     "name": "stdout",
     "output_type": "stream",
     "text": [
      "+----------+--------------------+--------------------+--------------------+-------------------+-----------------+-----------+-----+------+---------+\n",
      "|problem_id|              skills|        problem_type|student_answer_count|       mean_correct|mean_time_on_task| skill_code|grade|domain|subdomain|\n",
      "+----------+--------------------+--------------------+--------------------+-------------------+-----------------+-----------+-----+------+---------+\n",
      "|        16|             8.F.B.5|     Multiple Choice|                  16|              0.875|        62.389875|    8.F.B.5|    8|     F|        B|\n",
      "|        48|         5.NF.B.4a-1|     Multiple Choice|                   6|0.16666666666666666|             NULL|5.NF.B.4a-1|    5|    NF|        B|\n",
      "|        37|          8.NS.A.2-1|Exact Match (case...|                  28| 0.8571428571428571|             NULL| 8.NS.A.2-1|    8|    NS|        A|\n",
      "|        61|           7.G.B.5-2|Exact Match (case...|                  28| 0.6428571428571429| 398.008142857143|  7.G.B.5-2|    7|     G|        B|\n",
      "|        35|          8.NS.A.2-1|Exact Match (case...|                  34| 0.3235294117647059|             NULL| 8.NS.A.2-1|    8|    NS|        A|\n",
      "|        39|          8.NS.A.2-1|     Multiple Choice|                  26| 0.4230769230769231|             NULL| 8.NS.A.2-1|    8|    NS|        A|\n",
      "|        50|4.NF.A.1,5.NF.B.4a-1|Exact Match (case...|                   5|                0.4|             NULL|   4.NF.A.1|    4|    NF|        A|\n",
      "|        50|4.NF.A.1,5.NF.B.4a-1|Exact Match (case...|                   5|                0.4|             NULL|5.NF.B.4a-1|    5|    NF|        B|\n",
      "|        73|           7.G.B.5-1|Exact Match (case...|                   6|0.16666666666666666|             NULL|  7.G.B.5-1|    7|     G|        B|\n",
      "|        58|                    |     Multiple Choice|                   7| 0.7142857142857143|             NULL|       NULL|    7|     G|        B|\n",
      "+----------+--------------------+--------------------+--------------------+-------------------+-----------------+-----------+-----+------+---------+\n",
      "only showing top 10 rows\n",
      "\n"
     ]
    }
   ],
   "execution_count": 14
  },
  {
   "metadata": {
    "ExecuteTime": {
     "end_time": "2024-11-13T11:59:09.718751Z",
     "start_time": "2024-11-13T11:58:53.252103Z"
    }
   },
   "cell_type": "code",
   "source": "df_updated.count()",
   "id": "9b832ad502d9bb66",
   "outputs": [
    {
     "data": {
      "text/plain": [
       "141495"
      ]
     },
     "execution_count": 15,
     "metadata": {},
     "output_type": "execute_result"
    }
   ],
   "execution_count": 15
  },
  {
   "metadata": {
    "ExecuteTime": {
     "end_time": "2024-11-13T12:05:52.129196Z",
     "start_time": "2024-11-13T12:05:37.578479Z"
    }
   },
   "cell_type": "code",
   "source": [
    "df_updated = df_updated.drop('skills', 'skill_code')\n",
    "df_updated.select([count(when(col(c).isNull(), c)).alias(c) for c in df_updated.columns]).show()"
   ],
   "id": "3a70f5b8dc37cf50",
   "outputs": [
    {
     "name": "stdout",
     "output_type": "stream",
     "text": [
      "+----------+------------+--------------------+------------+-----------------+-----+------+---------+\n",
      "|problem_id|problem_type|student_answer_count|mean_correct|mean_time_on_task|grade|domain|subdomain|\n",
      "+----------+------------+--------------------+------------+-----------------+-----+------+---------+\n",
      "|         0|           0|                   0|       30883|             7707|76652| 76652|    76652|\n",
      "+----------+------------+--------------------+------------+-----------------+-----+------+---------+\n",
      "\n"
     ]
    }
   ],
   "execution_count": 20
  },
  {
   "metadata": {
    "ExecuteTime": {
     "end_time": "2024-11-13T12:08:25.254728Z",
     "start_time": "2024-11-13T12:08:10.513240Z"
    }
   },
   "cell_type": "code",
   "source": "df_updated.filter(df_updated.grade.isNull()).orderBy('problem_id').show()",
   "id": "925f60445770b8d0",
   "outputs": [
    {
     "name": "stdout",
     "output_type": "stream",
     "text": [
      "+----------+--------------------+--------------------+-------------------+-----------------+-----+------+---------+\n",
      "|problem_id|        problem_type|student_answer_count|       mean_correct|mean_time_on_task|grade|domain|subdomain|\n",
      "+----------+--------------------+--------------------+-------------------+-----------------+-----+------+---------+\n",
      "|     43683|     Multiple Choice|                  29| 0.4482758620689655| 61.9871379310345| NULL|  NULL|     NULL|\n",
      "|     43718|     Multiple Choice|                  29| 0.7241379310344828| 29.3214137931034| NULL|  NULL|     NULL|\n",
      "|     44022|     Multiple Choice|                  29|                1.0|          262.763| NULL|  NULL|     NULL|\n",
      "|     61089|Algebraic Expression|                 120| 0.7226890756302521| 111.104512605042| NULL|  NULL|     NULL|\n",
      "|     61090|Algebraic Expression|                 112| 0.5137614678899083| 133.204770642202| NULL|  NULL|     NULL|\n",
      "|     61092|Algebraic Expression|                   1|                1.0|            18.99| NULL|  NULL|     NULL|\n",
      "|     61094|Algebraic Expression|                 110| 0.3925233644859813|  232.40285046729| NULL|  NULL|     NULL|\n",
      "|     61095|Algebraic Expression|                 112|0.35514018691588783| 399.835726415094| NULL|  NULL|     NULL|\n",
      "|     61096|Algebraic Expression|                 111| 0.7927927927927928| 73.9761981981982| NULL|  NULL|     NULL|\n",
      "|     61097|Algebraic Expression|                 107| 0.9150943396226415| 37.5168490566038| NULL|  NULL|     NULL|\n",
      "|     61098|Algebraic Expression|                 105| 0.6699029126213593| 82.1850291262136| NULL|  NULL|     NULL|\n",
      "|     61099|Algebraic Expression|                  99| 0.6767676767676768| 123.821575757576| NULL|  NULL|     NULL|\n",
      "|     61100|Algebraic Expression|                  97| 0.6701030927835051| 105.294082474227| NULL|  NULL|     NULL|\n",
      "|     61101|Algebraic Expression|                 132| 0.4126984126984127| 227.792087301587| NULL|  NULL|     NULL|\n",
      "|     61102|Algebraic Expression|                 113| 0.6036036036036037| 164.906243243243| NULL|  NULL|     NULL|\n",
      "|     61103|Algebraic Expression|                 108| 0.5566037735849056| 267.647556603774| NULL|  NULL|     NULL|\n",
      "|     61104|Algebraic Expression|                 111|0.45454545454545453|         220.8687| NULL|  NULL|     NULL|\n",
      "|     61105|Algebraic Expression|                 124|0.38016528925619836| 236.976247933884| NULL|  NULL|     NULL|\n",
      "|     61107|Algebraic Expression|                   2|                0.5|         263.0505| NULL|  NULL|     NULL|\n",
      "|     61108|Algebraic Expression|                 131| 0.8031496062992126| 65.5726692913386| NULL|  NULL|     NULL|\n",
      "+----------+--------------------+--------------------+-------------------+-----------------+-----+------+---------+\n",
      "only showing top 20 rows\n",
      "\n"
     ]
    }
   ],
   "execution_count": 22
  },
  {
   "metadata": {
    "ExecuteTime": {
     "end_time": "2024-11-13T12:18:07.942317Z",
     "start_time": "2024-11-13T12:17:53.785616Z"
    }
   },
   "cell_type": "code",
   "source": "df_updated.filter(df_updated.grade.isNull()).count() ",
   "id": "fc8014905a79ab3c",
   "outputs": [
    {
     "data": {
      "text/plain": [
       "76652"
      ]
     },
     "execution_count": 32,
     "metadata": {},
     "output_type": "execute_result"
    }
   ],
   "execution_count": 32
  },
  {
   "metadata": {},
   "cell_type": "code",
   "outputs": [],
   "execution_count": null,
   "source": "",
   "id": "3ccd1782e7e03a36"
  }
 ],
 "metadata": {
  "kernelspec": {
   "display_name": "Python 3",
   "language": "python",
   "name": "python3"
  },
  "language_info": {
   "codemirror_mode": {
    "name": "ipython",
    "version": 2
   },
   "file_extension": ".py",
   "mimetype": "text/x-python",
   "name": "python",
   "nbconvert_exporter": "python",
   "pygments_lexer": "ipython2",
   "version": "2.7.6"
  }
 },
 "nbformat": 4,
 "nbformat_minor": 5
}
