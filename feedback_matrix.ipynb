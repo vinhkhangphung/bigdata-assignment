{
 "cells": [
  {
   "cell_type": "code",
   "id": "initial_id",
   "metadata": {
    "collapsed": true,
    "ExecuteTime": {
     "end_time": "2024-11-19T07:26:37.765424Z",
     "start_time": "2024-11-19T07:26:11.428058Z"
    }
   },
   "source": [
    "from pyspark.sql import SparkSession\n",
    "from pyspark.sql.functions import col\n",
    "\n",
    "import os\n",
    "import sys\n",
    "\n",
    "from pyspark.sql.types import StringType\n",
    "\n",
    "os.environ['PYSPARK_PYTHON'] = sys.executable\n",
    "os.environ['PYSPARK_DRIVER_PYTHON'] = sys.executable\n",
    "\n",
    "# Initialize Spark session\n",
    "\n",
    "spark = (SparkSession.builder.appName(\"DataProcessingApp\")\n",
    "         .config(\"spark.executor.memory\", \"12g\")\n",
    "         .config(\"spark.driver.memory\", \"12g\")\n",
    "         .getOrCreate())\n",
    "spark.sparkContext.setLogLevel(\"DEBUG\")\n",
    "\n",
    "# Read the CSV file into a DataFrame\n",
    "problem_df = spark.read.csv('data/2019-2020_school_year/pdets_no_null.csv', header=True, inferSchema=True)\n",
    "problem_df = problem_df.dropna()\n",
    "\n",
    "plogs = spark.read.csv('data/2019-2020_school_year/plogs.csv', header=True, inferSchema=True)\n",
    "\n",
    "# Describe the DataFrame and format the output\n",
    "problem_df.show()"
   ],
   "outputs": [
    {
     "name": "stdout",
     "output_type": "stream",
     "text": [
      "+----------+--------------------+--------------------+------------------+-----------------+-----+------+---------+\n",
      "|problem_id|        problem_type|student_answer_count|      mean_correct|mean_time_on_task|grade|domain|subdomain|\n",
      "+----------+--------------------+--------------------+------------------+-----------------+-----+------+---------+\n",
      "|     47084|Algebraic Expression|                   5|               0.4|         353.5066|    6|    SP|        B|\n",
      "|     54190|Algebraic Expression|                  55|0.9444444444444444| 22.6090925925926|    7|    NS|        A|\n",
      "|     65251|     Multiple Choice|                  43| 0.627906976744186| 73.4248837209302|    4|    NF|        A|\n",
      "|     71510|     Multiple Choice|                  12|0.8333333333333334| 167.459083333333|    8|     G|        A|\n",
      "|     71527|     Multiple Choice|                  26|0.7692307692307693| 33.5521923076923|    8|     G|        A|\n",
      "|     75122|     Multiple Choice|                   8|               1.0| 546.341857142857|    8|     F|        B|\n",
      "|     75294|Algebraic Expression|                 135| 0.917910447761194| 57.6879402985075|    6|     G|        A|\n",
      "|     87616|Algebraic Expression|                  67|0.8059701492537313| 55.4711194029851|    7|    EE|        B|\n",
      "|     87724|Algebraic Expression|                   4|              0.75|         97.09575|    6|    RP|        A|\n",
      "|     89385|Algebraic Expression|                  61|0.7333333333333333| 191.032915254237|    7|     G|        B|\n",
      "|     90019|Algebraic Expression|                  25|              0.76|         72.51152|    7|    NS|        A|\n",
      "|     90228|Algebraic Expression|                  27|0.8888888888888888| 22.2582962962963|    7|    NS|        A|\n",
      "|     91141|Algebraic Expression|                   2|               0.5|           283.03|    6|    SP|        B|\n",
      "|     91299|Algebraic Expression|                   5|               0.4|         937.7968|    3|    MD|        D|\n",
      "|     94695|     Multiple Choice|                  22|0.5909090909090909| 42.2149545454545|    8|    EE|        C|\n",
      "|    109068|     Multiple Choice|                  59|0.9152542372881356| 43.2870847457627|    7|    SP|        C|\n",
      "|    111515|Check All That Apply|                 216| 0.786046511627907| 150.071381395349|    3|    MD|        C|\n",
      "|    114206|Check All That Apply|                   8|              0.75|        76.536375|    8|     F|        A|\n",
      "|    121749|     Multiple Choice|                  24|0.5416666666666666| 78.4329166666667|    4|   NBT|        B|\n",
      "|    121854|     Multiple Choice|                  31|0.3793103448275862|         166.1597|    4|   NBT|        B|\n",
      "+----------+--------------------+--------------------+------------------+-----------------+-----+------+---------+\n",
      "only showing top 20 rows\n",
      "\n"
     ]
    }
   ],
   "execution_count": 1
  },
  {
   "metadata": {
    "ExecuteTime": {
     "end_time": "2024-11-19T07:26:38.877488Z",
     "start_time": "2024-11-19T07:26:37.832854Z"
    }
   },
   "cell_type": "code",
   "source": [
    "from pyspark.sql.functions import isnan, when, count\n",
    "problem_df.select([count(when(col(c).isNull(), c)).alias(c) for c in problem_df.columns]).show()"
   ],
   "id": "39e628537773dd12",
   "outputs": [
    {
     "name": "stdout",
     "output_type": "stream",
     "text": [
      "+----------+------------+--------------------+------------+-----------------+-----+------+---------+\n",
      "|problem_id|problem_type|student_answer_count|mean_correct|mean_time_on_task|grade|domain|subdomain|\n",
      "+----------+------------+--------------------+------------+-----------------+-----+------+---------+\n",
      "|         0|           0|                   0|           0|                0|    0|     0|        0|\n",
      "+----------+------------+--------------------+------------+-----------------+-----+------+---------+\n",
      "\n"
     ]
    }
   ],
   "execution_count": 2
  },
  {
   "metadata": {
    "ExecuteTime": {
     "end_time": "2024-11-19T07:26:41.266003Z",
     "start_time": "2024-11-19T07:26:39.307777Z"
    }
   },
   "cell_type": "code",
   "source": "problem_df.describe().show()",
   "id": "b25f64a21d884c17",
   "outputs": [
    {
     "name": "stdout",
     "output_type": "stream",
     "text": [
      "+-------+-----------------+--------------------+--------------------+------------------+------------------+-----------------+------+---------+\n",
      "|summary|       problem_id|        problem_type|student_answer_count|      mean_correct| mean_time_on_task|            grade|domain|subdomain|\n",
      "+-------+-----------------+--------------------+--------------------+------------------+------------------+-----------------+------+---------+\n",
      "|  count|            47709|               47709|               47709|             47709|             47709|            47709| 47709|    47709|\n",
      "|   mean|862295.5115387033|                NULL|  155.63377978997673| 0.651990152511452|123.77270059773669|5.808191299923683|  NULL|     NULL|\n",
      "| stddev|564394.0460591534|                NULL|   284.7886485738366|0.2363646223092889|127.52519217089224|1.910221914335783|  NULL|     NULL|\n",
      "|    min|                5|Algebraic Expression|                   1|               0.0|             0.003|                1|   APR|        A|\n",
      "|    max|          1867725|Ungraded Open Res...|                3180|               1.0|          3512.113|              HSS|   SSE|        D|\n",
      "+-------+-----------------+--------------------+--------------------+------------------+------------------+-----------------+------+---------+\n",
      "\n"
     ]
    }
   ],
   "execution_count": 3
  },
  {
   "metadata": {
    "ExecuteTime": {
     "end_time": "2024-11-19T07:26:42.299053Z",
     "start_time": "2024-11-19T07:26:41.311096Z"
    }
   },
   "cell_type": "code",
   "source": [
    "# Count the occurrences of each unique combination of grade, domain, and subdomain\n",
    "unique_combination = problem_df.groupBy(['grade', 'domain', 'subdomain']).count()\n",
    "unique_combination.show()"
   ],
   "id": "25021bf66c9de1ec",
   "outputs": [
    {
     "name": "stdout",
     "output_type": "stream",
     "text": [
      "+-----+------+---------+-----+\n",
      "|grade|domain|subdomain|count|\n",
      "+-----+------+---------+-----+\n",
      "|    8|     F|        A|  652|\n",
      "|    7|    SP|        A|  103|\n",
      "|    5|     G|        B|  387|\n",
      "|    6|    NS|        C|  642|\n",
      "|    3|    NF|        A|  799|\n",
      "|    6|    SP|        A|  195|\n",
      "|    6|    EE|        A| 1008|\n",
      "|    4|    NF|        A|  522|\n",
      "|  HSA|   APR|        A|    7|\n",
      "|    5|    OA|        A|   89|\n",
      "|  HSA|   REI|        D|   55|\n",
      "|  HSN|    RN|        A|   25|\n",
      "|    4|    NF|        C|  242|\n",
      "|    1|   NBT|        B|   21|\n",
      "|    4|     G|        A|  376|\n",
      "|    6|    SP|        B| 1229|\n",
      "|    7|    RP|        A| 2856|\n",
      "|    6|    EE|        B|  233|\n",
      "|    6|    NS|        A|  323|\n",
      "|    3|    MD|        C|  521|\n",
      "+-----+------+---------+-----+\n",
      "only showing top 20 rows\n",
      "\n"
     ]
    }
   ],
   "execution_count": 4
  },
  {
   "metadata": {
    "ExecuteTime": {
     "end_time": "2024-11-19T07:26:42.871706Z",
     "start_time": "2024-11-19T07:26:42.341817Z"
    }
   },
   "cell_type": "code",
   "source": [
    "# Count the number of unique combinations of grade, domain, and subdomain\n",
    "unique_combination.count()"
   ],
   "id": "de5266b6214425",
   "outputs": [
    {
     "data": {
      "text/plain": [
       "98"
      ]
     },
     "execution_count": 5,
     "metadata": {},
     "output_type": "execute_result"
    }
   ],
   "execution_count": 5
  },
  {
   "metadata": {
    "ExecuteTime": {
     "end_time": "2024-11-19T07:26:42.898374Z",
     "start_time": "2024-11-19T07:26:42.892711Z"
    }
   },
   "cell_type": "code",
   "source": [
    "# Function to rename columns\n",
    "def rename_columns(input_df):\n",
    "    new_columns = [\n",
    "        column.replace(column[:3], \"9\") if column.startswith(\"HS\") else column\n",
    "        for column in input_df.columns\n",
    "    ]\n",
    "    return input_df.toDF(*new_columns)"
   ],
   "id": "78361d83739b663b",
   "outputs": [],
   "execution_count": 6
  },
  {
   "metadata": {
    "ExecuteTime": {
     "end_time": "2024-11-19T07:27:00.176103Z",
     "start_time": "2024-11-19T07:26:42.930908Z"
    }
   },
   "cell_type": "code",
   "source": [
    "from pyspark.sql.functions import (mean, concat_ws, first)\n",
    "\n",
    "df = plogs.join(problem_df, plogs['problem_id'] == problem_df['problem_id'], 'inner')\n",
    "mean_correct_df = (\n",
    "    df.groupBy(\"student_id\", \"grade\", \"domain\", \"subdomain\")\n",
    "    .agg(mean(\"mean_correct\").alias(\"mean_correct\"))\n",
    "    .withColumn(\"grade_domain_subdomain\", \n",
    "                concat_ws(\"_\", \"grade\", \"domain\", \"subdomain\"))\n",
    ")\n",
    "\n",
    "feedback_matrix = (\n",
    "    mean_correct_df\n",
    "    .groupBy(\"student_id\")\n",
    "    .pivot(\"grade_domain_subdomain\")\n",
    "    .agg(first(\"mean_correct\"))\n",
    ")\n",
    "\n",
    "feedback_matrix.sort('student_id').show(10)"
   ],
   "id": "acc2ec365b89541f",
   "outputs": [
    {
     "name": "stdout",
     "output_type": "stream",
     "text": [
      "+----------+-----+------+-------+-------+-------+------+------+------+------+-----+------+------+------+------+------------------+-------+------+------+------+-----+------+------+------+------+-------+------+------+------+------+------+-----+------+------+------+-------+-------+------+------+------+------+------+------------------+-----+-----+------+------+------+-------+-------+------+------+------+------+------+------+------+-----+------------------+------+------+------+------+------+------+------+-----+-----+------------------+------+------+------+------------------+------+------+------+-----+-----+-----+-----+-----+------+------+---------+---------+---------+---------+---------+---------+---------+---------+--------+--------+--------+---------+---------+---------+--------+--------+\n",
      "|student_id|1_G_A|1_MD_A|1_NBT_A|1_NBT_B|1_NBT_C|1_OA_A|1_OA_B|1_OA_C|1_OA_D|2_G_A|2_MD_A|2_MD_B|2_MD_C|2_MD_D|           2_NBT_A|2_NBT_B|2_OA_A|2_OA_B|2_OA_C|3_G_A|3_MD_A|3_MD_B|3_MD_C|3_MD_D|3_NBT_A|3_NF_A|3_OA_A|3_OA_B|3_OA_C|3_OA_D|4_G_A|4_MD_A|4_MD_B|4_MD_C|4_NBT_A|4_NBT_B|4_NF_A|4_NF_B|4_NF_C|4_OA_A|4_OA_B|            4_OA_C|5_G_A|5_G_B|5_MD_A|5_MD_B|5_MD_C|5_NBT_A|5_NBT_B|5_NF_A|5_NF_B|5_OA_A|5_OA_B|6_EE_A|6_EE_B|6_EE_C|6_G_A|            6_NS_A|6_NS_B|6_NS_C|6_RP_A|6_SP_A|6_SP_B|7_EE_A|7_EE_B|7_G_A|7_G_B|            7_NS_A|7_RP_A|7_SP_A|7_SP_B|            7_SP_C|8_EE_A|8_EE_B|8_EE_C|8_F_A|8_F_B|8_G_A|8_G_B|8_G_C|8_NS_A|8_SP_A|HSA_APR_A|HSA_CED_A|HSA_REI_A|HSA_REI_B|HSA_REI_C|HSA_REI_D|HSA_SSE_A|HSA_SSE_B|HSF_IF_A|HSF_IF_B|HSF_LE_A|HSG_GPE_B|HSG_SRT_A|HSG_SRT_B|HSN_RN_A|HSS_CP_B|\n",
      "+----------+-----+------+-------+-------+-------+------+------+------+------+-----+------+------+------+------+------------------+-------+------+------+------+-----+------+------+------+------+-------+------+------+------+------+------+-----+------+------+------+-------+-------+------+------+------+------+------+------------------+-----+-----+------+------+------+-------+-------+------+------+------+------+------+------+------+-----+------------------+------+------+------+------+------+------+------+-----+-----+------------------+------+------+------+------------------+------+------+------+-----+-----+-----+-----+-----+------+------+---------+---------+---------+---------+---------+---------+---------+---------+--------+--------+--------+---------+---------+---------+--------+--------+\n",
      "|        16| NULL|  NULL|   NULL|   NULL|   NULL|  NULL|  NULL|  NULL|  NULL| NULL|  NULL|  NULL|  NULL|  NULL|0.7762567298372925|   NULL|  NULL|  NULL|  NULL| NULL|  NULL|  NULL|  NULL|  NULL|   NULL|  NULL|  NULL|  NULL|  NULL|  NULL| NULL|  NULL|  NULL|  NULL|   NULL|   NULL|  NULL|  NULL|  NULL|  NULL|  NULL|0.5584091838636528| NULL| NULL|  NULL|  NULL|  NULL|   NULL|   NULL|  NULL|  NULL|  NULL|  NULL|  NULL|  NULL|  NULL| NULL|              NULL|  NULL|  NULL|  NULL|  NULL|  NULL|  NULL|  NULL| NULL| NULL|              NULL|  NULL|  NULL|  NULL|              NULL|  NULL|  NULL|  NULL| NULL| NULL| NULL| NULL| NULL|  NULL|  NULL|     NULL|     NULL|     NULL|     NULL|     NULL|     NULL|     NULL|     NULL|    NULL|    NULL|    NULL|     NULL|     NULL|     NULL|    NULL|    NULL|\n",
      "|       124| NULL|  NULL|   NULL|   NULL|   NULL|  NULL|  NULL|  NULL|  NULL| NULL|  NULL|  NULL|  NULL|  NULL|              NULL|   NULL|  NULL|  NULL|  NULL| NULL|  NULL|  NULL|  NULL|  NULL|   NULL|  NULL|  NULL|  NULL|  NULL|  NULL| NULL|  NULL|  NULL|  NULL|   NULL|   NULL|  NULL|  NULL|  NULL|  NULL|  NULL|              NULL| NULL| NULL|  NULL|  NULL|  NULL|   NULL|   NULL|  NULL|  NULL|  NULL|  NULL|  NULL|  NULL|  NULL| NULL|0.6700278917473215|  NULL|  NULL|  NULL|  NULL|  NULL|  NULL|  NULL| NULL| NULL|              NULL|  NULL|  NULL|  NULL|              NULL|  NULL|  NULL|  NULL| NULL| NULL| NULL| NULL| NULL|  NULL|  NULL|     NULL|     NULL|     NULL|     NULL|     NULL|     NULL|     NULL|     NULL|    NULL|    NULL|    NULL|     NULL|     NULL|     NULL|    NULL|    NULL|\n",
      "|       139| NULL|  NULL|   NULL|   NULL|   NULL|  NULL|  NULL|  NULL|  NULL| NULL|  NULL|  NULL|  NULL|  NULL|              NULL|   NULL|  NULL|  NULL|  NULL| NULL|  NULL|  NULL|  NULL|  NULL|   NULL|  NULL|  NULL|  NULL|  NULL|  NULL| NULL|  NULL|  NULL|  NULL|   NULL|   NULL|  NULL|  NULL|  NULL|  NULL|  NULL|              NULL| NULL| NULL|  NULL|  NULL|  NULL|   NULL|   NULL|  NULL|  NULL|  NULL|  NULL|  NULL|  NULL|  NULL| NULL|              NULL|  NULL|  NULL|  NULL|  NULL|  NULL|  NULL|  NULL| NULL| NULL|0.7092429379555426|  NULL|  NULL|  NULL|0.6397658124001689|  NULL|  NULL|  NULL| NULL| NULL| NULL| NULL| NULL|  NULL|  NULL|     NULL|     NULL|     NULL|     NULL|     NULL|     NULL|     NULL|     NULL|    NULL|    NULL|    NULL|     NULL|     NULL|     NULL|    NULL|    NULL|\n",
      "|       140| NULL|  NULL|   NULL|   NULL|   NULL|  NULL|  NULL|  NULL|  NULL| NULL|  NULL|  NULL|  NULL|  NULL|              NULL|   NULL|  NULL|  NULL|  NULL| NULL|  NULL|  NULL|  NULL|  NULL|   NULL|  NULL|  NULL|  NULL|  NULL|  NULL| NULL|  NULL|  NULL|  NULL|   NULL|   NULL|  NULL|  NULL|  NULL|  NULL|  NULL|              NULL| NULL| NULL|  NULL|  NULL|  NULL|   NULL|   NULL|  NULL|  NULL|  NULL|  NULL|  NULL|  NULL|  NULL| NULL|              NULL|  NULL|  NULL|  NULL|  NULL|  NULL|  NULL|  NULL| NULL| NULL|0.6549954926751472|  NULL|  NULL|  NULL|0.6048459335327581|  NULL|  NULL|  NULL| NULL| NULL| NULL| NULL| NULL|  NULL|  NULL|     NULL|     NULL|     NULL|     NULL|     NULL|     NULL|     NULL|     NULL|    NULL|    NULL|    NULL|     NULL|     NULL|     NULL|    NULL|    NULL|\n",
      "|       141| NULL|  NULL|   NULL|   NULL|   NULL|  NULL|  NULL|  NULL|  NULL| NULL|  NULL|  NULL|  NULL|  NULL|              NULL|   NULL|  NULL|  NULL|  NULL| NULL|  NULL|  NULL|  NULL|  NULL|   NULL|  NULL|  NULL|  NULL|  NULL|  NULL| NULL|  NULL|  NULL|  NULL|   NULL|   NULL|  NULL|  NULL|  NULL|  NULL|  NULL|              NULL| NULL| NULL|  NULL|  NULL|  NULL|   NULL|   NULL|  NULL|  NULL|  NULL|  NULL|  NULL|  NULL|  NULL| NULL|              NULL|  NULL|  NULL|  NULL|  NULL|  NULL|  NULL|  NULL| NULL| NULL|0.5928766379846904|  NULL|  NULL|  NULL|0.6169012425291744|  NULL|  NULL|  NULL| NULL| NULL| NULL| NULL| NULL|  NULL|  NULL|     NULL|     NULL|     NULL|     NULL|     NULL|     NULL|     NULL|     NULL|    NULL|    NULL|    NULL|     NULL|     NULL|     NULL|    NULL|    NULL|\n",
      "|       142| NULL|  NULL|   NULL|   NULL|   NULL|  NULL|  NULL|  NULL|  NULL| NULL|  NULL|  NULL|  NULL|  NULL|              NULL|   NULL|  NULL|  NULL|  NULL| NULL|  NULL|  NULL|  NULL|  NULL|   NULL|  NULL|  NULL|  NULL|  NULL|  NULL| NULL|  NULL|  NULL|  NULL|   NULL|   NULL|  NULL|  NULL|  NULL|  NULL|  NULL|              NULL| NULL| NULL|  NULL|  NULL|  NULL|   NULL|   NULL|  NULL|  NULL|  NULL|  NULL|  NULL|  NULL|  NULL| NULL|              NULL|  NULL|  NULL|  NULL|  NULL|  NULL|  NULL|  NULL| NULL| NULL|0.6718902294338328|  NULL|  NULL|  NULL|0.6068108836892405|  NULL|  NULL|  NULL| NULL| NULL| NULL| NULL| NULL|  NULL|  NULL|     NULL|     NULL|     NULL|     NULL|     NULL|     NULL|     NULL|     NULL|    NULL|    NULL|    NULL|     NULL|     NULL|     NULL|    NULL|    NULL|\n",
      "|       143| NULL|  NULL|   NULL|   NULL|   NULL|  NULL|  NULL|  NULL|  NULL| NULL|  NULL|  NULL|  NULL|  NULL|              NULL|   NULL|  NULL|  NULL|  NULL| NULL|  NULL|  NULL|  NULL|  NULL|   NULL|  NULL|  NULL|  NULL|  NULL|  NULL| NULL|  NULL|  NULL|  NULL|   NULL|   NULL|  NULL|  NULL|  NULL|  NULL|  NULL|              NULL| NULL| NULL|  NULL|  NULL|  NULL|   NULL|   NULL|  NULL|  NULL|  NULL|  NULL|  NULL|  NULL|  NULL| NULL|              NULL|  NULL|  NULL|  NULL|  NULL|  NULL|  NULL|  NULL| NULL| NULL|0.8146177809729211|  NULL|  NULL|  NULL|0.5826062196295101|  NULL|  NULL|  NULL| NULL| NULL| NULL| NULL| NULL|  NULL|  NULL|     NULL|     NULL|     NULL|     NULL|     NULL|     NULL|     NULL|     NULL|    NULL|    NULL|    NULL|     NULL|     NULL|     NULL|    NULL|    NULL|\n",
      "|       144| NULL|  NULL|   NULL|   NULL|   NULL|  NULL|  NULL|  NULL|  NULL| NULL|  NULL|  NULL|  NULL|  NULL|              NULL|   NULL|  NULL|  NULL|  NULL| NULL|  NULL|  NULL|  NULL|  NULL|   NULL|  NULL|  NULL|  NULL|  NULL|  NULL| NULL|  NULL|  NULL|  NULL|   NULL|   NULL|  NULL|  NULL|  NULL|  NULL|  NULL|              NULL| NULL| NULL|  NULL|  NULL|  NULL|   NULL|   NULL|  NULL|  NULL|  NULL|  NULL|  NULL|  NULL|  NULL| NULL|              NULL|  NULL|  NULL|  NULL|  NULL|  NULL|  NULL|  NULL| NULL| NULL|0.6829239088954163|  NULL|  NULL|  NULL|0.6278237577505772|  NULL|  NULL|  NULL| NULL| NULL| NULL| NULL| NULL|  NULL|  NULL|     NULL|     NULL|     NULL|     NULL|     NULL|     NULL|     NULL|     NULL|    NULL|    NULL|    NULL|     NULL|     NULL|     NULL|    NULL|    NULL|\n",
      "|       145| NULL|  NULL|   NULL|   NULL|   NULL|  NULL|  NULL|  NULL|  NULL| NULL|  NULL|  NULL|  NULL|  NULL|              NULL|   NULL|  NULL|  NULL|  NULL| NULL|  NULL|  NULL|  NULL|  NULL|   NULL|  NULL|  NULL|  NULL|  NULL|  NULL| NULL|  NULL|  NULL|  NULL|   NULL|   NULL|  NULL|  NULL|  NULL|  NULL|  NULL|              NULL| NULL| NULL|  NULL|  NULL|  NULL|   NULL|   NULL|  NULL|  NULL|  NULL|  NULL|  NULL|  NULL|  NULL| NULL|              NULL|  NULL|  NULL|  NULL|  NULL|  NULL|  NULL|  NULL| NULL| NULL|              NULL|  NULL|  NULL|  NULL|0.7911554570091156|  NULL|  NULL|  NULL| NULL| NULL| NULL| NULL| NULL|  NULL|  NULL|     NULL|     NULL|     NULL|     NULL|     NULL|     NULL|     NULL|     NULL|    NULL|    NULL|    NULL|     NULL|     NULL|     NULL|    NULL|    NULL|\n",
      "|       146| NULL|  NULL|   NULL|   NULL|   NULL|  NULL|  NULL|  NULL|  NULL| NULL|  NULL|  NULL|  NULL|  NULL|              NULL|   NULL|  NULL|  NULL|  NULL| NULL|  NULL|  NULL|  NULL|  NULL|   NULL|  NULL|  NULL|  NULL|  NULL|  NULL| NULL|  NULL|  NULL|  NULL|   NULL|   NULL|  NULL|  NULL|  NULL|  NULL|  NULL|              NULL| NULL| NULL|  NULL|  NULL|  NULL|   NULL|   NULL|  NULL|  NULL|  NULL|  NULL|  NULL|  NULL|  NULL| NULL|              NULL|  NULL|  NULL|  NULL|  NULL|  NULL|  NULL|  NULL| NULL| NULL|0.5753574698743978|  NULL|  NULL|  NULL|0.5616839192196093|  NULL|  NULL|  NULL| NULL| NULL| NULL| NULL| NULL|  NULL|  NULL|     NULL|     NULL|     NULL|     NULL|     NULL|     NULL|     NULL|     NULL|    NULL|    NULL|    NULL|     NULL|     NULL|     NULL|    NULL|    NULL|\n",
      "+----------+-----+------+-------+-------+-------+------+------+------+------+-----+------+------+------+------+------------------+-------+------+------+------+-----+------+------+------+------+-------+------+------+------+------+------+-----+------+------+------+-------+-------+------+------+------+------+------+------------------+-----+-----+------+------+------+-------+-------+------+------+------+------+------+------+------+-----+------------------+------+------+------+------+------+------+------+-----+-----+------------------+------+------+------+------------------+------+------+------+-----+-----+-----+-----+-----+------+------+---------+---------+---------+---------+---------+---------+---------+---------+--------+--------+--------+---------+---------+---------+--------+--------+\n",
      "only showing top 10 rows\n",
      "\n"
     ]
    }
   ],
   "execution_count": 7
  },
  {
   "metadata": {
    "ExecuteTime": {
     "end_time": "2024-11-19T07:27:08.624368Z",
     "start_time": "2024-11-19T07:27:00.218222Z"
    }
   },
   "cell_type": "code",
   "source": [
    "from pyspark.sql.functions import col, lit\n",
    "\n",
    "hs_columns = [col for col in feedback_matrix.columns if col.startswith('HS')]\n",
    "condition = lit(False)\n",
    "for col in hs_columns:\n",
    "    condition = condition | feedback_matrix[col].isNotNull()\n",
    "\n",
    "# Apply filter\n",
    "filtered_df = feedback_matrix.filter(condition)\n",
    "filtered_df.show()"
   ],
   "id": "53bef701152079f3",
   "outputs": [
    {
     "name": "stdout",
     "output_type": "stream",
     "text": [
      "+----------+-----+------+-------+-------+-------+------+------+------+------+-----+------+------+------+------+-------+-------+------+------+------+-----+------+------+------------------+------+-------+------+------+------+------+------+-----+------+------+------+-------+-------+------+------+------+------+------+------+-----+------------------+------------------+------+------------------+-------+------------------+------+------+------+------+------------------+------------------+------------------+------------------+------+------------------+-------------------+-------------------+------------------+------------------+------------------+------------------+-------------------+------------------+------------------+-------------------+------------------+------+------------------+------------------+------------------+------------------+------------------+------------------+------------------+------------------+------------------+------------------+------+------------------+------------------+---------+------------------+---------+---------+------------------+---------+--------+--------+--------+------------------+------------------+---------+------------------+--------+\n",
      "|student_id|1_G_A|1_MD_A|1_NBT_A|1_NBT_B|1_NBT_C|1_OA_A|1_OA_B|1_OA_C|1_OA_D|2_G_A|2_MD_A|2_MD_B|2_MD_C|2_MD_D|2_NBT_A|2_NBT_B|2_OA_A|2_OA_B|2_OA_C|3_G_A|3_MD_A|3_MD_B|            3_MD_C|3_MD_D|3_NBT_A|3_NF_A|3_OA_A|3_OA_B|3_OA_C|3_OA_D|4_G_A|4_MD_A|4_MD_B|4_MD_C|4_NBT_A|4_NBT_B|4_NF_A|4_NF_B|4_NF_C|4_OA_A|4_OA_B|4_OA_C|5_G_A|             5_G_B|            5_MD_A|5_MD_B|            5_MD_C|5_NBT_A|           5_NBT_B|5_NF_A|5_NF_B|5_OA_A|5_OA_B|            6_EE_A|            6_EE_B|            6_EE_C|             6_G_A|6_NS_A|            6_NS_B|             6_NS_C|             6_RP_A|            6_SP_A|            6_SP_B|            7_EE_A|            7_EE_B|              7_G_A|             7_G_B|            7_NS_A|             7_RP_A|            7_SP_A|7_SP_B|            7_SP_C|            8_EE_A|            8_EE_B|            8_EE_C|             8_F_A|             8_F_B|             8_G_A|             8_G_B|             8_G_C|            8_NS_A|8_SP_A|         HSA_APR_A|         HSA_CED_A|HSA_REI_A|         HSA_REI_B|HSA_REI_C|HSA_REI_D|         HSA_SSE_A|HSA_SSE_B|HSF_IF_A|HSF_IF_B|HSF_LE_A|         HSG_GPE_B|         HSG_SRT_A|HSG_SRT_B|          HSN_RN_A|HSS_CP_B|\n",
      "+----------+-----+------+-------+-------+-------+------+------+------+------+-----+------+------+------+------+-------+-------+------+------+------+-----+------+------+------------------+------+-------+------+------+------+------+------+-----+------+------+------+-------+-------+------+------+------+------+------+------+-----+------------------+------------------+------+------------------+-------+------------------+------+------+------+------+------------------+------------------+------------------+------------------+------+------------------+-------------------+-------------------+------------------+------------------+------------------+------------------+-------------------+------------------+------------------+-------------------+------------------+------+------------------+------------------+------------------+------------------+------------------+------------------+------------------+------------------+------------------+------------------+------+------------------+------------------+---------+------------------+---------+---------+------------------+---------+--------+--------+--------+------------------+------------------+---------+------------------+--------+\n",
      "|     74757| NULL|  NULL|   NULL|   NULL|   NULL|  NULL|  NULL|  NULL|  NULL| NULL|  NULL|  NULL|  NULL|  NULL|   NULL|   NULL|  NULL|  NULL|  NULL| NULL|  NULL|  NULL|0.7850467289719626|  NULL|   NULL|  NULL|  NULL|  NULL|  NULL|  NULL| NULL|  NULL|  NULL|  NULL|   NULL|   NULL|  NULL|  NULL|  NULL|  NULL|  NULL|  NULL| NULL|              NULL|0.6850314889788574|  NULL|              NULL|   NULL|              NULL|  NULL|  NULL|  NULL|  NULL|              NULL| 0.597321346946013|              NULL|0.5421360593062877|  NULL|              NULL|               NULL|0.23737373737373738|              NULL|              NULL|              NULL|              NULL|0.44328127992213306|0.5340310822324998|              NULL| 0.4176156034782653|              NULL|  NULL|              NULL|              NULL|              NULL|              NULL|              NULL|              NULL|              NULL|              NULL|              NULL|              NULL|  NULL|              NULL|0.1663440245396486|     NULL|              NULL|     NULL|     NULL|              NULL|     NULL|    NULL|    NULL|    NULL|              NULL|              NULL|     NULL|              NULL|    NULL|\n",
      "|    100800| NULL|  NULL|   NULL|   NULL|   NULL|  NULL|  NULL|  NULL|  NULL| NULL|  NULL|  NULL|  NULL|  NULL|   NULL|   NULL|  NULL|  NULL|  NULL| NULL|  NULL|  NULL|              NULL|  NULL|   NULL|  NULL|  NULL|  NULL|  NULL|  NULL| NULL|  NULL|  NULL|  NULL|   NULL|   NULL|  NULL|  NULL|  NULL|  NULL|  NULL|  NULL| NULL|              NULL|              NULL|  NULL|              NULL|   NULL|              NULL|  NULL|  NULL|  NULL|  NULL|              NULL|              NULL|              NULL|              NULL|  NULL|0.6870864290460282| 0.6842614527058065| 0.7085572415836295|              NULL|              NULL|              NULL|              NULL|               NULL|              NULL|0.5411190759830531|0.48166023166023164|              NULL|  NULL|              NULL|              NULL|              NULL|              NULL|              NULL|              NULL|              NULL|              NULL|              NULL|              NULL|  NULL|              NULL|              NULL|     NULL|              NULL|     NULL|     NULL|              NULL|     NULL|    NULL|    NULL|    NULL|0.6026013467680453|              NULL|     NULL|              NULL|    NULL|\n",
      "|     74251| NULL|  NULL|   NULL|   NULL|   NULL|  NULL|  NULL|  NULL|  NULL| NULL|  NULL|  NULL|  NULL|  NULL|   NULL|   NULL|  NULL|  NULL|  NULL| NULL|  NULL|  NULL|0.7850467289719626|  NULL|   NULL|  NULL|  NULL|  NULL|  NULL|  NULL| NULL|  NULL|  NULL|  NULL|   NULL|   NULL|  NULL|  NULL|  NULL|  NULL|  NULL|  NULL| NULL|              NULL|0.8525600399466098|  NULL|              NULL|   NULL|              NULL|  NULL|  NULL|  NULL|  NULL|              NULL| 0.597321346946013|              NULL|0.5971023940441773|  NULL|              NULL|               NULL|               NULL|              NULL|              NULL|              NULL|              NULL| 0.3476225620185566| 0.793219379759059|              NULL| 0.4176156034782653|              NULL|  NULL|              NULL|              NULL|              NULL|              NULL|              NULL|              NULL|              NULL|              NULL|              NULL|              NULL|  NULL|              NULL|0.1663440245396486|     NULL|              NULL|     NULL|     NULL|              NULL|     NULL|    NULL|    NULL|    NULL|              NULL|              NULL|     NULL|              NULL|    NULL|\n",
      "|      1507| NULL|  NULL|   NULL|   NULL|   NULL|  NULL|  NULL|  NULL|  NULL| NULL|  NULL|  NULL|  NULL|  NULL|   NULL|   NULL|  NULL|  NULL|  NULL| NULL|  NULL|  NULL|              NULL|  NULL|   NULL|  NULL|  NULL|  NULL|  NULL|  NULL| NULL|  NULL|  NULL|  NULL|   NULL|   NULL|  NULL|  NULL|  NULL|  NULL|  NULL|  NULL| NULL|              NULL|              NULL|  NULL|              NULL|   NULL|              NULL|  NULL|  NULL|  NULL|  NULL| 0.765181547142573|              NULL|              NULL|              NULL|  NULL|              NULL|               NULL|               NULL|              NULL|              NULL|              NULL|              NULL|               NULL|              NULL|              NULL|               NULL|              NULL|  NULL|              NULL|0.7627866687136661|0.6922040253844888|0.7135834675482198|0.7643252233432515|0.6286567321919256|0.8361335182043366|              NULL|0.7154620968676969|              NULL|  NULL|              NULL|              NULL|     NULL|              NULL|     NULL|     NULL|              NULL|     NULL|    NULL|    NULL|    NULL|              NULL|              NULL|     NULL|0.7942899786780384|    NULL|\n",
      "|     34275| NULL|  NULL|   NULL|   NULL|   NULL|  NULL|  NULL|  NULL|  NULL| NULL|  NULL|  NULL|  NULL|  NULL|   NULL|   NULL|  NULL|  NULL|  NULL| NULL|  NULL|  NULL|              NULL|  NULL|   NULL|  NULL|  NULL|  NULL|  NULL|  NULL| NULL|  NULL|  NULL|  NULL|   NULL|   NULL|  NULL|  NULL|  NULL|  NULL|  NULL|  NULL| NULL|              NULL|              NULL|  NULL|              NULL|   NULL|              NULL|  NULL|  NULL|  NULL|  NULL|              NULL|0.5401442629535413|              NULL|              NULL|  NULL|0.6551964634021147| 0.7436965811965811|               NULL|              NULL|              NULL|              NULL|              NULL|               NULL|              NULL|0.5411190759830531|               NULL|              NULL|  NULL|              NULL|              NULL|              NULL|              NULL|              NULL|              NULL|              NULL|              NULL|              NULL|              NULL|  NULL|              NULL|              NULL|     NULL|              NULL|     NULL|     NULL|              NULL|     NULL|    NULL|    NULL|    NULL|0.6026013467680453|              NULL|     NULL|              NULL|    NULL|\n",
      "|     16500| NULL|  NULL|   NULL|   NULL|   NULL|  NULL|  NULL|  NULL|  NULL| NULL|  NULL|  NULL|  NULL|  NULL|   NULL|   NULL|  NULL|  NULL|  NULL| NULL|  NULL|  NULL|              NULL|  NULL|   NULL|  NULL|  NULL|  NULL|  NULL|  NULL| NULL|  NULL|  NULL|  NULL|   NULL|   NULL|  NULL|  NULL|  NULL|  NULL|  NULL|  NULL| NULL|0.8999999999999999|              NULL|  NULL|0.8407603207033439|   NULL|              NULL|  NULL|  NULL|  NULL|  NULL|0.6889882155465469|              NULL|              NULL|               1.0|  NULL|              NULL|               NULL| 0.6484034833091437|              NULL|              NULL|              NULL|0.8632469352280099|  0.574037473262887|0.6949065838830799|0.7748039896933293|               NULL|              NULL|  NULL|0.7028375679679459|0.7688320779125508|              NULL|              NULL|              NULL|              NULL| 0.686388035104053|              NULL|              NULL|              NULL|  NULL|              NULL|              NULL|     NULL|              NULL|     NULL|     NULL|              NULL|     NULL|    NULL|    NULL|    NULL|              NULL|0.3167701863354037|     NULL| 0.843816631130064|    NULL|\n",
      "|     82140| NULL|  NULL|   NULL|   NULL|   NULL|  NULL|  NULL|  NULL|  NULL| NULL|  NULL|  NULL|  NULL|  NULL|   NULL|   NULL|  NULL|  NULL|  NULL| NULL|  NULL|  NULL|              NULL|  NULL|   NULL|  NULL|  NULL|  NULL|  NULL|  NULL| NULL|  NULL|  NULL|  NULL|   NULL|   NULL|  NULL|  NULL|  NULL|  NULL|  NULL|  NULL| NULL|              NULL|              NULL|  NULL|              NULL|   NULL|              NULL|  NULL|  NULL|  NULL|  NULL|              NULL|              NULL|              NULL|              0.25|  NULL|              NULL|  0.743846894489286|               NULL|              NULL|              NULL|              NULL|0.8500881536320161| 0.3476225620185566|0.4074702886247878|0.6648834552702803| 0.5647889956478208|              NULL|  NULL|              NULL|              NULL|              NULL|              NULL|              NULL|              NULL|              NULL|              NULL|              NULL|              NULL|  NULL|              NULL|              NULL|     NULL|              NULL|     NULL|     NULL|              NULL|     NULL|    NULL|    NULL|    NULL|              NULL|0.3167701863354037|     NULL|              NULL|    NULL|\n",
      "|    191943| NULL|  NULL|   NULL|   NULL|   NULL|  NULL|  NULL|  NULL|  NULL| NULL|  NULL|  NULL|  NULL|  NULL|   NULL|   NULL|  NULL|  NULL|  NULL| NULL|  NULL|  NULL|              NULL|  NULL|   NULL|  NULL|  NULL|  NULL|  NULL|  NULL| NULL|  NULL|  NULL|  NULL|   NULL|   NULL|  NULL|  NULL|  NULL|  NULL|  NULL|  NULL| NULL|              NULL|              NULL|  NULL|              NULL|   NULL|              NULL|  NULL|  NULL|  NULL|  NULL|              NULL|              NULL|              NULL|              NULL|  NULL|              NULL|               NULL|               NULL|0.5147062474244207|0.7382321820496099|              NULL|              NULL|               NULL|              NULL|              NULL|               NULL|              NULL|  NULL|              NULL|              NULL|              NULL|              NULL|0.7396561771561772|              NULL|              NULL|              NULL|              NULL|              NULL|  NULL|              NULL|              NULL|     NULL|              NULL|     NULL|     NULL|0.6696428571428572|     NULL|    NULL|    NULL|    NULL|              NULL|              NULL|     NULL|              NULL|    NULL|\n",
      "|    327167| NULL|  NULL|   NULL|   NULL|   NULL|  NULL|  NULL|  NULL|  NULL| NULL|  NULL|  NULL|  NULL|  NULL|   NULL|   NULL|  NULL|  NULL|  NULL| NULL|  NULL|  NULL|              NULL|  NULL|   NULL|  NULL|  NULL|  NULL|  NULL|  NULL| NULL|  NULL|  NULL|  NULL|   NULL|   NULL|  NULL|  NULL|  NULL|  NULL|  NULL|  NULL| NULL|              NULL|              NULL|  NULL|              NULL|   NULL|              NULL|  NULL|  NULL|  NULL|  NULL|              NULL|              NULL|              NULL|              NULL|  NULL|              NULL|               NULL|               NULL|              NULL|              NULL|              NULL|              NULL|               NULL|              NULL|              NULL|               NULL|              NULL|  NULL|              NULL|              NULL|              NULL|              NULL|              NULL|              NULL|              NULL|              NULL|              NULL|              NULL|  NULL|              NULL|              NULL|     NULL|              NULL|     NULL|     NULL|0.6928155178155179|     NULL|    NULL|    NULL|    NULL|              NULL|              NULL|     NULL|              NULL|    NULL|\n",
      "|     52855| NULL|  NULL|   NULL|   NULL|   NULL|  NULL|  NULL|  NULL|  NULL| NULL|  NULL|  NULL|  NULL|  NULL|   NULL|   NULL|  NULL|  NULL|  NULL| NULL|  NULL|  NULL|              NULL|  NULL|   NULL|  NULL|  NULL|  NULL|  NULL|  NULL| NULL|  NULL|  NULL|  NULL|   NULL|   NULL|  NULL|  NULL|  NULL|  NULL|  NULL|  NULL| NULL|              NULL|              NULL|  NULL|              NULL|   NULL|              NULL|  NULL|  NULL|  NULL|  NULL|0.7960807673509286|              NULL|              NULL|              NULL|  NULL|              NULL|               NULL|               NULL|              NULL|              NULL|              NULL|              NULL|               NULL|              NULL|              NULL|               NULL|              NULL|  NULL|              NULL|0.8250605755131964|              NULL|0.6215671253925467|0.5403647036460166|0.6754909933154067|0.6582401484472835|0.7015733979358806|              NULL|0.5703711354949175|  NULL|0.5330438302538106|0.8015151515151516|     NULL|0.5457803722866377|     NULL|     NULL|              NULL|     NULL|    NULL|    NULL|    NULL|              NULL|              NULL|     NULL|              NULL|    NULL|\n",
      "|    126416| NULL|  NULL|   NULL|   NULL|   NULL|  NULL|  NULL|  NULL|  NULL| NULL|  NULL|  NULL|  NULL|  NULL|   NULL|   NULL|  NULL|  NULL|  NULL| NULL|  NULL|  NULL|              NULL|  NULL|   NULL|  NULL|  NULL|  NULL|  NULL|  NULL| NULL|  NULL|  NULL|  NULL|   NULL|   NULL|  NULL|  NULL|  NULL|  NULL|  NULL|  NULL| NULL|              NULL|              NULL|  NULL|              NULL|   NULL|              NULL|  NULL|  NULL|  NULL|  NULL|              NULL|0.6838522127188713|0.5070730939423016|              NULL|  NULL| 0.631183222598267| 0.6842614527058064| 0.6222403275378721|              NULL|              NULL|              NULL|0.5890804597701149|               NULL|              NULL|0.5411190759830531|0.48166023166023164|              NULL|  NULL|              NULL|              NULL|              NULL|              NULL|              NULL|0.2327718223583461|              NULL|              NULL|              NULL|              NULL|  NULL|              NULL|              NULL|     NULL|              NULL|     NULL|     NULL|              NULL|     NULL|    NULL|    NULL|    NULL|0.6026013467680453|              NULL|     NULL|              NULL|    NULL|\n",
      "|    100803| NULL|  NULL|   NULL|   NULL|   NULL|  NULL|  NULL|  NULL|  NULL| NULL|  NULL|  NULL|  NULL|  NULL|   NULL|   NULL|  NULL|  NULL|  NULL| NULL|  NULL|  NULL|              NULL|  NULL|   NULL|  NULL|  NULL|  NULL|  NULL|  NULL| NULL|  NULL|  NULL|  NULL|   NULL|   NULL|  NULL|  NULL|  NULL|  NULL|  NULL|  NULL| NULL|              NULL|              NULL|  NULL|              NULL|   NULL|0.7570224719101124|  NULL|  NULL|  NULL|  NULL|              NULL|              NULL|              NULL|              NULL|  NULL|0.6624595253371355| 0.7228380801872153| 0.6916893253213354|              NULL|              NULL|              NULL|  0.80065717415115|               NULL|              NULL|0.5921228518267063|0.48166023166023164|              NULL|  NULL|              NULL|              NULL|              NULL|              NULL|              NULL|              NULL|              NULL|              NULL|              NULL|              NULL|  NULL|              NULL|              NULL|     NULL|              NULL|     NULL|     NULL|              NULL|     NULL|    NULL|    NULL|    NULL|0.6026013467680453|              NULL|     NULL|              NULL|    NULL|\n",
      "|     15429| NULL|  NULL|   NULL|   NULL|   NULL|  NULL|  NULL|  NULL|  NULL| NULL|  NULL|  NULL|  NULL|  NULL|   NULL|   NULL|  NULL|  NULL|  NULL| NULL|  NULL|  NULL|              NULL|  NULL|   NULL|  NULL|  NULL|  NULL|  NULL|  NULL| NULL|  NULL|  NULL|  NULL|   NULL|   NULL|  NULL|  NULL|  NULL|  NULL|  NULL|  NULL| NULL|0.8999999999999999|              NULL|  NULL|0.8475669208176846|   NULL|              NULL|  NULL|  NULL|  NULL|  NULL|0.6889882155465469|              NULL|              NULL|0.8311603650586701|  NULL|              NULL|               NULL| 0.6484034833091437|              NULL|0.7684391767229295|              NULL|              NULL| 0.5740374732628871|0.6885268517374068|0.7205719862577724|               NULL|0.6683046116582897|  NULL|0.7028375679679459|0.7688320779125507|              NULL|              NULL|              NULL|              NULL|              NULL|              NULL|              NULL|              NULL|  NULL|              NULL|              NULL|     NULL|              NULL|     NULL|     NULL|              NULL|     NULL|    NULL|    NULL|    NULL|              NULL|              NULL|     NULL| 0.843816631130064|    NULL|\n",
      "|     82147| NULL|  NULL|   NULL|   NULL|   NULL|  NULL|  NULL|  NULL|  NULL| NULL|  NULL|  NULL|  NULL|  NULL|   NULL|   NULL|  NULL|  NULL|  NULL| NULL|  NULL|  NULL|              NULL|  NULL|   NULL|  NULL|  NULL|  NULL|  NULL|  NULL| NULL|  NULL|  NULL|  NULL|   NULL|   NULL|  NULL|  NULL|  NULL|  NULL|  NULL|  NULL| NULL|              NULL|              NULL|  NULL|              NULL|   NULL|              NULL|  NULL|  NULL|  NULL|  NULL|              NULL|              NULL|              NULL|              0.25|  NULL|              NULL|  0.743846894489286|               NULL|              NULL|              NULL|0.6111241238623644|0.8500881536320161| 0.4761619325089834|0.5874182952682587| 0.710604842470783| 0.5587371323085137|              NULL|  NULL|              NULL|              NULL|              NULL|              NULL|              NULL|              NULL|              NULL|              NULL|              NULL|              NULL|  NULL|              NULL|              NULL|     NULL|              NULL|     NULL|     NULL|              NULL|     NULL|    NULL|    NULL|    NULL|              NULL|0.3167701863354037|     NULL|              NULL|    NULL|\n",
      "|    105281| NULL|  NULL|   NULL|   NULL|   NULL|  NULL|  NULL|  NULL|  NULL| NULL|  NULL|  NULL|  NULL|  NULL|   NULL|   NULL|  NULL|  NULL|  NULL| NULL|  NULL|  NULL|              NULL|  NULL|   NULL|  NULL|  NULL|  NULL|  NULL|  NULL| NULL|  NULL|  NULL|  NULL|   NULL|   NULL|  NULL|  NULL|  NULL|  NULL|  NULL|  NULL| NULL|              NULL|              NULL|  NULL|              NULL|   NULL|              NULL|  NULL|  NULL|  NULL|  NULL|0.7058030647252256|0.5544217687074829|0.5320248434404549|              NULL|  NULL|              NULL|0.48780788373491346|               NULL|              NULL|              NULL|              NULL|              NULL|               NULL|              NULL|              NULL|               NULL|              NULL|  NULL|              NULL|              NULL|              NULL|              NULL|              NULL|              NULL|              NULL|              NULL|              NULL|              NULL|  NULL|              NULL|              NULL|     NULL|              NULL|     NULL|     NULL|              NULL|     NULL|    NULL|    NULL|    NULL|0.6026013467680453|              NULL|     NULL|              NULL|    NULL|\n",
      "|     15535| NULL|  NULL|   NULL|   NULL|   NULL|  NULL|  NULL|  NULL|  NULL| NULL|  NULL|  NULL|  NULL|  NULL|   NULL|   NULL|  NULL|  NULL|  NULL| NULL|  NULL|  NULL|              NULL|  NULL|   NULL|  NULL|  NULL|  NULL|  NULL|  NULL| NULL|  NULL|  NULL|  NULL|   NULL|   NULL|  NULL|  NULL|  NULL|  NULL|  NULL|  NULL| NULL|0.8999999999999999|              NULL|  NULL|0.8407603207033439|   NULL|              NULL|  NULL|  NULL|  NULL|  NULL|0.8888888888888888|              NULL|              NULL|               1.0|  NULL|              NULL|               NULL| 0.6484034833091437|              NULL|              NULL|              NULL|0.8632469352280099| 0.6315830174088534|0.7001505465557705|0.8936372839609251|               NULL|              NULL|  NULL|0.7028375679679458| 0.776977579625256|              NULL|              NULL|              NULL|              NULL|0.7151479655786435|              NULL|              NULL|              NULL|  NULL|              NULL|              NULL|     NULL|              NULL|     NULL|     NULL|              NULL|     NULL|    NULL|    NULL|    NULL|              NULL|0.3167701863354037|     NULL|              NULL|    NULL|\n",
      "|     97044| NULL|  NULL|   NULL|   NULL|   NULL|  NULL|  NULL|  NULL|  NULL| NULL|  NULL|  NULL|  NULL|  NULL|   NULL|   NULL|  NULL|  NULL|  NULL| NULL|  NULL|  NULL|              NULL|  NULL|   NULL|  NULL|  NULL|  NULL|  NULL|  NULL| NULL|  NULL|  NULL|  NULL|   NULL|   NULL|  NULL|  NULL|  NULL|  NULL|  NULL|  NULL| NULL|              NULL|              NULL|  NULL|              NULL|   NULL|              NULL|  NULL|  NULL|  NULL|  NULL|              NULL|0.7804888977089011|              NULL|              NULL|  NULL| 0.631183222598267| 0.8511904761904762|               NULL|              NULL|              NULL|              NULL|0.7682375372905359|               NULL|              NULL|0.5411190759830531|               NULL|              NULL|  NULL|              NULL|              NULL|              NULL|              NULL|              NULL|0.2327718223583461|              NULL|              NULL|              NULL|              NULL|  NULL|              NULL|              NULL|     NULL|              NULL|     NULL|     NULL|              NULL|     NULL|    NULL|    NULL|    NULL|0.6026013467680453|              NULL|     NULL|              NULL|    NULL|\n",
      "|    119001| NULL|  NULL|   NULL|   NULL|   NULL|  NULL|  NULL|  NULL|  NULL| NULL|  NULL|  NULL|  NULL|  NULL|   NULL|   NULL|  NULL|  NULL|  NULL| NULL|  NULL|  NULL|              NULL|  NULL|   NULL|  NULL|  NULL|  NULL|  NULL|  NULL| NULL|  NULL|  NULL|  NULL|   NULL|   NULL|  NULL|  NULL|  NULL|  NULL|  NULL|  NULL| NULL|              NULL|              NULL|  NULL|              NULL|   NULL|              NULL|  NULL|  NULL|  NULL|  NULL|0.5760396926169238|0.6736885576464411|0.5070730939423016|              NULL|  NULL| 0.631183222598267| 0.6842614527058064|               NULL|              NULL|              NULL|              NULL|0.5890804597701149|               NULL|              NULL|0.5411190759830531|               NULL|              NULL|  NULL|              NULL|              NULL|              NULL|              NULL|              NULL|0.2327718223583461|              NULL|              NULL|              NULL|              NULL|  NULL|              NULL|              NULL|     NULL|              NULL|     NULL|     NULL|              NULL|     NULL|    NULL|    NULL|    NULL|0.6026013467680453|              NULL|     NULL|              NULL|    NULL|\n",
      "|    118824| NULL|  NULL|   NULL|   NULL|   NULL|  NULL|  NULL|  NULL|  NULL| NULL|  NULL|  NULL|  NULL|  NULL|   NULL|   NULL|  NULL|  NULL|  NULL| NULL|  NULL|  NULL|              NULL|  NULL|   NULL|  NULL|  NULL|  NULL|  NULL|  NULL| NULL|  NULL|  NULL|  NULL|   NULL|   NULL|  NULL|  NULL|  NULL|  NULL|  NULL|  NULL| NULL|              NULL|              NULL|  NULL|              NULL|   NULL|              NULL|  NULL|  NULL|  NULL|  NULL|0.5760396926169238|0.6736885576464411|0.5070730939423016|              NULL|  NULL| 0.631183222598267| 0.6842614527058064|               NULL|              NULL|              NULL|              NULL|0.5890804597701149|               NULL|              NULL|0.5411190759830531|               NULL|              NULL|  NULL|              NULL|              NULL|              NULL|              NULL|              NULL|0.2327718223583461|              NULL|              NULL|              NULL|              NULL|  NULL|              NULL|              NULL|     NULL|              NULL|     NULL|     NULL|              NULL|     NULL|    NULL|    NULL|    NULL|0.6026013467680453|              NULL|     NULL|              NULL|    NULL|\n",
      "|     97167| NULL|  NULL|   NULL|   NULL|   NULL|  NULL|  NULL|  NULL|  NULL| NULL|  NULL|  NULL|  NULL|  NULL|   NULL|   NULL|  NULL|  NULL|  NULL| NULL|  NULL|  NULL|              NULL|  NULL|   NULL|  NULL|  NULL|  NULL|  NULL|  NULL| NULL|  NULL|  NULL|  NULL|   NULL|   NULL|  NULL|  NULL|  NULL|  NULL|  NULL|  NULL| NULL|              NULL|              NULL|  NULL|              NULL|   NULL|              NULL|  NULL|  NULL|  NULL|  NULL|              NULL|0.7804888977089011|              NULL|              NULL|  NULL| 0.631183222598267| 0.6526478281291433|               NULL|              NULL|              NULL|              NULL|0.7682375372905359|               NULL|              NULL|0.5411190759830531|               NULL|              NULL|  NULL|              NULL|              NULL|              NULL|              NULL|              NULL|0.2327718223583461|              NULL|              NULL|              NULL|              NULL|  NULL|              NULL|              NULL|     NULL|              NULL|     NULL|     NULL|              NULL|     NULL|    NULL|    NULL|    NULL|0.6026013467680453|              NULL|     NULL|              NULL|    NULL|\n",
      "+----------+-----+------+-------+-------+-------+------+------+------+------+-----+------+------+------+------+-------+-------+------+------+------+-----+------+------+------------------+------+-------+------+------+------+------+------+-----+------+------+------+-------+-------+------+------+------+------+------+------+-----+------------------+------------------+------+------------------+-------+------------------+------+------+------+------+------------------+------------------+------------------+------------------+------+------------------+-------------------+-------------------+------------------+------------------+------------------+------------------+-------------------+------------------+------------------+-------------------+------------------+------+------------------+------------------+------------------+------------------+------------------+------------------+------------------+------------------+------------------+------------------+------+------------------+------------------+---------+------------------+---------+---------+------------------+---------+--------+--------+--------+------------------+------------------+---------+------------------+--------+\n",
      "only showing top 20 rows\n",
      "\n"
     ]
    }
   ],
   "execution_count": 8
  },
  {
   "metadata": {
    "ExecuteTime": {
     "end_time": "2024-11-19T07:27:08.661616Z",
     "start_time": "2024-11-19T07:27:08.656097Z"
    }
   },
   "cell_type": "code",
   "source": [
    "# Helper functions to extract grade and domain from grade_domain_subdomain\n",
    "def extract_components(column_name):\n",
    "    parts = column_name.split(\"_\")\n",
    "    # High school grade -> 9\n",
    "    # Cause in HS_ grade -> core standards only categorize them by domain (Algebra, Geometry, etc.), not by grade anymore\n",
    "    return {\n",
    "        'grade': int(parts[0]),\n",
    "        'domain': parts[1],\n",
    "        'subdomain': parts[2] if len(parts) > 2 else None\n",
    "    }"
   ],
   "id": "8821ecc92dffa87d",
   "outputs": [],
   "execution_count": 9
  },
  {
   "metadata": {
    "ExecuteTime": {
     "end_time": "2024-11-19T07:27:17.181420Z",
     "start_time": "2024-11-19T07:27:08.768197Z"
    }
   },
   "cell_type": "code",
   "source": [
    "feedback_matrix = rename_columns(feedback_matrix)\n",
    "feedback_matrix.show(5)"
   ],
   "id": "9c34c8be85610a05",
   "outputs": [
    {
     "name": "stdout",
     "output_type": "stream",
     "text": [
      "+----------+-----+------+-------+-------+-------+------+------+------+------+-----+------+------+------+------+-------+-------+------+------+------+-----+------+------+------+------+-------+------+-----------------+------+------+------+-----+------+------+------------------+-------+-------+------+------+------+------+------+------+-----+-----+------+------+------+------------------+------------------+-------------------+------------------+------------------+------+------------------+------------------+------+-----+------------------+-------------------+------+------------------+------+------+------------------+-------------------+------------------+------------------+------------------+-------------------+------+-----------------+------------------+------------------+------+------------------+-----+------------------+-----+------------------+------------------+-----------------+------+-------+-------+-------+-------+-------+-------+-------+-------+------+------+------+-------+-------+-------+------+------+\n",
      "|student_id|1_G_A|1_MD_A|1_NBT_A|1_NBT_B|1_NBT_C|1_OA_A|1_OA_B|1_OA_C|1_OA_D|2_G_A|2_MD_A|2_MD_B|2_MD_C|2_MD_D|2_NBT_A|2_NBT_B|2_OA_A|2_OA_B|2_OA_C|3_G_A|3_MD_A|3_MD_B|3_MD_C|3_MD_D|3_NBT_A|3_NF_A|           3_OA_A|3_OA_B|3_OA_C|3_OA_D|4_G_A|4_MD_A|4_MD_B|            4_MD_C|4_NBT_A|4_NBT_B|4_NF_A|4_NF_B|4_NF_C|4_OA_A|4_OA_B|4_OA_C|5_G_A|5_G_B|5_MD_A|5_MD_B|5_MD_C|           5_NBT_A|           5_NBT_B|             5_NF_A|            5_NF_B|            5_OA_A|5_OA_B|            6_EE_A|            6_EE_B|6_EE_C|6_G_A|            6_NS_A|             6_NS_B|6_NS_C|            6_RP_A|6_SP_A|6_SP_B|            7_EE_A|             7_EE_B|             7_G_A|             7_G_B|            7_NS_A|             7_RP_A|7_SP_A|           7_SP_B|            7_SP_C|            8_EE_A|8_EE_B|            8_EE_C|8_F_A|             8_F_B|8_G_A|             8_G_B|             8_G_C|           8_NS_A|8_SP_A|9_APR_A|9_CED_A|9_REI_A|9_REI_B|9_REI_C|9_REI_D|9_SSE_A|9_SSE_B|9_IF_A|9_IF_B|9_LE_A|9_GPE_B|9_SRT_A|9_SRT_B|9_RN_A|9_CP_B|\n",
      "+----------+-----+------+-------+-------+-------+------+------+------+------+-----+------+------+------+------+-------+-------+------+------+------+-----+------+------+------+------+-------+------+-----------------+------+------+------+-----+------+------+------------------+-------+-------+------+------+------+------+------+------+-----+-----+------+------+------+------------------+------------------+-------------------+------------------+------------------+------+------------------+------------------+------+-----+------------------+-------------------+------+------------------+------+------+------------------+-------------------+------------------+------------------+------------------+-------------------+------+-----------------+------------------+------------------+------+------------------+-----+------------------+-----+------------------+------------------+-----------------+------+-------+-------+-------+-------+-------+-------+-------+-------+------+------+------+-------+-------+-------+------+------+\n",
      "|     39285| NULL|  NULL|   NULL|   NULL|   NULL|  NULL|  NULL|  NULL|  NULL| NULL|  NULL|  NULL|  NULL|  NULL|   NULL|   NULL|  NULL|  NULL|  NULL| NULL|  NULL|  NULL|  NULL|  NULL|   NULL|  NULL|             NULL|  NULL|  NULL|  NULL| NULL|  NULL|  NULL|              NULL|   NULL|   NULL|  NULL|  NULL|  NULL|  NULL|  NULL|  NULL| NULL| NULL|  NULL|  NULL|  NULL|              NULL|              NULL|               NULL|              NULL|              NULL|  NULL|              NULL|              NULL|  NULL| NULL|0.5700019371980581| 0.6826701736221747|  NULL|0.7451267769308346|  NULL|  NULL|              NULL|               NULL|              NULL|              NULL|0.5394556520637785|0.48166023166023164|  NULL|             NULL|              NULL|              NULL|  NULL|              NULL| NULL|              NULL| NULL|              NULL|              NULL|             NULL|  NULL|   NULL|   NULL|   NULL|   NULL|   NULL|   NULL|   NULL|   NULL|  NULL|  NULL|  NULL|   NULL|   NULL|   NULL|  NULL|  NULL|\n",
      "|    312380| NULL|  NULL|   NULL|   NULL|   NULL|  NULL|  NULL|  NULL|  NULL| NULL|  NULL|  NULL|  NULL|  NULL|   NULL|   NULL|  NULL|  NULL|  NULL| NULL|  NULL|  NULL|  NULL|  NULL|   NULL|  NULL|0.599856846447433|  NULL|  NULL|  NULL| NULL|  NULL|  NULL|              NULL|   NULL|   NULL|  NULL|  NULL|  NULL|  NULL|  NULL|  NULL| NULL| NULL|  NULL|  NULL|  NULL|              NULL|0.6683315052913893|0.43997373756868263|0.6693136464441226|0.7188280233856373|  NULL|0.6270583930158398|              NULL|  NULL| NULL|              NULL|0.11764705882352941|  NULL|              NULL|  NULL|  NULL|              NULL|0.37027027027027026|              NULL|              NULL|              NULL|               NULL|  NULL|             NULL|              NULL|              NULL|  NULL|              NULL| NULL|              NULL| NULL|              NULL|              NULL|             NULL|  NULL|   NULL|   NULL|   NULL|   NULL|   NULL|   NULL|   NULL|   NULL|  NULL|  NULL|  NULL|   NULL|   NULL|   NULL|  NULL|  NULL|\n",
      "|     46465| NULL|  NULL|   NULL|   NULL|   NULL|  NULL|  NULL|  NULL|  NULL| NULL|  NULL|  NULL|  NULL|  NULL|   NULL|   NULL|  NULL|  NULL|  NULL| NULL|  NULL|  NULL|  NULL|  NULL|   NULL|  NULL|             NULL|  NULL|  NULL|  NULL| NULL|  NULL|  NULL|0.6007937657729201|   NULL|   NULL|  NULL|  NULL|  NULL|  NULL|  NULL|  NULL| NULL| NULL|  NULL|  NULL|  NULL|              NULL|              NULL|               NULL|              NULL|              NULL|  NULL|              NULL|0.7779189919104558|  NULL| NULL|0.7813953488372093| 0.6139002584426666|  NULL|0.8880542691926353|  NULL|  NULL|0.5399024835709478| 0.6517014358963434|0.4923251269479191|0.6203030355530599|              NULL|               NULL|  0.56|0.536371237458194|0.6432632051183311|              NULL|  NULL|              NULL| NULL|              NULL| NULL|              NULL|              NULL|             NULL|  NULL|   NULL|   NULL|   NULL|   NULL|   NULL|   NULL|   NULL|   NULL|  NULL|  NULL|  NULL|   NULL|   NULL|   NULL|  NULL|  NULL|\n",
      "|    160563| NULL|  NULL|   NULL|   NULL|   NULL|  NULL|  NULL|  NULL|  NULL| NULL|  NULL|  NULL|  NULL|  NULL|   NULL|   NULL|  NULL|  NULL|  NULL| NULL|  NULL|  NULL|  NULL|  NULL|   NULL|  NULL|             NULL|  NULL|  NULL|  NULL| NULL|  NULL|  NULL|              NULL|   NULL|   NULL|  NULL|  NULL|  NULL|  NULL|  NULL|  NULL| NULL| NULL|  NULL|  NULL|  NULL|0.8545391128429101|              NULL|               NULL|              NULL|              NULL|  NULL|0.6854258624159274|              NULL|  NULL| NULL|              NULL|               NULL|  NULL|              NULL|  NULL|  NULL|              NULL|               NULL|              NULL|              NULL|              NULL|               NULL|  NULL|             NULL|              NULL|0.6521987767845558|  NULL|              NULL| NULL|0.7188063875941785| NULL|0.4044157188567127|0.6222260226047039|0.707672131147541|  NULL|   NULL|   NULL|   NULL|   NULL|   NULL|   NULL|   NULL|   NULL|  NULL|  NULL|  NULL|   NULL|   NULL|   NULL|  NULL|  NULL|\n",
      "|     46943| NULL|  NULL|   NULL|   NULL|   NULL|  NULL|  NULL|  NULL|  NULL| NULL|  NULL|  NULL|  NULL|  NULL|   NULL|   NULL|  NULL|  NULL|  NULL| NULL|  NULL|  NULL|  NULL|  NULL|   NULL|  NULL|             NULL|  NULL|  NULL|  NULL| NULL|  NULL|  NULL|              NULL|   NULL|   NULL|  NULL|  NULL|  NULL|  NULL|  NULL|  NULL| NULL| NULL|  NULL|  NULL|  NULL|              NULL|              NULL|               NULL|              NULL|              NULL|  NULL|              NULL|              NULL|  NULL| NULL|              NULL|               NULL|  NULL|0.5101171458998935|  NULL|  NULL|              NULL|               NULL|0.3582528718217129|              NULL|              NULL|0.48249150779546923|  NULL|             NULL|              NULL|              NULL|  NULL|0.5596263478435399| NULL|              NULL| NULL|              NULL|              NULL|             NULL|  NULL|   NULL|   NULL|   NULL|   NULL|   NULL|   NULL|   NULL|   NULL|  NULL|  NULL|  NULL|   NULL|   NULL|   NULL|  NULL|  NULL|\n",
      "+----------+-----+------+-------+-------+-------+------+------+------+------+-----+------+------+------+------+-------+-------+------+------+------+-----+------+------+------+------+-------+------+-----------------+------+------+------+-----+------+------+------------------+-------+-------+------+------+------+------+------+------+-----+-----+------+------+------+------------------+------------------+-------------------+------------------+------------------+------+------------------+------------------+------+-----+------------------+-------------------+------+------------------+------+------+------------------+-------------------+------------------+------------------+------------------+-------------------+------+-----------------+------------------+------------------+------+------------------+-----+------------------+-----+------------------+------------------+-----------------+------+-------+-------+-------+-------+-------+-------+-------+-------+------+------+------+-------+-------+-------+------+------+\n",
      "only showing top 5 rows\n",
      "\n"
     ]
    }
   ],
   "execution_count": 10
  },
  {
   "metadata": {
    "ExecuteTime": {
     "end_time": "2024-11-19T07:27:17.218422Z",
     "start_time": "2024-11-19T07:27:17.205488Z"
    }
   },
   "cell_type": "code",
   "source": [
    "# 2. Get column information with grade and domain\n",
    "pivot_columns = [c for c in feedback_matrix.columns if c != \"student_id\"]\n",
    "column_info = [(col_name, extract_components(col_name)) for col_name in pivot_columns]\n",
    "column_info"
   ],
   "id": "d9099ee6625744d8",
   "outputs": [
    {
     "data": {
      "text/plain": [
       "[('1_G_A', {'grade': 1, 'domain': 'G', 'subdomain': 'A'}),\n",
       " ('1_MD_A', {'grade': 1, 'domain': 'MD', 'subdomain': 'A'}),\n",
       " ('1_NBT_A', {'grade': 1, 'domain': 'NBT', 'subdomain': 'A'}),\n",
       " ('1_NBT_B', {'grade': 1, 'domain': 'NBT', 'subdomain': 'B'}),\n",
       " ('1_NBT_C', {'grade': 1, 'domain': 'NBT', 'subdomain': 'C'}),\n",
       " ('1_OA_A', {'grade': 1, 'domain': 'OA', 'subdomain': 'A'}),\n",
       " ('1_OA_B', {'grade': 1, 'domain': 'OA', 'subdomain': 'B'}),\n",
       " ('1_OA_C', {'grade': 1, 'domain': 'OA', 'subdomain': 'C'}),\n",
       " ('1_OA_D', {'grade': 1, 'domain': 'OA', 'subdomain': 'D'}),\n",
       " ('2_G_A', {'grade': 2, 'domain': 'G', 'subdomain': 'A'}),\n",
       " ('2_MD_A', {'grade': 2, 'domain': 'MD', 'subdomain': 'A'}),\n",
       " ('2_MD_B', {'grade': 2, 'domain': 'MD', 'subdomain': 'B'}),\n",
       " ('2_MD_C', {'grade': 2, 'domain': 'MD', 'subdomain': 'C'}),\n",
       " ('2_MD_D', {'grade': 2, 'domain': 'MD', 'subdomain': 'D'}),\n",
       " ('2_NBT_A', {'grade': 2, 'domain': 'NBT', 'subdomain': 'A'}),\n",
       " ('2_NBT_B', {'grade': 2, 'domain': 'NBT', 'subdomain': 'B'}),\n",
       " ('2_OA_A', {'grade': 2, 'domain': 'OA', 'subdomain': 'A'}),\n",
       " ('2_OA_B', {'grade': 2, 'domain': 'OA', 'subdomain': 'B'}),\n",
       " ('2_OA_C', {'grade': 2, 'domain': 'OA', 'subdomain': 'C'}),\n",
       " ('3_G_A', {'grade': 3, 'domain': 'G', 'subdomain': 'A'}),\n",
       " ('3_MD_A', {'grade': 3, 'domain': 'MD', 'subdomain': 'A'}),\n",
       " ('3_MD_B', {'grade': 3, 'domain': 'MD', 'subdomain': 'B'}),\n",
       " ('3_MD_C', {'grade': 3, 'domain': 'MD', 'subdomain': 'C'}),\n",
       " ('3_MD_D', {'grade': 3, 'domain': 'MD', 'subdomain': 'D'}),\n",
       " ('3_NBT_A', {'grade': 3, 'domain': 'NBT', 'subdomain': 'A'}),\n",
       " ('3_NF_A', {'grade': 3, 'domain': 'NF', 'subdomain': 'A'}),\n",
       " ('3_OA_A', {'grade': 3, 'domain': 'OA', 'subdomain': 'A'}),\n",
       " ('3_OA_B', {'grade': 3, 'domain': 'OA', 'subdomain': 'B'}),\n",
       " ('3_OA_C', {'grade': 3, 'domain': 'OA', 'subdomain': 'C'}),\n",
       " ('3_OA_D', {'grade': 3, 'domain': 'OA', 'subdomain': 'D'}),\n",
       " ('4_G_A', {'grade': 4, 'domain': 'G', 'subdomain': 'A'}),\n",
       " ('4_MD_A', {'grade': 4, 'domain': 'MD', 'subdomain': 'A'}),\n",
       " ('4_MD_B', {'grade': 4, 'domain': 'MD', 'subdomain': 'B'}),\n",
       " ('4_MD_C', {'grade': 4, 'domain': 'MD', 'subdomain': 'C'}),\n",
       " ('4_NBT_A', {'grade': 4, 'domain': 'NBT', 'subdomain': 'A'}),\n",
       " ('4_NBT_B', {'grade': 4, 'domain': 'NBT', 'subdomain': 'B'}),\n",
       " ('4_NF_A', {'grade': 4, 'domain': 'NF', 'subdomain': 'A'}),\n",
       " ('4_NF_B', {'grade': 4, 'domain': 'NF', 'subdomain': 'B'}),\n",
       " ('4_NF_C', {'grade': 4, 'domain': 'NF', 'subdomain': 'C'}),\n",
       " ('4_OA_A', {'grade': 4, 'domain': 'OA', 'subdomain': 'A'}),\n",
       " ('4_OA_B', {'grade': 4, 'domain': 'OA', 'subdomain': 'B'}),\n",
       " ('4_OA_C', {'grade': 4, 'domain': 'OA', 'subdomain': 'C'}),\n",
       " ('5_G_A', {'grade': 5, 'domain': 'G', 'subdomain': 'A'}),\n",
       " ('5_G_B', {'grade': 5, 'domain': 'G', 'subdomain': 'B'}),\n",
       " ('5_MD_A', {'grade': 5, 'domain': 'MD', 'subdomain': 'A'}),\n",
       " ('5_MD_B', {'grade': 5, 'domain': 'MD', 'subdomain': 'B'}),\n",
       " ('5_MD_C', {'grade': 5, 'domain': 'MD', 'subdomain': 'C'}),\n",
       " ('5_NBT_A', {'grade': 5, 'domain': 'NBT', 'subdomain': 'A'}),\n",
       " ('5_NBT_B', {'grade': 5, 'domain': 'NBT', 'subdomain': 'B'}),\n",
       " ('5_NF_A', {'grade': 5, 'domain': 'NF', 'subdomain': 'A'}),\n",
       " ('5_NF_B', {'grade': 5, 'domain': 'NF', 'subdomain': 'B'}),\n",
       " ('5_OA_A', {'grade': 5, 'domain': 'OA', 'subdomain': 'A'}),\n",
       " ('5_OA_B', {'grade': 5, 'domain': 'OA', 'subdomain': 'B'}),\n",
       " ('6_EE_A', {'grade': 6, 'domain': 'EE', 'subdomain': 'A'}),\n",
       " ('6_EE_B', {'grade': 6, 'domain': 'EE', 'subdomain': 'B'}),\n",
       " ('6_EE_C', {'grade': 6, 'domain': 'EE', 'subdomain': 'C'}),\n",
       " ('6_G_A', {'grade': 6, 'domain': 'G', 'subdomain': 'A'}),\n",
       " ('6_NS_A', {'grade': 6, 'domain': 'NS', 'subdomain': 'A'}),\n",
       " ('6_NS_B', {'grade': 6, 'domain': 'NS', 'subdomain': 'B'}),\n",
       " ('6_NS_C', {'grade': 6, 'domain': 'NS', 'subdomain': 'C'}),\n",
       " ('6_RP_A', {'grade': 6, 'domain': 'RP', 'subdomain': 'A'}),\n",
       " ('6_SP_A', {'grade': 6, 'domain': 'SP', 'subdomain': 'A'}),\n",
       " ('6_SP_B', {'grade': 6, 'domain': 'SP', 'subdomain': 'B'}),\n",
       " ('7_EE_A', {'grade': 7, 'domain': 'EE', 'subdomain': 'A'}),\n",
       " ('7_EE_B', {'grade': 7, 'domain': 'EE', 'subdomain': 'B'}),\n",
       " ('7_G_A', {'grade': 7, 'domain': 'G', 'subdomain': 'A'}),\n",
       " ('7_G_B', {'grade': 7, 'domain': 'G', 'subdomain': 'B'}),\n",
       " ('7_NS_A', {'grade': 7, 'domain': 'NS', 'subdomain': 'A'}),\n",
       " ('7_RP_A', {'grade': 7, 'domain': 'RP', 'subdomain': 'A'}),\n",
       " ('7_SP_A', {'grade': 7, 'domain': 'SP', 'subdomain': 'A'}),\n",
       " ('7_SP_B', {'grade': 7, 'domain': 'SP', 'subdomain': 'B'}),\n",
       " ('7_SP_C', {'grade': 7, 'domain': 'SP', 'subdomain': 'C'}),\n",
       " ('8_EE_A', {'grade': 8, 'domain': 'EE', 'subdomain': 'A'}),\n",
       " ('8_EE_B', {'grade': 8, 'domain': 'EE', 'subdomain': 'B'}),\n",
       " ('8_EE_C', {'grade': 8, 'domain': 'EE', 'subdomain': 'C'}),\n",
       " ('8_F_A', {'grade': 8, 'domain': 'F', 'subdomain': 'A'}),\n",
       " ('8_F_B', {'grade': 8, 'domain': 'F', 'subdomain': 'B'}),\n",
       " ('8_G_A', {'grade': 8, 'domain': 'G', 'subdomain': 'A'}),\n",
       " ('8_G_B', {'grade': 8, 'domain': 'G', 'subdomain': 'B'}),\n",
       " ('8_G_C', {'grade': 8, 'domain': 'G', 'subdomain': 'C'}),\n",
       " ('8_NS_A', {'grade': 8, 'domain': 'NS', 'subdomain': 'A'}),\n",
       " ('8_SP_A', {'grade': 8, 'domain': 'SP', 'subdomain': 'A'}),\n",
       " ('9_APR_A', {'grade': 9, 'domain': 'APR', 'subdomain': 'A'}),\n",
       " ('9_CED_A', {'grade': 9, 'domain': 'CED', 'subdomain': 'A'}),\n",
       " ('9_REI_A', {'grade': 9, 'domain': 'REI', 'subdomain': 'A'}),\n",
       " ('9_REI_B', {'grade': 9, 'domain': 'REI', 'subdomain': 'B'}),\n",
       " ('9_REI_C', {'grade': 9, 'domain': 'REI', 'subdomain': 'C'}),\n",
       " ('9_REI_D', {'grade': 9, 'domain': 'REI', 'subdomain': 'D'}),\n",
       " ('9_SSE_A', {'grade': 9, 'domain': 'SSE', 'subdomain': 'A'}),\n",
       " ('9_SSE_B', {'grade': 9, 'domain': 'SSE', 'subdomain': 'B'}),\n",
       " ('9_IF_A', {'grade': 9, 'domain': 'IF', 'subdomain': 'A'}),\n",
       " ('9_IF_B', {'grade': 9, 'domain': 'IF', 'subdomain': 'B'}),\n",
       " ('9_LE_A', {'grade': 9, 'domain': 'LE', 'subdomain': 'A'}),\n",
       " ('9_GPE_B', {'grade': 9, 'domain': 'GPE', 'subdomain': 'B'}),\n",
       " ('9_SRT_A', {'grade': 9, 'domain': 'SRT', 'subdomain': 'A'}),\n",
       " ('9_SRT_B', {'grade': 9, 'domain': 'SRT', 'subdomain': 'B'}),\n",
       " ('9_RN_A', {'grade': 9, 'domain': 'RN', 'subdomain': 'A'}),\n",
       " ('9_CP_B', {'grade': 9, 'domain': 'CP', 'subdomain': 'B'})]"
      ]
     },
     "execution_count": 11,
     "metadata": {},
     "output_type": "execute_result"
    }
   ],
   "execution_count": 11
  },
  {
   "metadata": {
    "ExecuteTime": {
     "end_time": "2024-11-19T07:27:17.310247Z",
     "start_time": "2024-11-19T07:27:17.303507Z"
    }
   },
   "cell_type": "code",
   "source": [
    "# 3. Create imputation rules with domain awareness\n",
    "def create_imputation_expressions(column_info_):\n",
    "    expressions = []\n",
    "    for col_name, target_info in column_info_:\n",
    "        # Find higher grade columns\n",
    "        higher_grade_cols = [\n",
    "            (c, info) for c, info in column_info_ \n",
    "            if info['grade'] > target_info['grade']\n",
    "        ]\n",
    "        \n",
    "        if higher_grade_cols:\n",
    "            # Calculate weights based on both grade proximity and domain similarity\n",
    "            weights = []\n",
    "            for hc, hinfo in higher_grade_cols:\n",
    "                # Grade proximity weight (inverse of grade difference)\n",
    "                grade_diff = hinfo['grade'] - target_info['grade']\n",
    "                grade_weight = 1.0 / grade_diff\n",
    "                \n",
    "                # Domain similarity weight\n",
    "                domain_weight = 4.0 if hinfo['domain'] == target_info['domain'] else 1.0\n",
    "                \n",
    "                # Combined weight\n",
    "                total_weight = grade_weight * domain_weight\n",
    "                \n",
    "                # Performance adjustment factor (better performance in lower grades)\n",
    "                grade_boost = 0.05 * (hinfo['grade'] - target_info['grade'])\n",
    "                \n",
    "                weights.append(\n",
    "                    f\"(CASE WHEN {hc} IS NOT NULL THEN {total_weight} * (LEAST(1.0, {hc} + {grade_boost})) ELSE 0 END)\"\n",
    "                )\n",
    "            \n",
    "            # Weight normalization terms\n",
    "            weight_sum = \" + \".join([\n",
    "                f\"(CASE WHEN {hc} IS NOT NULL THEN {1.0/(hinfo['grade']-target_info['grade']) * (4.0 if hinfo['domain'] == target_info['domain'] else 1.0)} ELSE 0 END)\"\n",
    "                for hc, hinfo in higher_grade_cols\n",
    "            ])\n",
    "            \n",
    "            weighted_sum = \" + \".join(weights)\n",
    "            \n",
    "            expr_str = f\"\"\"\n",
    "                CASE \n",
    "                    WHEN {col_name} IS NOT NULL THEN {col_name}\n",
    "                    WHEN ({weight_sum}) > 0 THEN \n",
    "                        LEAST(1.0, ({weighted_sum}) / ({weight_sum}))\n",
    "                    ELSE NULL \n",
    "                END as {col_name}\n",
    "            \"\"\"\n",
    "            expressions.append(expr_str)\n",
    "        else:\n",
    "            expr_str = f\"\"\"\n",
    "                CASE \n",
    "                    WHEN {col_name} IS NOT NULL THEN {col_name}\n",
    "                END as {col_name}\n",
    "            \"\"\"\n",
    "            expressions.append(expr_str)\n",
    "    \n",
    "    return expressions"
   ],
   "id": "f5f741ef5e88f4ae",
   "outputs": [],
   "execution_count": 12
  },
  {
   "metadata": {
    "ExecuteTime": {
     "end_time": "2024-11-19T07:27:23.874903Z",
     "start_time": "2024-11-19T07:27:17.448745Z"
    }
   },
   "cell_type": "code",
   "source": [
    "# 4. Apply imputation\n",
    "imputation_expressions = create_imputation_expressions(column_info)\n",
    "imputed_matrix = feedback_matrix.selectExpr(\n",
    "    \"student_id\",\n",
    "    *imputation_expressions\n",
    ")"
   ],
   "id": "f5040393adf5e2b9",
   "outputs": [],
   "execution_count": 13
  },
  {
   "metadata": {
    "ExecuteTime": {
     "end_time": "2024-11-19T07:28:09.446381Z",
     "start_time": "2024-11-19T07:27:23.887832Z"
    }
   },
   "cell_type": "code",
   "source": "imputed_matrix.show(10)",
   "id": "2b79e297523e5e35",
   "outputs": [
    {
     "name": "stdout",
     "output_type": "stream",
     "text": [
      "+----------+------------------+------------------+------------------+------------------+------------------+------------------+------------------+------------------+------------------+------------------+------------------+------------------+------------------+------------------+------------------+------------------+------------------+------------------+------------------+------------------+------------------+------------------+------------------+------------------+------------------+------------------+------------------+------------------+------------------+------------------+------------------+------------------+------------------+------------------+------------------+------------------+------------------+------------------+------------------+------------------+------------------+------------------+-------------------+-------------------+-------------------+-------------------+-------------------+-------------------+------------------+-------------------+------------------+------------------+-------------------+------------------+-------------------+-------------------+-------------------+-------------------+-------------------+-------------------+-------------------+-------------------+-------------------+------------------+-------------------+------------------+------------------+------------------+-------------------+------------------+------------------+------------------+------------------+------------------+------------------+------------------+------------------+------------------+------------------+------------------+------------------+------+-------+-------+-------+-------+-------+-------+-------+-------+------+------+------+-------+-------+-------+------+------+\n",
      "|student_id|             1_G_A|            1_MD_A|           1_NBT_A|           1_NBT_B|           1_NBT_C|            1_OA_A|            1_OA_B|            1_OA_C|            1_OA_D|             2_G_A|            2_MD_A|            2_MD_B|            2_MD_C|            2_MD_D|           2_NBT_A|           2_NBT_B|            2_OA_A|            2_OA_B|            2_OA_C|             3_G_A|            3_MD_A|            3_MD_B|            3_MD_C|            3_MD_D|           3_NBT_A|            3_NF_A|            3_OA_A|            3_OA_B|            3_OA_C|            3_OA_D|             4_G_A|            4_MD_A|            4_MD_B|            4_MD_C|           4_NBT_A|           4_NBT_B|            4_NF_A|            4_NF_B|            4_NF_C|            4_OA_A|            4_OA_B|            4_OA_C|              5_G_A|              5_G_B|             5_MD_A|             5_MD_B|             5_MD_C|            5_NBT_A|           5_NBT_B|             5_NF_A|            5_NF_B|            5_OA_A|             5_OA_B|            6_EE_A|             6_EE_B|             6_EE_C|              6_G_A|             6_NS_A|             6_NS_B|             6_NS_C|             6_RP_A|             6_SP_A|             6_SP_B|            7_EE_A|             7_EE_B|             7_G_A|             7_G_B|            7_NS_A|             7_RP_A|            7_SP_A|            7_SP_B|            7_SP_C|            8_EE_A|            8_EE_B|            8_EE_C|             8_F_A|             8_F_B|             8_G_A|             8_G_B|             8_G_C|            8_NS_A|8_SP_A|9_APR_A|9_CED_A|9_REI_A|9_REI_B|9_REI_C|9_REI_D|9_SSE_A|9_SSE_B|9_IF_A|9_IF_B|9_LE_A|9_GPE_B|9_SRT_A|9_SRT_B|9_RN_A|9_CP_B|\n",
      "+----------+------------------+------------------+------------------+------------------+------------------+------------------+------------------+------------------+------------------+------------------+------------------+------------------+------------------+------------------+------------------+------------------+------------------+------------------+------------------+------------------+------------------+------------------+------------------+------------------+------------------+------------------+------------------+------------------+------------------+------------------+------------------+------------------+------------------+------------------+------------------+------------------+------------------+------------------+------------------+------------------+------------------+------------------+-------------------+-------------------+-------------------+-------------------+-------------------+-------------------+------------------+-------------------+------------------+------------------+-------------------+------------------+-------------------+-------------------+-------------------+-------------------+-------------------+-------------------+-------------------+-------------------+-------------------+------------------+-------------------+------------------+------------------+------------------+-------------------+------------------+------------------+------------------+------------------+------------------+------------------+------------------+------------------+------------------+------------------+------------------+------------------+------+-------+-------+-------+-------+-------+-------+-------+-------+------+------+------+-------+-------+-------+------+------+\n",
      "|     39285|0.9999992857147959|0.9999992857147959|0.9999992857147959|0.9999992857147959|0.9999992857147959|0.9999992857147959|0.9999992857147959|0.9999992857147959|0.9999992857147959|0.9902891570709227|0.9902891570709227|0.9902891570709227|0.9902891570709227|0.9902891570709227|0.9902891570709227|0.9902891570709227|0.9902891570709227|0.9902891570709227|0.9902891570709227|0.9374470746565475|0.9374470746565475|0.9374470746565475|0.9374470746565475|0.9374470746565475|0.9374470746565475|0.9374470746565475|0.9374470746565475|0.9374470746565475|0.9374470746565475|0.9374470746565475|0.8488947558677111|0.8488947558677111|0.8488947558677111|0.8488947558677111|0.8488947558677111|0.8488947558677111|0.8488947558677111|0.8488947558677111|0.8488947558677111|0.8488947558677111|0.8488947558677111|0.8488947558677111| 0.7520892074032681| 0.7520892074032681| 0.7520892074032681| 0.7520892074032681| 0.7520892074032681| 0.7520892074032681|0.7520892074032681| 0.7520892074032681|0.7520892074032681|0.7520892074032681| 0.7520892074032681|0.6105579418620051| 0.6105579418620051| 0.6105579418620051| 0.6105579418620051| 0.5700019371980581| 0.6826701736221747| 0.6278965679830691| 0.7451267769308346| 0.6105579418620051| 0.6105579418620051|              NULL|               NULL|              NULL|              NULL|0.5394556520637785|0.48166023166023164|              NULL|              NULL|              NULL|              NULL|              NULL|              NULL|              NULL|              NULL|              NULL|              NULL|              NULL|              NULL|  NULL|   NULL|   NULL|   NULL|   NULL|   NULL|   NULL|   NULL|   NULL|  NULL|  NULL|  NULL|   NULL|   NULL|   NULL|  NULL|  NULL|\n",
      "|    312380| 0.892820653299397| 0.892820653299397|0.9213595292209924|0.9213595292209924|0.9213595292209924|0.8791385230233081|0.8791385230233081|0.8791385230233081|0.8791385230233081|0.8173175993622747|0.8173175993622747|0.8173175993622747|0.8173175993622747|0.8173175993622747|0.8547590760195682|0.8547590760195682| 0.793189652877337| 0.793189652877337| 0.793189652877337|0.7848091535080145|0.7848091535080145|0.7848091535080145|0.7848091535080145|0.7848091535080145|0.8131752395274378|0.7695139882063337| 0.599856846447433|0.8303250029782787|0.8303250029782787|0.8303250029782787| 0.692291867399418| 0.692291867399418| 0.692291867399418| 0.692291867399418|0.7196661381354985|0.7196661381354985|0.6723604798404279|0.6723604798404279|0.6723604798404279|0.7378448853765777|0.7378448853765777|0.7378448853765777|0.49193623478980175|0.49193623478980175|0.49193623478980175|0.49193623478980175|0.49193623478980175|0.49193623478980175|0.6683315052913893|0.43997373756868263|0.6693136464441226|0.7188280233856373|0.49193623478980175|0.6270583930158398|0.47027027027027024|0.47027027027027024|0.47027027027027024|0.47027027027027024|0.11764705882352941|0.47027027027027024|0.47027027027027024|0.47027027027027024|0.47027027027027024|              NULL|0.37027027027027026|              NULL|              NULL|              NULL|               NULL|              NULL|              NULL|              NULL|              NULL|              NULL|              NULL|              NULL|              NULL|              NULL|              NULL|              NULL|              NULL|  NULL|   NULL|   NULL|   NULL|   NULL|   NULL|   NULL|   NULL|   NULL|  NULL|  NULL|  NULL|   NULL|   NULL|   NULL|  NULL|  NULL|\n",
      "|     46465|0.9899785682728797|0.9599160912722352|0.9856214278325148|0.9856214278325148|0.9856214278325148|0.9856214278325148|0.9856214278325148|0.9856214278325148|0.9856214278325148|0.9742090205962918|0.9091028538489602|0.9091028538489602|0.9091028538489602|0.9091028538489602|0.9651247959572568|0.9651247959572568|0.9651247959572568|0.9651247959572568|0.9651247959572568|0.9146546797609407|0.8174060166270385|0.8174060166270385|0.8174060166270385|0.8174060166270385|0.9030803513522961|0.9030803513522961|0.9030803513522961|0.9030803513522961|0.9030803513522961|0.9030803513522961|0.8916619198674163|0.9079763119411953|0.9079763119411953|0.6007937657729201|0.9079763119411953|0.9079763119411953|0.9079763119411953|0.9079763119411953|0.9079763119411953|0.9079763119411953|0.9079763119411953|0.9079763119411953| 0.8049661308958889| 0.8049661308958889| 0.8244269507540486| 0.8244269507540486| 0.8244269507540486| 0.8244269507540486|0.8244269507540486| 0.8244269507540486|0.8244269507540486|0.8244269507540486| 0.8244269507540486|0.6860521756112822| 0.7779189919104558| 0.6860521756112822| 0.6678270009267486| 0.7813953488372093| 0.6139002584426666| 0.6776952177921135| 0.8880542691926353| 0.6789231157671481| 0.6789231157671481|0.5399024835709478| 0.6517014358963434|0.4923251269479191|0.6203030355530599|              NULL|               NULL|              0.56| 0.536371237458194|0.6432632051183311|              NULL|              NULL|              NULL|              NULL|              NULL|              NULL|              NULL|              NULL|              NULL|  NULL|   NULL|   NULL|   NULL|   NULL|   NULL|   NULL|   NULL|   NULL|  NULL|  NULL|  NULL|   NULL|   NULL|   NULL|  NULL|  NULL|\n",
      "|    160563|0.9999997879859107|               1.0|               1.0|               1.0|               1.0|               1.0|               1.0|               1.0|               1.0|0.9999994482761662|0.9999990588244152|0.9999990588244152|0.9999990588244152|0.9999990588244152|0.9999994482761664|0.9999994482761664|0.9999990588244152|0.9999990588244152|0.9999990588244152|0.9731895121825881|0.9869229601187117|0.9869229601187117|0.9869229601187117|0.9869229601187117|0.9928076286537585|0.9869229601187117|0.9869229601187117|0.9869229601187117|0.9869229601187117|0.9869229601187117|0.9298041795076674|0.9448567177327462|0.9448567177327462|0.9448567177327462|0.9499084021380491|0.9499084021380491|0.9448567177327462|0.9448567177327462|0.9448567177327462|0.9448567177327462|0.9448567177327462|0.9448567177327462| 0.8439319678241317| 0.8439319678241317|   0.86689030499316|   0.86689030499316|   0.86689030499316| 0.8545391128429101|  0.86689030499316|   0.86689030499316|  0.86689030499316|  0.86689030499316|   0.86689030499316|0.6854258624159274|   0.83273942091767|   0.83273942091767| 0.7622949328519948| 0.8535419288037894| 0.8535419288037894| 0.8535419288037894| 0.8210638073975385| 0.8210638073975385| 0.8210638073975385|  0.73273942091767|   0.73273942091767|0.6622949328519947|0.6622949328519947|0.7535419288037893| 0.7210638073975384|0.7210638073975384|0.7210638073975384|0.7210638073975384|0.6521987767845558|              NULL|              NULL|              NULL|0.7188063875941785|              NULL|0.4044157188567127|0.6222260226047039| 0.707672131147541|  NULL|   NULL|   NULL|   NULL|   NULL|   NULL|   NULL|   NULL|   NULL|  NULL|  NULL|  NULL|   NULL|   NULL|   NULL|  NULL|  NULL|\n",
      "|     46943|0.9763372253358097|0.9897094482093002|0.9897094482093002|0.9897094482093002|0.9897094482093002|0.9897094482093002|0.9897094482093002|0.9897094482093002|0.9897094482093002|0.9016208834949246|0.9334830831478148|0.9334830831478148|0.9334830831478148|0.9334830831478148|0.9334830831478148|0.9334830831478148|0.9334830831478148|0.9334830831478148|0.9334830831478148|0.8124757391939016|0.8518310588528513|0.8518310588528513|0.8518310588528513|0.8518310588528513|0.8518310588528513|0.8518310588528513|0.8518310588528513|0.8518310588528513|0.8518310588528513|0.8518310588528513|0.7172965392286751|0.7589744417173084|0.7589744417173084|0.7589744417173084|0.7589744417173084|0.7589744417173084|0.7589744417173084|0.7589744417173084|0.7589744417173084|0.7589744417173084|0.7589744417173084|0.7589744417173084| 0.6141941645531188| 0.6141941645531188| 0.6501564293036318| 0.6501564293036318| 0.6501564293036318| 0.6501564293036318|0.6501564293036318| 0.6501564293036318|0.6501564293036318|0.6501564293036318| 0.6501564293036318|0.6399992688260655| 0.6399992688260655| 0.6399992688260655| 0.5082393034552892| 0.5682230214155808| 0.5682230214155808| 0.5682230214155808| 0.5101171458998935| 0.5682230214155808| 0.5682230214155808|0.6596263478435399| 0.6596263478435399|0.3582528718217129|0.6596263478435399|0.6596263478435399|0.48249150779546923|0.6596263478435399|0.6596263478435399|0.6596263478435399|              NULL|              NULL|0.5596263478435399|              NULL|              NULL|              NULL|              NULL|              NULL|              NULL|  NULL|   NULL|   NULL|   NULL|   NULL|   NULL|   NULL|   NULL|   NULL|  NULL|  NULL|  NULL|   NULL|   NULL|   NULL|  NULL|  NULL|\n",
      "|     90817|0.9999991713490011|0.9999988592246023|0.9999988592246023|0.9999988592246023|0.9999988592246023|0.9999988592246023|0.9999988592246023|0.9999988592246023|0.9999988592246023|0.9967261048013096|0.9980413323444843|0.9980413323444843|0.9980413323444843|0.9980413323444843|0.9980413323444843|0.9980413323444843|0.9980413323444843|0.9980413323444843|0.9980413323444843|  0.96852099302933|0.9752418785240632|0.9752418785240632|0.9752418785240632|0.9752418785240632|0.9752418785240632|0.9752418785240632|0.9752418785240632|0.9752418785240632|0.9752418785240632|0.9752418785240632|0.9131887381376672|0.9069835549893396|0.9069835549893396|0.9069835549893396|0.9069835549893396|0.9069835549893396|0.9069835549893396|0.9069835549893396|0.9069835549893396|0.9069835549893396|0.9069835549893396|0.9069835549893396| 0.8423440584634191| 0.8423440584634191| 0.8196781661489606| 0.8196781661489606| 0.8196781661489606| 0.8196781661489606|0.8196781661489606| 0.8196781661489606|0.8196781661489606|0.8196781661489606| 0.8196781661489606|0.7427411103224877| 0.7427411103224877| 0.7427411103224877| 0.7535424109269694| 0.7391631357863383| 0.7391631357863383| 0.7391631357863383|  0.740646326859362|  0.714665106969872| 0.5931343933761004|0.6116888794429114| 0.6083277849175996|0.4855726535342288|0.7846750565154614|0.7800160582079578| 0.6453430985906036|0.5990555538075145| 0.594501016491481|0.5728616593584769|              NULL|0.6963327282870289|              NULL|              NULL| 0.625430069244048|0.7182853770927967|              NULL|              NULL|              NULL|  NULL|   NULL|   NULL|   NULL|   NULL|   NULL|   NULL|   NULL|   NULL|  NULL|  NULL|  NULL|   NULL|   NULL|   NULL|  NULL|  NULL|\n",
      "|    230907|0.9999980000039999|0.9999980000039999|0.9999980000039999|0.9999980000039999|0.9999980000039999|0.9999980000039999|0.9999980000039999|0.9999980000039999|0.9999980000039999|               1.0|               1.0|               1.0|               1.0|               1.0|               1.0|               1.0|               1.0|               1.0|               1.0| 0.970245980884575| 0.970245980884575| 0.970245980884575| 0.970245980884575| 0.970245980884575| 0.970245980884575| 0.970245980884575| 0.970245980884575| 0.970245980884575| 0.970245980884575| 0.970245980884575|0.8702468511314261|0.8702468511314261|0.8702468511314261|0.8702468511314261|0.8702468511314261|0.8702468511314261|0.8702468511314261|0.8702468511314261|0.8702468511314261|0.8702468511314261|0.8702468511314261|0.8702468511314261|  0.770245980884575|  0.770245980884575|  0.770245980884575|  0.770245980884575|  0.770245980884575|  0.770245980884575| 0.770245980884575|  0.770245980884575| 0.770245980884575| 0.770245980884575|  0.770245980884575| 0.670245980884575|  0.670245980884575|  0.670245980884575|  0.670245980884575|  0.670245980884575|  0.670245980884575|  0.670245980884575|  0.670245980884575|  0.670245980884575|  0.670245980884575|              NULL|               NULL|              NULL|              NULL|              NULL|  0.570245980884575|              NULL|              NULL|              NULL|              NULL|              NULL|              NULL|              NULL|              NULL|              NULL|              NULL|              NULL|              NULL|  NULL|   NULL|   NULL|   NULL|   NULL|   NULL|   NULL|   NULL|   NULL|  NULL|  NULL|  NULL|   NULL|   NULL|   NULL|  NULL|  NULL|\n",
      "|    229071|               1.0|               1.0|               1.0|               1.0|               1.0|               1.0|               1.0|               1.0|               1.0|0.9999980000039999|0.9999980000039999|0.9999980000039999|0.9999980000039999|0.9999980000039999|0.9999980000039999|0.9999980000039999|0.9999980000039999|0.9999980000039999|0.9999980000039999|               1.0|               1.0|               1.0|               1.0|               1.0|               1.0|               1.0|               1.0|               1.0|               1.0|               1.0|0.9902068797431637|0.9902068797431637|0.9902068797431637|0.9902068797431637|0.9902068797431637|0.9902068797431637|0.9902068797431637|0.9902068797431637|0.9902068797431637|0.9902068797431637|0.9902068797431637|0.9902068797431637| 0.8902077699509336| 0.8902077699509336| 0.8902077699509336| 0.8902077699509336| 0.8902077699509336| 0.8902077699509336|0.8902077699509336| 0.8902077699509336|0.8902077699509336|0.8902077699509336| 0.8902077699509336|0.7902068797431636| 0.7902068797431636| 0.7902068797431636| 0.7902068797431636| 0.7902068797431636| 0.7902068797431636| 0.7902068797431636| 0.7902068797431636| 0.7902068797431636| 0.7902068797431636|0.6902068797431636| 0.6902068797431636|0.6902068797431636|0.6902068797431636|0.6902068797431636| 0.6902068797431636|0.6902068797431636|0.6902068797431636|0.6902068797431636|              NULL|              NULL|              NULL|              NULL|              NULL|              NULL|              NULL|              NULL|0.5902068797431637|  NULL|   NULL|   NULL|   NULL|   NULL|   NULL|   NULL|   NULL|   NULL|  NULL|  NULL|  NULL|   NULL|   NULL|   NULL|  NULL|  NULL|\n",
      "|    188122|0.9999994444447531|0.9999985714306122|0.9999985714306122|0.9999985714306122|0.9999985714306122|0.9999985714306122|0.9999985714306122|0.9999985714306122|0.9999985714306122|               1.0|               1.0|               1.0|               1.0|               1.0|               1.0|               1.0|               1.0|               1.0|               1.0|0.9946140041765819|0.9964786174462621|0.9964786174462621|0.9964786174462621|0.9964786174462621|0.9964786174462621|0.9964786174462621|0.9964786174462621|0.9964786174462621|0.9964786174462621|0.9964786174462621| 0.953978287370075|0.9541158684370445|0.9541158684370445|0.9541158684370445|0.9541158684370445|0.9541158684370445|0.9541158684370445|0.9541158684370445|0.9541158684370445|0.9541158684370445|0.9541158684370445|0.9541158684370445| 0.9195272241744048| 0.9195272241744048| 0.9038326195109454| 0.9038326195109454| 0.9038326195109454| 0.9038326195109454|0.9038326195109454| 0.9038326195109454|0.9038326195109454|0.9038326195109454| 0.9038326195109454| 0.724250115587512|  0.724250115587512|  0.724250115587512| 0.9832226154260053| 0.7397210325182423| 0.7397210325182423| 0.7397210325182423| 0.7826827922269369| 0.7397210325182423| 0.7397210325182423|0.6087791986567814|               NULL|              NULL|0.5847393469623138|              NULL| 0.7256445519356317|              NULL|              NULL|              NULL|              NULL|              NULL|              NULL|              NULL|              NULL|              NULL|              NULL|              NULL|              NULL|  NULL|   NULL|   NULL|   NULL|   NULL|   NULL|   NULL|   NULL|   NULL|  NULL|  NULL|  NULL|   NULL|   NULL|   NULL|  NULL|  NULL|\n",
      "|     87905|               1.0|               1.0|               1.0|               1.0|               1.0|               1.0|               1.0|               1.0|               1.0|0.9999988571441631|0.9999980000039999|0.9999980000039999|0.9999980000039999|0.9999980000039999|0.9999980000039999|0.9999980000039999|0.9999980000039999|0.9999980000039999|0.9999980000039999|               1.0|               1.0|               1.0|               1.0|               1.0|               1.0|               1.0|               1.0|               1.0|               1.0|               1.0|               1.0|               1.0|               1.0|               1.0|               1.0|               1.0|               1.0|               1.0|               1.0|               1.0|               1.0|               1.0| 0.9918505499632819| 0.9918505499632819| 0.9857384609077212| 0.9857384609077212| 0.9857384609077212| 0.9857384609077212|0.9857384609077212| 0.9857384609077212|0.9857384609077212|0.9857384609077212| 0.9857384609077212|0.9326930624280656| 0.9326930624280656| 0.9326930624280656| 0.9241793374950724| 0.9145770751385374| 0.9145770751385374| 0.9145770751385374| 0.9145770751385374| 0.9145770751385374| 0.9145770751385374|0.8326930624280655| 0.8326930624280655|0.8241793374950722|0.8241793374950722|0.8145770751385373| 0.8145770751385373|0.8145770751385373|0.8145770751385373|0.8145770751385373|              NULL|              NULL|0.7568477121474366|0.7215253765438362|0.6429528578924246|              NULL|              NULL|0.7369823539704522|              NULL|  NULL|   NULL|   NULL|   NULL|   NULL|   NULL|   NULL|   NULL|   NULL|  NULL|  NULL|  NULL|   NULL|   NULL|   NULL|  NULL|  NULL|\n",
      "+----------+------------------+------------------+------------------+------------------+------------------+------------------+------------------+------------------+------------------+------------------+------------------+------------------+------------------+------------------+------------------+------------------+------------------+------------------+------------------+------------------+------------------+------------------+------------------+------------------+------------------+------------------+------------------+------------------+------------------+------------------+------------------+------------------+------------------+------------------+------------------+------------------+------------------+------------------+------------------+------------------+------------------+------------------+-------------------+-------------------+-------------------+-------------------+-------------------+-------------------+------------------+-------------------+------------------+------------------+-------------------+------------------+-------------------+-------------------+-------------------+-------------------+-------------------+-------------------+-------------------+-------------------+-------------------+------------------+-------------------+------------------+------------------+------------------+-------------------+------------------+------------------+------------------+------------------+------------------+------------------+------------------+------------------+------------------+------------------+------------------+------------------+------+-------+-------+-------+-------+-------+-------+-------+-------+------+------+------+-------+-------+-------+------+------+\n",
      "only showing top 10 rows\n",
      "\n"
     ]
    }
   ],
   "execution_count": 14
  },
  {
   "metadata": {
    "ExecuteTime": {
     "end_time": "2024-11-19T07:28:09.779261Z",
     "start_time": "2024-11-19T07:28:09.459294Z"
    }
   },
   "cell_type": "code",
   "source": [
    "# 5. Forward fill remaining nulls with grade-based defaults\n",
    "default_expressions = []\n",
    "for col_name, info in column_info:\n",
    "    # Higher default performance for lower grades\n",
    "    base_performance = 0.35\n",
    "    grade_boost = 0.05 * (max(g['grade'] for _, g in column_info) - info['grade'])\n",
    "    default_value = min(0.95, base_performance + grade_boost)  # Cap at 0.95\n",
    "\n",
    "    expr_str = f\"\"\"\n",
    "        CASE \n",
    "            WHEN {col_name} IS NOT NULL THEN {col_name}\n",
    "            ELSE {default_value}  -- Grade-adjusted default performance\n",
    "        END as {col_name}\n",
    "    \"\"\"\n",
    "    default_expressions.append(expr_str)\n",
    "\n",
    "final_matrix = imputed_matrix.selectExpr(\n",
    "    \"student_id\",\n",
    "    *default_expressions\n",
    ")"
   ],
   "id": "15c4eaabf16f44dd",
   "outputs": [],
   "execution_count": 15
  },
  {
   "metadata": {
    "ExecuteTime": {
     "end_time": "2024-11-19T07:28:56.009587Z",
     "start_time": "2024-11-19T07:28:09.793310Z"
    }
   },
   "cell_type": "code",
   "source": "final_matrix.show(10)",
   "id": "7a0e18f56785e6a7",
   "outputs": [
    {
     "name": "stdout",
     "output_type": "stream",
     "text": [
      "+----------+------------------+------------------+------------------+------------------+------------------+------------------+------------------+------------------+------------------+------------------+------------------+------------------+------------------+------------------+------------------+------------------+------------------+------------------+------------------+------------------+------------------+------------------+------------------+------------------+------------------+------------------+------------------+------------------+------------------+------------------+------------------+------------------+------------------+------------------+------------------+------------------+------------------+------------------+------------------+------------------+------------------+------------------+-------------------+-------------------+-------------------+-------------------+-------------------+-------------------+------------------+-------------------+------------------+------------------+-------------------+------------------+-------------------+-------------------+-------------------+-------------------+-------------------+-------------------+-------------------+-------------------+-------------------+-------------------+-------------------+-------------------+-------------------+-------------------+-------------------+-------------------+-------------------+-------------------+-------------------+-------------------+-------------------+-------------------+-------------------+-------------------+-------------------+-------------------+-------------------+-------------------+-------+-------+-------+-------+-------+-------+-------+-------+------+------+------+-------+-------+-------+------+------+\n",
      "|student_id|             1_G_A|            1_MD_A|           1_NBT_A|           1_NBT_B|           1_NBT_C|            1_OA_A|            1_OA_B|            1_OA_C|            1_OA_D|             2_G_A|            2_MD_A|            2_MD_B|            2_MD_C|            2_MD_D|           2_NBT_A|           2_NBT_B|            2_OA_A|            2_OA_B|            2_OA_C|             3_G_A|            3_MD_A|            3_MD_B|            3_MD_C|            3_MD_D|           3_NBT_A|            3_NF_A|            3_OA_A|            3_OA_B|            3_OA_C|            3_OA_D|             4_G_A|            4_MD_A|            4_MD_B|            4_MD_C|           4_NBT_A|           4_NBT_B|            4_NF_A|            4_NF_B|            4_NF_C|            4_OA_A|            4_OA_B|            4_OA_C|              5_G_A|              5_G_B|             5_MD_A|             5_MD_B|             5_MD_C|            5_NBT_A|           5_NBT_B|             5_NF_A|            5_NF_B|            5_OA_A|             5_OA_B|            6_EE_A|             6_EE_B|             6_EE_C|              6_G_A|             6_NS_A|             6_NS_B|             6_NS_C|             6_RP_A|             6_SP_A|             6_SP_B|             7_EE_A|             7_EE_B|              7_G_A|              7_G_B|             7_NS_A|             7_RP_A|             7_SP_A|             7_SP_B|             7_SP_C|             8_EE_A|             8_EE_B|             8_EE_C|              8_F_A|              8_F_B|              8_G_A|              8_G_B|              8_G_C|             8_NS_A|             8_SP_A|9_APR_A|9_CED_A|9_REI_A|9_REI_B|9_REI_C|9_REI_D|9_SSE_A|9_SSE_B|9_IF_A|9_IF_B|9_LE_A|9_GPE_B|9_SRT_A|9_SRT_B|9_RN_A|9_CP_B|\n",
      "+----------+------------------+------------------+------------------+------------------+------------------+------------------+------------------+------------------+------------------+------------------+------------------+------------------+------------------+------------------+------------------+------------------+------------------+------------------+------------------+------------------+------------------+------------------+------------------+------------------+------------------+------------------+------------------+------------------+------------------+------------------+------------------+------------------+------------------+------------------+------------------+------------------+------------------+------------------+------------------+------------------+------------------+------------------+-------------------+-------------------+-------------------+-------------------+-------------------+-------------------+------------------+-------------------+------------------+------------------+-------------------+------------------+-------------------+-------------------+-------------------+-------------------+-------------------+-------------------+-------------------+-------------------+-------------------+-------------------+-------------------+-------------------+-------------------+-------------------+-------------------+-------------------+-------------------+-------------------+-------------------+-------------------+-------------------+-------------------+-------------------+-------------------+-------------------+-------------------+-------------------+-------------------+-------+-------+-------+-------+-------+-------+-------+-------+------+------+------+-------+-------+-------+------+------+\n",
      "|     39285|0.9999992857147959|0.9999992857147959|0.9999992857147959|0.9999992857147959|0.9999992857147959|0.9999992857147959|0.9999992857147959|0.9999992857147959|0.9999992857147959|0.9902891570709227|0.9902891570709227|0.9902891570709227|0.9902891570709227|0.9902891570709227|0.9902891570709227|0.9902891570709227|0.9902891570709227|0.9902891570709227|0.9902891570709227|0.9374470746565475|0.9374470746565475|0.9374470746565475|0.9374470746565475|0.9374470746565475|0.9374470746565475|0.9374470746565475|0.9374470746565475|0.9374470746565475|0.9374470746565475|0.9374470746565475|0.8488947558677111|0.8488947558677111|0.8488947558677111|0.8488947558677111|0.8488947558677111|0.8488947558677111|0.8488947558677111|0.8488947558677111|0.8488947558677111|0.8488947558677111|0.8488947558677111|0.8488947558677111| 0.7520892074032681| 0.7520892074032681| 0.7520892074032681| 0.7520892074032681| 0.7520892074032681| 0.7520892074032681|0.7520892074032681| 0.7520892074032681|0.7520892074032681|0.7520892074032681| 0.7520892074032681|0.6105579418620051| 0.6105579418620051| 0.6105579418620051| 0.6105579418620051| 0.5700019371980581| 0.6826701736221747| 0.6278965679830691| 0.7451267769308346| 0.6105579418620051| 0.6105579418620051|0.44999999999999996|0.44999999999999996|0.44999999999999996|0.44999999999999996| 0.5394556520637785|0.48166023166023164|0.44999999999999996|0.44999999999999996|0.44999999999999996|0.39999999999999997|0.39999999999999997|0.39999999999999997|0.39999999999999997|0.39999999999999997|0.39999999999999997|0.39999999999999997|0.39999999999999997|0.39999999999999997|0.39999999999999997|   0.35|   0.35|   0.35|   0.35|   0.35|   0.35|   0.35|   0.35|  0.35|  0.35|  0.35|   0.35|   0.35|   0.35|  0.35|  0.35|\n",
      "|    312380| 0.892820653299397| 0.892820653299397|0.9213595292209924|0.9213595292209924|0.9213595292209924|0.8791385230233081|0.8791385230233081|0.8791385230233081|0.8791385230233081|0.8173175993622747|0.8173175993622747|0.8173175993622747|0.8173175993622747|0.8173175993622747|0.8547590760195682|0.8547590760195682| 0.793189652877337| 0.793189652877337| 0.793189652877337|0.7848091535080145|0.7848091535080145|0.7848091535080145|0.7848091535080145|0.7848091535080145|0.8131752395274378|0.7695139882063337| 0.599856846447433|0.8303250029782787|0.8303250029782787|0.8303250029782787| 0.692291867399418| 0.692291867399418| 0.692291867399418| 0.692291867399418|0.7196661381354985|0.7196661381354985|0.6723604798404279|0.6723604798404279|0.6723604798404279|0.7378448853765777|0.7378448853765777|0.7378448853765777|0.49193623478980175|0.49193623478980175|0.49193623478980175|0.49193623478980175|0.49193623478980175|0.49193623478980175|0.6683315052913893|0.43997373756868263|0.6693136464441226|0.7188280233856373|0.49193623478980175|0.6270583930158398|0.47027027027027024|0.47027027027027024|0.47027027027027024|0.47027027027027024|0.11764705882352941|0.47027027027027024|0.47027027027027024|0.47027027027027024|0.47027027027027024|0.44999999999999996|0.37027027027027026|0.44999999999999996|0.44999999999999996|0.44999999999999996|0.44999999999999996|0.44999999999999996|0.44999999999999996|0.44999999999999996|0.39999999999999997|0.39999999999999997|0.39999999999999997|0.39999999999999997|0.39999999999999997|0.39999999999999997|0.39999999999999997|0.39999999999999997|0.39999999999999997|0.39999999999999997|   0.35|   0.35|   0.35|   0.35|   0.35|   0.35|   0.35|   0.35|  0.35|  0.35|  0.35|   0.35|   0.35|   0.35|  0.35|  0.35|\n",
      "|     46465|0.9899785682728797|0.9599160912722352|0.9856214278325148|0.9856214278325148|0.9856214278325148|0.9856214278325148|0.9856214278325148|0.9856214278325148|0.9856214278325148|0.9742090205962918|0.9091028538489602|0.9091028538489602|0.9091028538489602|0.9091028538489602|0.9651247959572568|0.9651247959572568|0.9651247959572568|0.9651247959572568|0.9651247959572568|0.9146546797609407|0.8174060166270385|0.8174060166270385|0.8174060166270385|0.8174060166270385|0.9030803513522961|0.9030803513522961|0.9030803513522961|0.9030803513522961|0.9030803513522961|0.9030803513522961|0.8916619198674163|0.9079763119411953|0.9079763119411953|0.6007937657729201|0.9079763119411953|0.9079763119411953|0.9079763119411953|0.9079763119411953|0.9079763119411953|0.9079763119411953|0.9079763119411953|0.9079763119411953| 0.8049661308958889| 0.8049661308958889| 0.8244269507540486| 0.8244269507540486| 0.8244269507540486| 0.8244269507540486|0.8244269507540486| 0.8244269507540486|0.8244269507540486|0.8244269507540486| 0.8244269507540486|0.6860521756112822| 0.7779189919104558| 0.6860521756112822| 0.6678270009267486| 0.7813953488372093| 0.6139002584426666| 0.6776952177921135| 0.8880542691926353| 0.6789231157671481| 0.6789231157671481| 0.5399024835709478| 0.6517014358963434| 0.4923251269479191| 0.6203030355530599|0.44999999999999996|0.44999999999999996|               0.56|  0.536371237458194| 0.6432632051183311|0.39999999999999997|0.39999999999999997|0.39999999999999997|0.39999999999999997|0.39999999999999997|0.39999999999999997|0.39999999999999997|0.39999999999999997|0.39999999999999997|0.39999999999999997|   0.35|   0.35|   0.35|   0.35|   0.35|   0.35|   0.35|   0.35|  0.35|  0.35|  0.35|   0.35|   0.35|   0.35|  0.35|  0.35|\n",
      "|    160563|0.9999997879859107|               1.0|               1.0|               1.0|               1.0|               1.0|               1.0|               1.0|               1.0|0.9999994482761662|0.9999990588244152|0.9999990588244152|0.9999990588244152|0.9999990588244152|0.9999994482761664|0.9999994482761664|0.9999990588244152|0.9999990588244152|0.9999990588244152|0.9731895121825881|0.9869229601187117|0.9869229601187117|0.9869229601187117|0.9869229601187117|0.9928076286537585|0.9869229601187117|0.9869229601187117|0.9869229601187117|0.9869229601187117|0.9869229601187117|0.9298041795076674|0.9448567177327462|0.9448567177327462|0.9448567177327462|0.9499084021380491|0.9499084021380491|0.9448567177327462|0.9448567177327462|0.9448567177327462|0.9448567177327462|0.9448567177327462|0.9448567177327462| 0.8439319678241317| 0.8439319678241317|   0.86689030499316|   0.86689030499316|   0.86689030499316| 0.8545391128429101|  0.86689030499316|   0.86689030499316|  0.86689030499316|  0.86689030499316|   0.86689030499316|0.6854258624159274|   0.83273942091767|   0.83273942091767| 0.7622949328519948| 0.8535419288037894| 0.8535419288037894| 0.8535419288037894| 0.8210638073975385| 0.8210638073975385| 0.8210638073975385|   0.73273942091767|   0.73273942091767| 0.6622949328519947| 0.6622949328519947| 0.7535419288037893| 0.7210638073975384| 0.7210638073975384| 0.7210638073975384| 0.7210638073975384| 0.6521987767845558|0.39999999999999997|0.39999999999999997|0.39999999999999997| 0.7188063875941785|0.39999999999999997| 0.4044157188567127| 0.6222260226047039|  0.707672131147541|0.39999999999999997|   0.35|   0.35|   0.35|   0.35|   0.35|   0.35|   0.35|   0.35|  0.35|  0.35|  0.35|   0.35|   0.35|   0.35|  0.35|  0.35|\n",
      "|     46943|0.9763372253358097|0.9897094482093002|0.9897094482093002|0.9897094482093002|0.9897094482093002|0.9897094482093002|0.9897094482093002|0.9897094482093002|0.9897094482093002|0.9016208834949246|0.9334830831478148|0.9334830831478148|0.9334830831478148|0.9334830831478148|0.9334830831478148|0.9334830831478148|0.9334830831478148|0.9334830831478148|0.9334830831478148|0.8124757391939016|0.8518310588528513|0.8518310588528513|0.8518310588528513|0.8518310588528513|0.8518310588528513|0.8518310588528513|0.8518310588528513|0.8518310588528513|0.8518310588528513|0.8518310588528513|0.7172965392286751|0.7589744417173084|0.7589744417173084|0.7589744417173084|0.7589744417173084|0.7589744417173084|0.7589744417173084|0.7589744417173084|0.7589744417173084|0.7589744417173084|0.7589744417173084|0.7589744417173084| 0.6141941645531188| 0.6141941645531188| 0.6501564293036318| 0.6501564293036318| 0.6501564293036318| 0.6501564293036318|0.6501564293036318| 0.6501564293036318|0.6501564293036318|0.6501564293036318| 0.6501564293036318|0.6399992688260655| 0.6399992688260655| 0.6399992688260655| 0.5082393034552892| 0.5682230214155808| 0.5682230214155808| 0.5682230214155808| 0.5101171458998935| 0.5682230214155808| 0.5682230214155808| 0.6596263478435399| 0.6596263478435399| 0.3582528718217129| 0.6596263478435399| 0.6596263478435399|0.48249150779546923| 0.6596263478435399| 0.6596263478435399| 0.6596263478435399|0.39999999999999997|0.39999999999999997| 0.5596263478435399|0.39999999999999997|0.39999999999999997|0.39999999999999997|0.39999999999999997|0.39999999999999997|0.39999999999999997|0.39999999999999997|   0.35|   0.35|   0.35|   0.35|   0.35|   0.35|   0.35|   0.35|  0.35|  0.35|  0.35|   0.35|   0.35|   0.35|  0.35|  0.35|\n",
      "|     90817|0.9999991713490011|0.9999988592246023|0.9999988592246023|0.9999988592246023|0.9999988592246023|0.9999988592246023|0.9999988592246023|0.9999988592246023|0.9999988592246023|0.9967261048013096|0.9980413323444843|0.9980413323444843|0.9980413323444843|0.9980413323444843|0.9980413323444843|0.9980413323444843|0.9980413323444843|0.9980413323444843|0.9980413323444843|  0.96852099302933|0.9752418785240632|0.9752418785240632|0.9752418785240632|0.9752418785240632|0.9752418785240632|0.9752418785240632|0.9752418785240632|0.9752418785240632|0.9752418785240632|0.9752418785240632|0.9131887381376672|0.9069835549893396|0.9069835549893396|0.9069835549893396|0.9069835549893396|0.9069835549893396|0.9069835549893396|0.9069835549893396|0.9069835549893396|0.9069835549893396|0.9069835549893396|0.9069835549893396| 0.8423440584634191| 0.8423440584634191| 0.8196781661489606| 0.8196781661489606| 0.8196781661489606| 0.8196781661489606|0.8196781661489606| 0.8196781661489606|0.8196781661489606|0.8196781661489606| 0.8196781661489606|0.7427411103224877| 0.7427411103224877| 0.7427411103224877| 0.7535424109269694| 0.7391631357863383| 0.7391631357863383| 0.7391631357863383|  0.740646326859362|  0.714665106969872| 0.5931343933761004| 0.6116888794429114| 0.6083277849175996| 0.4855726535342288| 0.7846750565154614| 0.7800160582079578| 0.6453430985906036| 0.5990555538075145|  0.594501016491481| 0.5728616593584769|0.39999999999999997| 0.6963327282870289|0.39999999999999997|0.39999999999999997|  0.625430069244048| 0.7182853770927967|0.39999999999999997|0.39999999999999997|0.39999999999999997|0.39999999999999997|   0.35|   0.35|   0.35|   0.35|   0.35|   0.35|   0.35|   0.35|  0.35|  0.35|  0.35|   0.35|   0.35|   0.35|  0.35|  0.35|\n",
      "|    230907|0.9999980000039999|0.9999980000039999|0.9999980000039999|0.9999980000039999|0.9999980000039999|0.9999980000039999|0.9999980000039999|0.9999980000039999|0.9999980000039999|               1.0|               1.0|               1.0|               1.0|               1.0|               1.0|               1.0|               1.0|               1.0|               1.0| 0.970245980884575| 0.970245980884575| 0.970245980884575| 0.970245980884575| 0.970245980884575| 0.970245980884575| 0.970245980884575| 0.970245980884575| 0.970245980884575| 0.970245980884575| 0.970245980884575|0.8702468511314261|0.8702468511314261|0.8702468511314261|0.8702468511314261|0.8702468511314261|0.8702468511314261|0.8702468511314261|0.8702468511314261|0.8702468511314261|0.8702468511314261|0.8702468511314261|0.8702468511314261|  0.770245980884575|  0.770245980884575|  0.770245980884575|  0.770245980884575|  0.770245980884575|  0.770245980884575| 0.770245980884575|  0.770245980884575| 0.770245980884575| 0.770245980884575|  0.770245980884575| 0.670245980884575|  0.670245980884575|  0.670245980884575|  0.670245980884575|  0.670245980884575|  0.670245980884575|  0.670245980884575|  0.670245980884575|  0.670245980884575|  0.670245980884575|0.44999999999999996|0.44999999999999996|0.44999999999999996|0.44999999999999996|0.44999999999999996|  0.570245980884575|0.44999999999999996|0.44999999999999996|0.44999999999999996|0.39999999999999997|0.39999999999999997|0.39999999999999997|0.39999999999999997|0.39999999999999997|0.39999999999999997|0.39999999999999997|0.39999999999999997|0.39999999999999997|0.39999999999999997|   0.35|   0.35|   0.35|   0.35|   0.35|   0.35|   0.35|   0.35|  0.35|  0.35|  0.35|   0.35|   0.35|   0.35|  0.35|  0.35|\n",
      "|    229071|               1.0|               1.0|               1.0|               1.0|               1.0|               1.0|               1.0|               1.0|               1.0|0.9999980000039999|0.9999980000039999|0.9999980000039999|0.9999980000039999|0.9999980000039999|0.9999980000039999|0.9999980000039999|0.9999980000039999|0.9999980000039999|0.9999980000039999|               1.0|               1.0|               1.0|               1.0|               1.0|               1.0|               1.0|               1.0|               1.0|               1.0|               1.0|0.9902068797431637|0.9902068797431637|0.9902068797431637|0.9902068797431637|0.9902068797431637|0.9902068797431637|0.9902068797431637|0.9902068797431637|0.9902068797431637|0.9902068797431637|0.9902068797431637|0.9902068797431637| 0.8902077699509336| 0.8902077699509336| 0.8902077699509336| 0.8902077699509336| 0.8902077699509336| 0.8902077699509336|0.8902077699509336| 0.8902077699509336|0.8902077699509336|0.8902077699509336| 0.8902077699509336|0.7902068797431636| 0.7902068797431636| 0.7902068797431636| 0.7902068797431636| 0.7902068797431636| 0.7902068797431636| 0.7902068797431636| 0.7902068797431636| 0.7902068797431636| 0.7902068797431636| 0.6902068797431636| 0.6902068797431636| 0.6902068797431636| 0.6902068797431636| 0.6902068797431636| 0.6902068797431636| 0.6902068797431636| 0.6902068797431636| 0.6902068797431636|0.39999999999999997|0.39999999999999997|0.39999999999999997|0.39999999999999997|0.39999999999999997|0.39999999999999997|0.39999999999999997|0.39999999999999997| 0.5902068797431637|0.39999999999999997|   0.35|   0.35|   0.35|   0.35|   0.35|   0.35|   0.35|   0.35|  0.35|  0.35|  0.35|   0.35|   0.35|   0.35|  0.35|  0.35|\n",
      "|    188122|0.9999994444447531|0.9999985714306122|0.9999985714306122|0.9999985714306122|0.9999985714306122|0.9999985714306122|0.9999985714306122|0.9999985714306122|0.9999985714306122|               1.0|               1.0|               1.0|               1.0|               1.0|               1.0|               1.0|               1.0|               1.0|               1.0|0.9946140041765819|0.9964786174462621|0.9964786174462621|0.9964786174462621|0.9964786174462621|0.9964786174462621|0.9964786174462621|0.9964786174462621|0.9964786174462621|0.9964786174462621|0.9964786174462621| 0.953978287370075|0.9541158684370445|0.9541158684370445|0.9541158684370445|0.9541158684370445|0.9541158684370445|0.9541158684370445|0.9541158684370445|0.9541158684370445|0.9541158684370445|0.9541158684370445|0.9541158684370445| 0.9195272241744048| 0.9195272241744048| 0.9038326195109454| 0.9038326195109454| 0.9038326195109454| 0.9038326195109454|0.9038326195109454| 0.9038326195109454|0.9038326195109454|0.9038326195109454| 0.9038326195109454| 0.724250115587512|  0.724250115587512|  0.724250115587512| 0.9832226154260053| 0.7397210325182423| 0.7397210325182423| 0.7397210325182423| 0.7826827922269369| 0.7397210325182423| 0.7397210325182423| 0.6087791986567814|0.44999999999999996|0.44999999999999996| 0.5847393469623138|0.44999999999999996| 0.7256445519356317|0.44999999999999996|0.44999999999999996|0.44999999999999996|0.39999999999999997|0.39999999999999997|0.39999999999999997|0.39999999999999997|0.39999999999999997|0.39999999999999997|0.39999999999999997|0.39999999999999997|0.39999999999999997|0.39999999999999997|   0.35|   0.35|   0.35|   0.35|   0.35|   0.35|   0.35|   0.35|  0.35|  0.35|  0.35|   0.35|   0.35|   0.35|  0.35|  0.35|\n",
      "|     87905|               1.0|               1.0|               1.0|               1.0|               1.0|               1.0|               1.0|               1.0|               1.0|0.9999988571441631|0.9999980000039999|0.9999980000039999|0.9999980000039999|0.9999980000039999|0.9999980000039999|0.9999980000039999|0.9999980000039999|0.9999980000039999|0.9999980000039999|               1.0|               1.0|               1.0|               1.0|               1.0|               1.0|               1.0|               1.0|               1.0|               1.0|               1.0|               1.0|               1.0|               1.0|               1.0|               1.0|               1.0|               1.0|               1.0|               1.0|               1.0|               1.0|               1.0| 0.9918505499632819| 0.9918505499632819| 0.9857384609077212| 0.9857384609077212| 0.9857384609077212| 0.9857384609077212|0.9857384609077212| 0.9857384609077212|0.9857384609077212|0.9857384609077212| 0.9857384609077212|0.9326930624280656| 0.9326930624280656| 0.9326930624280656| 0.9241793374950724| 0.9145770751385374| 0.9145770751385374| 0.9145770751385374| 0.9145770751385374| 0.9145770751385374| 0.9145770751385374| 0.8326930624280655| 0.8326930624280655| 0.8241793374950722| 0.8241793374950722| 0.8145770751385373| 0.8145770751385373| 0.8145770751385373| 0.8145770751385373| 0.8145770751385373|0.39999999999999997|0.39999999999999997| 0.7568477121474366| 0.7215253765438362| 0.6429528578924246|0.39999999999999997|0.39999999999999997| 0.7369823539704522|0.39999999999999997|0.39999999999999997|   0.35|   0.35|   0.35|   0.35|   0.35|   0.35|   0.35|   0.35|  0.35|  0.35|  0.35|   0.35|   0.35|   0.35|  0.35|  0.35|\n",
      "+----------+------------------+------------------+------------------+------------------+------------------+------------------+------------------+------------------+------------------+------------------+------------------+------------------+------------------+------------------+------------------+------------------+------------------+------------------+------------------+------------------+------------------+------------------+------------------+------------------+------------------+------------------+------------------+------------------+------------------+------------------+------------------+------------------+------------------+------------------+------------------+------------------+------------------+------------------+------------------+------------------+------------------+------------------+-------------------+-------------------+-------------------+-------------------+-------------------+-------------------+------------------+-------------------+------------------+------------------+-------------------+------------------+-------------------+-------------------+-------------------+-------------------+-------------------+-------------------+-------------------+-------------------+-------------------+-------------------+-------------------+-------------------+-------------------+-------------------+-------------------+-------------------+-------------------+-------------------+-------------------+-------------------+-------------------+-------------------+-------------------+-------------------+-------------------+-------------------+-------------------+-------------------+-------+-------+-------+-------+-------+-------+-------+-------+------+------+------+-------+-------+-------+------+------+\n",
      "only showing top 10 rows\n",
      "\n"
     ]
    }
   ],
   "execution_count": 16
  },
  {
   "metadata": {
    "ExecuteTime": {
     "end_time": "2024-11-19T07:32:16.370370Z",
     "start_time": "2024-11-19T07:28:56.020667Z"
    }
   },
   "cell_type": "code",
   "source": "final_matrix.toPandas().to_csv(\"final_matrix.csv\", index=False)",
   "id": "100e1712c65b68b",
   "outputs": [
    {
     "name": "stderr",
     "output_type": "stream",
     "text": [
      "ERROR:root:KeyboardInterrupt while sending command.\n",
      "Traceback (most recent call last):\n",
      "  File \"C:\\Users\\hp\\miniconda3\\Lib\\site-packages\\py4j\\java_gateway.py\", line 1038, in send_command\n",
      "    response = connection.send_command(command)\n",
      "               ^^^^^^^^^^^^^^^^^^^^^^^^^^^^^^^^\n",
      "  File \"C:\\Users\\hp\\miniconda3\\Lib\\site-packages\\py4j\\clientserver.py\", line 511, in send_command\n",
      "    answer = smart_decode(self.stream.readline()[:-1])\n",
      "                          ^^^^^^^^^^^^^^^^^^^^^^\n",
      "  File \"C:\\Users\\hp\\miniconda3\\Lib\\socket.py\", line 707, in readinto\n",
      "    return self._sock.recv_into(b)\n",
      "           ^^^^^^^^^^^^^^^^^^^^^^^\n",
      "KeyboardInterrupt\n"
     ]
    },
    {
     "ename": "KeyboardInterrupt",
     "evalue": "",
     "output_type": "error",
     "traceback": [
      "\u001B[1;31m---------------------------------------------------------------------------\u001B[0m",
      "\u001B[1;31mKeyboardInterrupt\u001B[0m                         Traceback (most recent call last)",
      "Cell \u001B[1;32mIn[17], line 1\u001B[0m\n\u001B[1;32m----> 1\u001B[0m final_matrix\u001B[38;5;241m.\u001B[39mtoPandas()\u001B[38;5;241m.\u001B[39mto_csv(\u001B[38;5;124m\"\u001B[39m\u001B[38;5;124mfinal_matrix.csv\u001B[39m\u001B[38;5;124m\"\u001B[39m, index\u001B[38;5;241m=\u001B[39m\u001B[38;5;28;01mFalse\u001B[39;00m)\n",
      "File \u001B[1;32m~\\miniconda3\\Lib\\site-packages\\pyspark\\sql\\pandas\\conversion.py:202\u001B[0m, in \u001B[0;36mPandasConversionMixin.toPandas\u001B[1;34m(self)\u001B[0m\n\u001B[0;32m    199\u001B[0m             \u001B[38;5;28;01mraise\u001B[39;00m\n\u001B[0;32m    201\u001B[0m \u001B[38;5;66;03m# Below is toPandas without Arrow optimization.\u001B[39;00m\n\u001B[1;32m--> 202\u001B[0m rows \u001B[38;5;241m=\u001B[39m \u001B[38;5;28mself\u001B[39m\u001B[38;5;241m.\u001B[39mcollect()\n\u001B[0;32m    203\u001B[0m \u001B[38;5;28;01mif\u001B[39;00m \u001B[38;5;28mlen\u001B[39m(rows) \u001B[38;5;241m>\u001B[39m \u001B[38;5;241m0\u001B[39m:\n\u001B[0;32m    204\u001B[0m     pdf \u001B[38;5;241m=\u001B[39m pd\u001B[38;5;241m.\u001B[39mDataFrame\u001B[38;5;241m.\u001B[39mfrom_records(\n\u001B[0;32m    205\u001B[0m         rows, index\u001B[38;5;241m=\u001B[39m\u001B[38;5;28mrange\u001B[39m(\u001B[38;5;28mlen\u001B[39m(rows)), columns\u001B[38;5;241m=\u001B[39m\u001B[38;5;28mself\u001B[39m\u001B[38;5;241m.\u001B[39mcolumns  \u001B[38;5;66;03m# type: ignore[arg-type]\u001B[39;00m\n\u001B[0;32m    206\u001B[0m     )\n",
      "File \u001B[1;32m~\\miniconda3\\Lib\\site-packages\\pyspark\\sql\\dataframe.py:1263\u001B[0m, in \u001B[0;36mDataFrame.collect\u001B[1;34m(self)\u001B[0m\n\u001B[0;32m   1243\u001B[0m \u001B[38;5;250m\u001B[39m\u001B[38;5;124;03m\"\"\"Returns all the records as a list of :class:`Row`.\u001B[39;00m\n\u001B[0;32m   1244\u001B[0m \n\u001B[0;32m   1245\u001B[0m \u001B[38;5;124;03m.. versionadded:: 1.3.0\u001B[39;00m\n\u001B[1;32m   (...)\u001B[0m\n\u001B[0;32m   1260\u001B[0m \u001B[38;5;124;03m[Row(age=14, name='Tom'), Row(age=23, name='Alice'), Row(age=16, name='Bob')]\u001B[39;00m\n\u001B[0;32m   1261\u001B[0m \u001B[38;5;124;03m\"\"\"\u001B[39;00m\n\u001B[0;32m   1262\u001B[0m \u001B[38;5;28;01mwith\u001B[39;00m SCCallSiteSync(\u001B[38;5;28mself\u001B[39m\u001B[38;5;241m.\u001B[39m_sc):\n\u001B[1;32m-> 1263\u001B[0m     sock_info \u001B[38;5;241m=\u001B[39m \u001B[38;5;28mself\u001B[39m\u001B[38;5;241m.\u001B[39m_jdf\u001B[38;5;241m.\u001B[39mcollectToPython()\n\u001B[0;32m   1264\u001B[0m \u001B[38;5;28;01mreturn\u001B[39;00m \u001B[38;5;28mlist\u001B[39m(_load_from_socket(sock_info, BatchedSerializer(CPickleSerializer())))\n",
      "File \u001B[1;32m~\\miniconda3\\Lib\\site-packages\\py4j\\java_gateway.py:1321\u001B[0m, in \u001B[0;36mJavaMember.__call__\u001B[1;34m(self, *args)\u001B[0m\n\u001B[0;32m   1314\u001B[0m args_command, temp_args \u001B[38;5;241m=\u001B[39m \u001B[38;5;28mself\u001B[39m\u001B[38;5;241m.\u001B[39m_build_args(\u001B[38;5;241m*\u001B[39margs)\n\u001B[0;32m   1316\u001B[0m command \u001B[38;5;241m=\u001B[39m proto\u001B[38;5;241m.\u001B[39mCALL_COMMAND_NAME \u001B[38;5;241m+\u001B[39m\\\n\u001B[0;32m   1317\u001B[0m     \u001B[38;5;28mself\u001B[39m\u001B[38;5;241m.\u001B[39mcommand_header \u001B[38;5;241m+\u001B[39m\\\n\u001B[0;32m   1318\u001B[0m     args_command \u001B[38;5;241m+\u001B[39m\\\n\u001B[0;32m   1319\u001B[0m     proto\u001B[38;5;241m.\u001B[39mEND_COMMAND_PART\n\u001B[1;32m-> 1321\u001B[0m answer \u001B[38;5;241m=\u001B[39m \u001B[38;5;28mself\u001B[39m\u001B[38;5;241m.\u001B[39mgateway_client\u001B[38;5;241m.\u001B[39msend_command(command)\n\u001B[0;32m   1322\u001B[0m return_value \u001B[38;5;241m=\u001B[39m get_return_value(\n\u001B[0;32m   1323\u001B[0m     answer, \u001B[38;5;28mself\u001B[39m\u001B[38;5;241m.\u001B[39mgateway_client, \u001B[38;5;28mself\u001B[39m\u001B[38;5;241m.\u001B[39mtarget_id, \u001B[38;5;28mself\u001B[39m\u001B[38;5;241m.\u001B[39mname)\n\u001B[0;32m   1325\u001B[0m \u001B[38;5;28;01mfor\u001B[39;00m temp_arg \u001B[38;5;129;01min\u001B[39;00m temp_args:\n",
      "File \u001B[1;32m~\\miniconda3\\Lib\\site-packages\\py4j\\java_gateway.py:1038\u001B[0m, in \u001B[0;36mGatewayClient.send_command\u001B[1;34m(self, command, retry, binary)\u001B[0m\n\u001B[0;32m   1036\u001B[0m connection \u001B[38;5;241m=\u001B[39m \u001B[38;5;28mself\u001B[39m\u001B[38;5;241m.\u001B[39m_get_connection()\n\u001B[0;32m   1037\u001B[0m \u001B[38;5;28;01mtry\u001B[39;00m:\n\u001B[1;32m-> 1038\u001B[0m     response \u001B[38;5;241m=\u001B[39m connection\u001B[38;5;241m.\u001B[39msend_command(command)\n\u001B[0;32m   1039\u001B[0m     \u001B[38;5;28;01mif\u001B[39;00m binary:\n\u001B[0;32m   1040\u001B[0m         \u001B[38;5;28;01mreturn\u001B[39;00m response, \u001B[38;5;28mself\u001B[39m\u001B[38;5;241m.\u001B[39m_create_connection_guard(connection)\n",
      "File \u001B[1;32m~\\miniconda3\\Lib\\site-packages\\py4j\\clientserver.py:511\u001B[0m, in \u001B[0;36mClientServerConnection.send_command\u001B[1;34m(self, command)\u001B[0m\n\u001B[0;32m    509\u001B[0m \u001B[38;5;28;01mtry\u001B[39;00m:\n\u001B[0;32m    510\u001B[0m     \u001B[38;5;28;01mwhile\u001B[39;00m \u001B[38;5;28;01mTrue\u001B[39;00m:\n\u001B[1;32m--> 511\u001B[0m         answer \u001B[38;5;241m=\u001B[39m smart_decode(\u001B[38;5;28mself\u001B[39m\u001B[38;5;241m.\u001B[39mstream\u001B[38;5;241m.\u001B[39mreadline()[:\u001B[38;5;241m-\u001B[39m\u001B[38;5;241m1\u001B[39m])\n\u001B[0;32m    512\u001B[0m         logger\u001B[38;5;241m.\u001B[39mdebug(\u001B[38;5;124m\"\u001B[39m\u001B[38;5;124mAnswer received: \u001B[39m\u001B[38;5;132;01m{0}\u001B[39;00m\u001B[38;5;124m\"\u001B[39m\u001B[38;5;241m.\u001B[39mformat(answer))\n\u001B[0;32m    513\u001B[0m         \u001B[38;5;66;03m# Happens when a the other end is dead. There might be an empty\u001B[39;00m\n\u001B[0;32m    514\u001B[0m         \u001B[38;5;66;03m# answer before the socket raises an error.\u001B[39;00m\n",
      "File \u001B[1;32m~\\miniconda3\\Lib\\socket.py:707\u001B[0m, in \u001B[0;36mSocketIO.readinto\u001B[1;34m(self, b)\u001B[0m\n\u001B[0;32m    705\u001B[0m \u001B[38;5;28;01mwhile\u001B[39;00m \u001B[38;5;28;01mTrue\u001B[39;00m:\n\u001B[0;32m    706\u001B[0m     \u001B[38;5;28;01mtry\u001B[39;00m:\n\u001B[1;32m--> 707\u001B[0m         \u001B[38;5;28;01mreturn\u001B[39;00m \u001B[38;5;28mself\u001B[39m\u001B[38;5;241m.\u001B[39m_sock\u001B[38;5;241m.\u001B[39mrecv_into(b)\n\u001B[0;32m    708\u001B[0m     \u001B[38;5;28;01mexcept\u001B[39;00m timeout:\n\u001B[0;32m    709\u001B[0m         \u001B[38;5;28mself\u001B[39m\u001B[38;5;241m.\u001B[39m_timeout_occurred \u001B[38;5;241m=\u001B[39m \u001B[38;5;28;01mTrue\u001B[39;00m\n",
      "\u001B[1;31mKeyboardInterrupt\u001B[0m: "
     ]
    }
   ],
   "execution_count": 17
  }
 ],
 "metadata": {
  "kernelspec": {
   "display_name": "Python 3",
   "language": "python",
   "name": "python3"
  },
  "language_info": {
   "codemirror_mode": {
    "name": "ipython",
    "version": 2
   },
   "file_extension": ".py",
   "mimetype": "text/x-python",
   "name": "python",
   "nbconvert_exporter": "python",
   "pygments_lexer": "ipython2",
   "version": "2.7.6"
  }
 },
 "nbformat": 4,
 "nbformat_minor": 5
}
