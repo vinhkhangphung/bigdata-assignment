{
 "cells": [
  {
   "cell_type": "code",
   "id": "initial_id",
   "metadata": {
    "collapsed": true,
    "ExecuteTime": {
     "end_time": "2024-11-27T18:51:55.615720Z",
     "start_time": "2024-11-27T18:51:49.276551Z"
    }
   },
   "source": [
    "from numbers import Number\n",
    "\n",
    "from pyspark.sql import SparkSession\n",
    "\n",
    "import os\n",
    "import sys\n",
    "\n",
    "os.environ['PYSPARK_PYTHON'] = sys.executable\n",
    "os.environ['PYSPARK_DRIVER_PYTHON'] = sys.executable\n",
    "\n",
    "# Initialize Spark session\n",
    "spark = (SparkSession.builder.appName(\"DataProcessingApp\")\n",
    "         .config(\"spark.executor.memory\", \"12g\")\n",
    "         .config(\"spark.driver.memory\", \"12g\")\n",
    "         .getOrCreate())\n",
    "spark.sparkContext.setLogLevel(\"DEBUG\")\n",
    "\n",
    "problem_df = spark.read.csv('data/2019-2020_school_year/pdets_no_null.csv', header=True, inferSchema=True)"
   ],
   "outputs": [],
   "execution_count": 1
  },
  {
   "metadata": {
    "ExecuteTime": {
     "end_time": "2024-11-27T18:56:56.397919Z",
     "start_time": "2024-11-27T18:56:55.107395Z"
    }
   },
   "cell_type": "code",
   "source": [
    "from pyspark.sql.functions import split, col\n",
    "\n",
    "# Read the CSV file into a Spark DataFrame\n",
    "feedback_df = spark.read.csv('data/2019-2020_school_year/final_matrix.csv', header=True, inferSchema=True)\n",
    "\n",
    "# Select columns that start with a digit\n",
    "category_cols = [col for col in feedback_df.columns if col[0].isdigit()]\n",
    "\n",
    "# Melt the DataFrame\n",
    "feedback_long = feedback_df.selectExpr(\"student_id\", \"stack(\" + str(len(category_cols)) + \", \" + \n",
    "                                       \", \".join([f\"'{col}', {col}\" for col in category_cols]) + \n",
    "                                       \") as (category, performance)\")\n",
    "\n",
    "# Split the category column into grade, domain, subdomain\n",
    "feedback_long = feedback_long.withColumn('grade', split(col('category'), '_').getItem(0).cast('int'))\n",
    "feedback_long = feedback_long.withColumn('domain', split(col('category'), '_').getItem(1))\n",
    "feedback_long = feedback_long.withColumn('subdomain', split(col('category'), '_').getItem(2))\n",
    "\n",
    "# Drop the original category column\n",
    "feedback_df = feedback_long.drop('category')"
   ],
   "id": "3fffa19a88ccb47d",
   "outputs": [],
   "execution_count": 2
  },
  {
   "metadata": {
    "ExecuteTime": {
     "end_time": "2024-11-27T18:56:58.138034Z",
     "start_time": "2024-11-27T18:56:57.575560Z"
    }
   },
   "cell_type": "code",
   "source": [
    "from pyspark.sql.functions import col, expr\n",
    "\n",
    "# Calculate Q1, Q3, and IQR\n",
    "quantiles = problem_df.approxQuantile(\"mean_time_on_task\", [0.25, 0.75], 0.05)\n",
    "Q1, Q3 = quantiles[0], quantiles[1]\n",
    "IQR = Q3 - Q1\n",
    "\n",
    "# Define bounds for outliers\n",
    "lower_bound = Q1 - 1.5 * IQR\n",
    "upper_bound = Q3 + 1.5 * IQR\n",
    "\n",
    "# Filter out outliers (if needed)\n",
    "filtered_df = problem_df.filter((col(\"mean_time_on_task\") >= lower_bound) & (col(\"mean_time_on_task\") <= upper_bound))"
   ],
   "id": "52a2bffeaa5dec52",
   "outputs": [],
   "execution_count": 3
  },
  {
   "metadata": {
    "ExecuteTime": {
     "end_time": "2024-11-27T18:57:00.877171Z",
     "start_time": "2024-11-27T18:57:00.038319Z"
    }
   },
   "cell_type": "code",
   "source": [
    "from pyspark.sql.functions import col, when\n",
    "\n",
    "# Clip the values\n",
    "problem_df = problem_df.withColumn(\"mean_time_on_task\",\n",
    "                   when(problem_df.mean_time_on_task < lower_bound, lower_bound)\n",
    "                   .when(col(\"mean_time_on_task\") > upper_bound, upper_bound)\n",
    "                   .otherwise(col(\"mean_time_on_task\")))\n",
    "\n",
    "# Normalize between 0 and 1\n",
    "min_val = problem_df.agg({\"mean_time_on_task\": \"min\"}).collect()[0][0]\n",
    "max_val = problem_df.agg({\"mean_time_on_task\": \"max\"}).collect()[0][0]\n",
    "problem_df = problem_df.withColumn(\"mean_time_on_task\",\n",
    "                   (col(\"mean_time_on_task\") - min_val) / (max_val - min_val))"
   ],
   "id": "df06eb1332295274",
   "outputs": [],
   "execution_count": 4
  },
  {
   "metadata": {
    "ExecuteTime": {
     "end_time": "2024-11-27T18:57:03.138291Z",
     "start_time": "2024-11-27T18:57:02.405282Z"
    }
   },
   "cell_type": "code",
   "source": [
    "from pyspark.sql.functions import mean, col\n",
    "\n",
    "difficulty_features = ['mean_correct', 'mean_time_on_task']\n",
    "for column in difficulty_features:\n",
    "    avg = problem_df.select(mean(col(column)).alias('mean')).first()['mean']\n",
    "    problem_df = problem_df.fillna({column: avg})\n",
    "\n",
    "problem_df.show(5)"
   ],
   "id": "22316cd5418d636d",
   "outputs": [
    {
     "name": "stdout",
     "output_type": "stream",
     "text": [
      "+----------+--------------------+--------------------+-------------------+-------------------+-----+------+---------+\n",
      "|problem_id|        problem_type|student_answer_count|       mean_correct|  mean_time_on_task|grade|domain|subdomain|\n",
      "+----------+--------------------+--------------------+-------------------+-------------------+-----+------+---------+\n",
      "|     13623|     Multiple Choice|                  27| 0.8888888888888888| 0.3730991995021376|    7|     G|        B|\n",
      "|     20683|     Multiple Choice|                  22| 0.8181818181818182| 0.3730991995021376|    8|    NS|        A|\n",
      "|     23271|     Multiple Choice|                  19|0.15789473684210525| 0.3730991995021376|    7|    RP|        A|\n",
      "|     47084|Algebraic Expression|                   5|                0.4|                1.0|    6|    SP|        B|\n",
      "|     54190|Algebraic Expression|                  55| 0.9444444444444444|0.06929991797386947|    7|    NS|        A|\n",
      "+----------+--------------------+--------------------+-------------------+-------------------+-----+------+---------+\n",
      "only showing top 5 rows\n",
      "\n"
     ]
    }
   ],
   "execution_count": 5
  },
  {
   "metadata": {
    "ExecuteTime": {
     "end_time": "2024-11-27T18:57:05.716740Z",
     "start_time": "2024-11-27T18:57:05.419127Z"
    }
   },
   "cell_type": "code",
   "source": [
    "from pyspark.sql.functions import isnan, when, count\n",
    "problem_df.select([count(when(col(c).isNull(), c)).alias(c) for c in problem_df.columns]).show()"
   ],
   "id": "6616dcd09ed73b24",
   "outputs": [
    {
     "name": "stdout",
     "output_type": "stream",
     "text": [
      "+----------+------------+--------------------+------------+-----------------+-----+------+---------+\n",
      "|problem_id|problem_type|student_answer_count|mean_correct|mean_time_on_task|grade|domain|subdomain|\n",
      "+----------+------------+--------------------+------------+-----------------+-----+------+---------+\n",
      "|         0|           0|                   0|           0|                0|76652| 76652|    76652|\n",
      "+----------+------------+--------------------+------------+-----------------+-----+------+---------+\n",
      "\n"
     ]
    }
   ],
   "execution_count": 6
  },
  {
   "metadata": {
    "ExecuteTime": {
     "end_time": "2024-11-27T18:57:08.756350Z",
     "start_time": "2024-11-27T18:57:08.744520Z"
    }
   },
   "cell_type": "code",
   "source": "problem_df = problem_df.dropna()",
   "id": "e21162105f173050",
   "outputs": [],
   "execution_count": 7
  },
  {
   "metadata": {
    "ExecuteTime": {
     "end_time": "2024-11-27T18:57:10.265172Z",
     "start_time": "2024-11-27T18:57:10.140627Z"
    }
   },
   "cell_type": "code",
   "source": [
    "problem_df = problem_df.withColumn('grade', when(col('grade') == 'HSS', 9).otherwise(col('grade')))\n",
    "problem_df.show(5)"
   ],
   "id": "4cd01d65fc361a41",
   "outputs": [
    {
     "name": "stdout",
     "output_type": "stream",
     "text": [
      "+----------+--------------------+--------------------+-------------------+-------------------+-----+------+---------+\n",
      "|problem_id|        problem_type|student_answer_count|       mean_correct|  mean_time_on_task|grade|domain|subdomain|\n",
      "+----------+--------------------+--------------------+-------------------+-------------------+-----+------+---------+\n",
      "|     13623|     Multiple Choice|                  27| 0.8888888888888888| 0.3730991995021376|    7|     G|        B|\n",
      "|     20683|     Multiple Choice|                  22| 0.8181818181818182| 0.3730991995021376|    8|    NS|        A|\n",
      "|     23271|     Multiple Choice|                  19|0.15789473684210525| 0.3730991995021376|    7|    RP|        A|\n",
      "|     47084|Algebraic Expression|                   5|                0.4|                1.0|    6|    SP|        B|\n",
      "|     54190|Algebraic Expression|                  55| 0.9444444444444444|0.06929991797386947|    7|    NS|        A|\n",
      "+----------+--------------------+--------------------+-------------------+-------------------+-----+------+---------+\n",
      "only showing top 5 rows\n",
      "\n"
     ]
    }
   ],
   "execution_count": 8
  },
  {
   "metadata": {
    "ExecuteTime": {
     "end_time": "2024-11-27T18:57:12.506807Z",
     "start_time": "2024-11-27T18:57:12.286904Z"
    }
   },
   "cell_type": "code",
   "source": [
    "from pyspark.ml.feature import StringIndexer\n",
    "\n",
    "# Create indexers for categorical features\n",
    "indexers = {\n",
    "    'grade': StringIndexer(inputCol='grade', outputCol='grade_idx', handleInvalid='keep'),\n",
    "    'domain': StringIndexer(inputCol='domain', outputCol='domain_idx', handleInvalid='keep'),\n",
    "    'subdomain': StringIndexer(inputCol='subdomain', outputCol='subdomain_idx', handleInvalid='keep')\n",
    "}"
   ],
   "id": "a3616e59c4eb91b2",
   "outputs": [],
   "execution_count": 9
  },
  {
   "metadata": {
    "ExecuteTime": {
     "end_time": "2024-11-27T18:57:23.018722Z",
     "start_time": "2024-11-27T18:57:14.422758Z"
    }
   },
   "cell_type": "code",
   "source": [
    "# Combine both DataFrames for fitting the indexers\n",
    "combined_df = problem_df.select('grade', 'domain', 'subdomain').union(feedback_df.select('grade', 'domain', 'subdomain'))\n",
    "\n",
    "# Fit and transform indexers on the combined data\n",
    "indexer_models = {col: indexer.fit(combined_df) for col, indexer in indexers.items()}\n",
    "\n",
    "# Transform both DataFrames using the fitted indexers\n",
    "problems_indexed = problem_df\n",
    "feedback_indexed = feedback_df\n",
    "\n",
    "for col, indexer_model in indexer_models.items():\n",
    "    problems_indexed = indexer_model.transform(problems_indexed)\n",
    "    feedback_indexed = indexer_model.transform(feedback_indexed)"
   ],
   "id": "5d7749186953e31b",
   "outputs": [],
   "execution_count": 10
  },
  {
   "metadata": {
    "ExecuteTime": {
     "end_time": "2024-11-27T18:57:25.757803Z",
     "start_time": "2024-11-27T18:57:25.600021Z"
    }
   },
   "cell_type": "code",
   "source": "feedback_indexed.show(5)",
   "id": "3aa8b79c0431b606",
   "outputs": [
    {
     "name": "stdout",
     "output_type": "stream",
     "text": [
      "+----------+------------------+-----+------+---------+---------+----------+-------------+\n",
      "|student_id|       performance|grade|domain|subdomain|grade_idx|domain_idx|subdomain_idx|\n",
      "+----------+------------------+-----+------+---------+---------+----------+-------------+\n",
      "|     39285|0.8782983992556599|    1|     G|        A|      8.0|       2.0|          0.0|\n",
      "|     39285|0.8782983992556599|    1|    MD|        A|      8.0|       1.0|          0.0|\n",
      "|     39285|0.8782983992556599|    1|   NBT|        A|      8.0|       3.0|          0.0|\n",
      "|     39285|0.8782983992556599|    1|   NBT|        B|      8.0|       3.0|          1.0|\n",
      "|     39285|0.8782983992556599|    1|   NBT|        C|      8.0|       3.0|          2.0|\n",
      "+----------+------------------+-----+------+---------+---------+----------+-------------+\n",
      "only showing top 5 rows\n",
      "\n"
     ]
    }
   ],
   "execution_count": 11
  },
  {
   "metadata": {
    "ExecuteTime": {
     "end_time": "2024-11-27T18:57:31.310359Z",
     "start_time": "2024-11-27T18:57:30.961887Z"
    }
   },
   "cell_type": "code",
   "source": "problems_indexed.sort('grade').show(5)",
   "id": "a28b5d694885fae4",
   "outputs": [
    {
     "name": "stdout",
     "output_type": "stream",
     "text": [
      "+----------+--------------------+--------------------+------------------+--------------------+-----+------+---------+---------+----------+-------------+\n",
      "|problem_id|        problem_type|student_answer_count|      mean_correct|   mean_time_on_task|grade|domain|subdomain|grade_idx|domain_idx|subdomain_idx|\n",
      "+----------+--------------------+--------------------+------------------+--------------------+-----+------+---------+---------+----------+-------------+\n",
      "|   1284331|Ungraded Open Res...|                 361|0.6582761402411069|  0.4326924080765978|    1|   NBT|        C|      8.0|       3.0|          2.0|\n",
      "|   1287146|  Numeric Expression|                  11|0.6582761402411069| 0.11756222270989086|    1|   NBT|        C|      8.0|       3.0|          2.0|\n",
      "|   1611264|Exact Match (igno...|                 409|0.6797066014669927| 0.38108176675524075|    1|    OA|        A|      8.0|       0.0|          0.0|\n",
      "|   1227965|Algebraic Expression|                 947|0.7005291005291006|   0.494678175766111|    1|    OA|        A|      8.0|       0.0|          0.0|\n",
      "|   1267829|Algebraic Expression|                 178|0.9775280898876404|0.052054021459304434|    1|   NBT|        C|      8.0|       3.0|          2.0|\n",
      "+----------+--------------------+--------------------+------------------+--------------------+-----+------+---------+---------+----------+-------------+\n",
      "only showing top 5 rows\n",
      "\n"
     ]
    }
   ],
   "execution_count": 12
  },
  {
   "metadata": {
    "ExecuteTime": {
     "end_time": "2024-11-27T18:57:34.494060Z",
     "start_time": "2024-11-27T18:57:33.544253Z"
    }
   },
   "cell_type": "code",
   "source": "problem_df.describe().show()",
   "id": "840a5354ed373712",
   "outputs": [
    {
     "name": "stdout",
     "output_type": "stream",
     "text": [
      "+-------+-----------------+--------------------+--------------------+------------------+--------------------+------------------+------+---------+\n",
      "|summary|       problem_id|        problem_type|student_answer_count|      mean_correct|   mean_time_on_task|             grade|domain|subdomain|\n",
      "+-------+-----------------+--------------------+--------------------+------------------+--------------------+------------------+------+---------+\n",
      "|  count|            64843|               64843|               64843|             64843|               64843|             64843| 64843|    64843|\n",
      "|   mean|885215.8859553074|                NULL|  149.84889656555063|0.6418865939250317| 0.38576570288812234|  5.96794701986755|  NULL|     NULL|\n",
      "| stddev|584964.4632676493|                NULL|  272.67700972866464|0.2367674371140991| 0.27091740906924844|1.8474610342826383|  NULL|     NULL|\n",
      "|    min|                1|Algebraic Expression|                   1|               0.0|3.065406030874406E-6|                 1|   APR|        A|\n",
      "|    max|          1869964|Ungraded Open Res...|                3180|               1.0|                 1.0|               HSN|   SSE|        D|\n",
      "+-------+-----------------+--------------------+--------------------+------------------+--------------------+------------------+------+---------+\n",
      "\n"
     ]
    }
   ],
   "execution_count": 13
  },
  {
   "metadata": {
    "ExecuteTime": {
     "end_time": "2024-11-27T18:57:38.022141Z",
     "start_time": "2024-11-27T18:57:37.811087Z"
    }
   },
   "cell_type": "code",
   "source": [
    "from pyspark.ml.feature import VectorAssembler\n",
    "\n",
    "# Calculate problem difficulty\n",
    "difficulty_features = ['mean_correct', 'mean_time_on_task']\n",
    "# Create difficulty vector\n",
    "difficulty_assembler = VectorAssembler(\n",
    "    inputCols=difficulty_features,\n",
    "    outputCol=\"difficulty_features\"\n",
    ")\n",
    "problems_with_features = difficulty_assembler.transform(problems_indexed)\n",
    "problems_with_features.show(5)"
   ],
   "id": "2809ce0205f53c21",
   "outputs": [
    {
     "name": "stdout",
     "output_type": "stream",
     "text": [
      "+----------+--------------------+--------------------+-------------------+-------------------+-----+------+---------+---------+----------+-------------+--------------------+\n",
      "|problem_id|        problem_type|student_answer_count|       mean_correct|  mean_time_on_task|grade|domain|subdomain|grade_idx|domain_idx|subdomain_idx| difficulty_features|\n",
      "+----------+--------------------+--------------------+-------------------+-------------------+-----+------+---------+---------+----------+-------------+--------------------+\n",
      "|     13623|     Multiple Choice|                  27| 0.8888888888888888| 0.3730991995021376|    7|     G|        B|      7.0|       2.0|          1.0|[0.88888888888888...|\n",
      "|     20683|     Multiple Choice|                  22| 0.8181818181818182| 0.3730991995021376|    8|    NS|        A|      4.0|       7.0|          0.0|[0.81818181818181...|\n",
      "|     23271|     Multiple Choice|                  19|0.15789473684210525| 0.3730991995021376|    7|    RP|        A|      7.0|       9.0|          0.0|[0.15789473684210...|\n",
      "|     47084|Algebraic Expression|                   5|                0.4|                1.0|    6|    SP|        B|      5.0|       5.0|          1.0|           [0.4,1.0]|\n",
      "|     54190|Algebraic Expression|                  55| 0.9444444444444444|0.06929991797386947|    7|    NS|        A|      7.0|       7.0|          0.0|[0.94444444444444...|\n",
      "+----------+--------------------+--------------------+-------------------+-------------------+-----+------+---------+---------+----------+-------------+--------------------+\n",
      "only showing top 5 rows\n",
      "\n"
     ]
    }
   ],
   "execution_count": 14
  },
  {
   "metadata": {
    "ExecuteTime": {
     "end_time": "2024-11-27T18:57:44.541604Z",
     "start_time": "2024-11-27T18:57:41.417940Z"
    }
   },
   "cell_type": "code",
   "source": [
    "from pyspark.ml.clustering import KMeans\n",
    "from pyspark.sql.functions import when, col, desc\n",
    "\n",
    "# Cluster problems by difficulty\n",
    "kmeans = KMeans(k=3, featuresCol=\"difficulty_features\")\n",
    "difficulty_model = kmeans.fit(problems_with_features)\n",
    "problems_with_difficulty = difficulty_model.transform(problems_with_features)\n",
    "# Add difficulty labels\n",
    "problems_final = problems_with_difficulty.withColumn(\n",
    "    'difficulty_label',\n",
    "    when(col('prediction') == 0, 'Easy')\n",
    "    .when(col('prediction') == 1, 'Medium')\n",
    "    .otherwise('Hard')\n",
    ")"
   ],
   "id": "7cfa9074ecd7b776",
   "outputs": [],
   "execution_count": 15
  },
  {
   "metadata": {
    "ExecuteTime": {
     "end_time": "2024-11-27T18:57:50.115294Z",
     "start_time": "2024-11-27T18:57:50.098225Z"
    }
   },
   "cell_type": "code",
   "source": [
    "# Prepare feature vector for Factorization Machine\n",
    "feature_cols = ['grade_idx', 'domain_idx', 'subdomain_idx']\n",
    "feature_assembler = VectorAssembler(\n",
    "    inputCols=feature_cols,\n",
    "    outputCol=\"features\"\n",
    ")\n",
    "\n",
    "# Transform feedback data with feature vector\n",
    "feedback_features = feature_assembler.transform(feedback_indexed)"
   ],
   "id": "544418237480a795",
   "outputs": [],
   "execution_count": 16
  },
  {
   "metadata": {
    "ExecuteTime": {
     "end_time": "2024-11-27T19:06:28.040225Z",
     "start_time": "2024-11-27T18:57:52.870433Z"
    }
   },
   "cell_type": "code",
   "source": [
    "from pyspark.ml.regression import FMRegressor\n",
    "\n",
    "# Train Factorization Machine model\n",
    "fm = FMRegressor(\n",
    "    featuresCol=\"features\",\n",
    "    labelCol=\"performance\",\n",
    "    factorSize=8,  # Size of the latent factors\n",
    "    maxIter=100,\n",
    "    stepSize=0.1\n",
    ")\n",
    "\n",
    "fm_model = fm.fit(feedback_features)"
   ],
   "id": "b855db2fa424e17c",
   "outputs": [],
   "execution_count": 17
  },
  {
   "metadata": {
    "ExecuteTime": {
     "end_time": "2024-11-27T19:06:43.601894Z",
     "start_time": "2024-11-27T19:06:43.592969Z"
    }
   },
   "cell_type": "code",
   "source": "problems_final = problems_final.withColumnRenamed('prediction', 'difficulty_cluster')",
   "id": "3a06885d9d44c3a3",
   "outputs": [],
   "execution_count": 18
  },
  {
   "metadata": {
    "ExecuteTime": {
     "end_time": "2024-11-27T19:13:57.452247Z",
     "start_time": "2024-11-27T19:13:57.446958Z"
    }
   },
   "cell_type": "code",
   "source": [
    "from pyspark.sql.functions import col, desc\n",
    "\n",
    "def get_recommendations(student_id: int, grade_ceil: int, domain: str=\"\", n_recommendations:int=5):\n",
    "    student_feedback = feedback_features.filter(col('student_id') == student_id)\n",
    "    weak_areas = (((student_feedback.groupBy('grade', 'domain', 'subdomain', 'grade_idx', 'domain_idx', 'subdomain_idx')\n",
    "                    .agg({'performance': 'avg'}))\n",
    "                   .withColumnRenamed('avg(performance)', 'average_performance'))\n",
    "                  .orderBy('average_performance'))\n",
    "    \n",
    "    potential_recommendations = problems_final.join(\n",
    "        weak_areas.select('grade_idx', 'domain_idx', 'subdomain_idx', 'average_performance'),\n",
    "        on=['grade_idx', 'domain_idx', 'subdomain_idx'],\n",
    "        how='inner'\n",
    "    ).sort('average_performance')\n",
    "    prediction_features = feature_assembler.transform(potential_recommendations)\n",
    "    predictions = fm_model.transform(prediction_features)\n",
    "    \n",
    "    return (predictions.filter(col('domain') == domain)\n",
    "            if len(domain) > 0 \n",
    "            else predictions).filter(col('grade') <= grade_ceil).sort('prediction', 'difficulty_cluster').limit(n_recommendations)"
   ],
   "id": "4e43514b249d82de",
   "outputs": [],
   "execution_count": 26
  },
  {
   "metadata": {
    "ExecuteTime": {
     "end_time": "2024-11-27T19:14:04.192698Z",
     "start_time": "2024-11-27T19:14:00.824732Z"
    }
   },
   "cell_type": "code",
   "source": [
    "# Get recommendations for student\n",
    "recommendations = get_recommendations(39285, grade_ceil=7, domain='NBT')\n",
    "recommendations.show()"
   ],
   "id": "371491a294833678",
   "outputs": [
    {
     "name": "stdout",
     "output_type": "stream",
     "text": [
      "+---------+----------+-------------+----------+--------------------+--------------------+-------------------+-------------------+-----+------+---------+--------------------+------------------+----------------+-------------------+-------------+------------------+\n",
      "|grade_idx|domain_idx|subdomain_idx|problem_id|        problem_type|student_answer_count|       mean_correct|  mean_time_on_task|grade|domain|subdomain| difficulty_features|difficulty_cluster|difficulty_label|average_performance|     features|        prediction|\n",
      "+---------+----------+-------------+----------+--------------------+--------------------+-------------------+-------------------+-----+------+---------+--------------------+------------------+----------------+-------------------+-------------+------------------+\n",
      "|      1.0|       3.0|          0.0|    340792|     Multiple Choice|                  24| 0.4166666666666667| 0.1095263188568862|    4|   NBT|        A|[0.41666666666666...|                 0|            Easy| 0.7335101049801264|[1.0,3.0,0.0]|0.5612774983581941|\n",
      "|      1.0|       3.0|          0.0|    604609|Exact Match (case...|                  74| 0.4794520547945205|0.46197008425721015|    4|   NBT|        A|[0.47945205479452...|                 0|            Easy| 0.7335101049801264|[1.0,3.0,0.0]|0.5612774983581941|\n",
      "|      1.0|       3.0|          0.0|   1215262|              Number|                  48| 0.5434782608695652|0.43025825803716206|    4|   NBT|        A|[0.54347826086956...|                 0|            Easy| 0.7335101049801264|[1.0,3.0,0.0]|0.5612774983581941|\n",
      "|      1.0|       3.0|          0.0|   1213980|     Multiple Choice|                  61| 0.5517241379310345|0.31238104720550636|    4|   NBT|        A|[0.55172413793103...|                 0|            Easy| 0.7335101049801264|[1.0,3.0,0.0]|0.5612774983581941|\n",
      "|      1.0|       3.0|          0.0|    340771|     Multiple Choice|                  23|0.43478260869565216| 0.1330303584715182|    4|   NBT|        A|[0.43478260869565...|                 0|            Easy| 0.7335101049801264|[1.0,3.0,0.0]|0.5612774983581941|\n",
      "+---------+----------+-------------+----------+--------------------+--------------------+-------------------+-------------------+-----+------+---------+--------------------+------------------+----------------+-------------------+-------------+------------------+\n",
      "\n"
     ]
    }
   ],
   "execution_count": 27
  },
  {
   "metadata": {
    "ExecuteTime": {
     "end_time": "2024-11-20T13:07:02.010787Z",
     "start_time": "2024-11-20T13:07:02.005800Z"
    }
   },
   "cell_type": "code",
   "source": [
    "# Function to generate learning path\n",
    "def generate_learning_path(student_id, grade, domain, subdomain, problems_df, fm_model, feature_assembler):\n",
    "    \"\"\"\n",
    "    Generate a progressive learning path for specific grade/domain/subdomain\n",
    "    \"\"\"\n",
    "    # Get relevant problems\n",
    "    category_problems = problems_df.filter(\n",
    "        (col('grade') == grade) & \n",
    "        (col('domain') == domain) & \n",
    "        (col('subdomain') == subdomain)\n",
    "    )\n",
    "    \n",
    "    # Get predicted performance\n",
    "    features = feature_assembler.transform(\n",
    "        category_problems.select('grade_idx', 'domain_idx', 'subdomain_idx')\n",
    "    )\n",
    "    predictions = fm_model.transform(features)\n",
    "    \n",
    "    # Join predictions with problems\n",
    "    learning_path = predictions.join(category_problems)\n",
    "    \n",
    "    # Sort by difficulty\n",
    "    learning_path = learning_path.orderBy('difficulty_label')\n",
    "    \n",
    "    return learning_path"
   ],
   "id": "8ecb091aa9417f96",
   "outputs": [],
   "execution_count": 31
  },
  {
   "metadata": {
    "ExecuteTime": {
     "end_time": "2024-11-20T13:07:07.370013Z",
     "start_time": "2024-11-20T13:07:03.988831Z"
    }
   },
   "cell_type": "code",
   "source": [
    "# Generate learning path for a specific category\n",
    "learning_path = generate_learning_path(39285, 7, 'RP', 'A', problems_final, fm_model, feature_assembler)\n",
    "learning_path.sort(col('difficulty_label').desc()).show(20)"
   ],
   "id": "e6c3a10b2fba60bc",
   "outputs": [
    {
     "name": "stdout",
     "output_type": "stream",
     "text": [
      "+---------+----------+-------------+-------------+-----------------+----------+--------------------+--------------------+-------------------+-------------------+-----+------+---------+---------+----------+-------------+--------------------+----------+----------------+\n",
      "|grade_idx|domain_idx|subdomain_idx|     features|       prediction|problem_id|        problem_type|student_answer_count|       mean_correct|  mean_time_on_task|grade|domain|subdomain|grade_idx|domain_idx|subdomain_idx| difficulty_features|prediction|difficulty_label|\n",
      "+---------+----------+-------------+-------------+-----------------+----------+--------------------+--------------------+-------------------+-------------------+-----+------+---------+---------+----------+-------------+--------------------+----------+----------------+\n",
      "|      7.0|       9.0|          0.0|[7.0,9.0,0.0]|0.464795070598812|   1506753|              Number|                 314| 0.3258064516129032| 0.3290909560129651|    7|    RP|        A|      7.0|       9.0|          0.0|[0.32580645161290...|         1|          Medium|\n",
      "|      7.0|       9.0|          0.0|[7.0,9.0,0.0]|0.464795070598812|   1518657|Algebraic Expression|                 541| 0.3585951940850277|0.46034566782964903|    7|    RP|        A|      7.0|       9.0|          0.0|[0.35859519408502...|         1|          Medium|\n",
      "|      7.0|       9.0|          0.0|[7.0,9.0,0.0]|0.464795070598812|     23271|     Multiple Choice|                  19|0.15789473684210525| 0.3730991995021376|    7|    RP|        A|      7.0|       9.0|          0.0|[0.15789473684210...|         1|          Medium|\n",
      "|      7.0|       9.0|          0.0|[7.0,9.0,0.0]|0.464795070598812|   1518657|Algebraic Expression|                 541| 0.3585951940850277|0.46034566782964903|    7|    RP|        A|      7.0|       9.0|          0.0|[0.35859519408502...|         1|          Medium|\n",
      "|      7.0|       9.0|          0.0|[7.0,9.0,0.0]|0.464795070598812|   1506753|              Number|                 314| 0.3258064516129032| 0.3290909560129651|    7|    RP|        A|      7.0|       9.0|          0.0|[0.32580645161290...|         1|          Medium|\n",
      "|      7.0|       9.0|          0.0|[7.0,9.0,0.0]|0.464795070598812|   1518657|Algebraic Expression|                 541| 0.3585951940850277|0.46034566782964903|    7|    RP|        A|      7.0|       9.0|          0.0|[0.35859519408502...|         1|          Medium|\n",
      "|      7.0|       9.0|          0.0|[7.0,9.0,0.0]|0.464795070598812|     23271|     Multiple Choice|                  19|0.15789473684210525| 0.3730991995021376|    7|    RP|        A|      7.0|       9.0|          0.0|[0.15789473684210...|         1|          Medium|\n",
      "|      7.0|       9.0|          0.0|[7.0,9.0,0.0]|0.464795070598812|   1518657|Algebraic Expression|                 541| 0.3585951940850277|0.46034566782964903|    7|    RP|        A|      7.0|       9.0|          0.0|[0.35859519408502...|         1|          Medium|\n",
      "|      7.0|       9.0|          0.0|[7.0,9.0,0.0]|0.464795070598812|   1506753|              Number|                 314| 0.3258064516129032| 0.3290909560129651|    7|    RP|        A|      7.0|       9.0|          0.0|[0.32580645161290...|         1|          Medium|\n",
      "|      7.0|       9.0|          0.0|[7.0,9.0,0.0]|0.464795070598812|   1518657|Algebraic Expression|                 541| 0.3585951940850277|0.46034566782964903|    7|    RP|        A|      7.0|       9.0|          0.0|[0.35859519408502...|         1|          Medium|\n",
      "|      7.0|       9.0|          0.0|[7.0,9.0,0.0]|0.464795070598812|     23271|     Multiple Choice|                  19|0.15789473684210525| 0.3730991995021376|    7|    RP|        A|      7.0|       9.0|          0.0|[0.15789473684210...|         1|          Medium|\n",
      "|      7.0|       9.0|          0.0|[7.0,9.0,0.0]|0.464795070598812|   1518657|Algebraic Expression|                 541| 0.3585951940850277|0.46034566782964903|    7|    RP|        A|      7.0|       9.0|          0.0|[0.35859519408502...|         1|          Medium|\n",
      "|      7.0|       9.0|          0.0|[7.0,9.0,0.0]|0.464795070598812|   1506753|              Number|                 314| 0.3258064516129032| 0.3290909560129651|    7|    RP|        A|      7.0|       9.0|          0.0|[0.32580645161290...|         1|          Medium|\n",
      "|      7.0|       9.0|          0.0|[7.0,9.0,0.0]|0.464795070598812|   1518657|Algebraic Expression|                 541| 0.3585951940850277|0.46034566782964903|    7|    RP|        A|      7.0|       9.0|          0.0|[0.35859519408502...|         1|          Medium|\n",
      "|      7.0|       9.0|          0.0|[7.0,9.0,0.0]|0.464795070598812|     23271|     Multiple Choice|                  19|0.15789473684210525| 0.3730991995021376|    7|    RP|        A|      7.0|       9.0|          0.0|[0.15789473684210...|         1|          Medium|\n",
      "|      7.0|       9.0|          0.0|[7.0,9.0,0.0]|0.464795070598812|   1518657|Algebraic Expression|                 541| 0.3585951940850277|0.46034566782964903|    7|    RP|        A|      7.0|       9.0|          0.0|[0.35859519408502...|         1|          Medium|\n",
      "|      7.0|       9.0|          0.0|[7.0,9.0,0.0]|0.464795070598812|   1506753|              Number|                 314| 0.3258064516129032| 0.3290909560129651|    7|    RP|        A|      7.0|       9.0|          0.0|[0.32580645161290...|         1|          Medium|\n",
      "|      7.0|       9.0|          0.0|[7.0,9.0,0.0]|0.464795070598812|   1518657|Algebraic Expression|                 541| 0.3585951940850277|0.46034566782964903|    7|    RP|        A|      7.0|       9.0|          0.0|[0.35859519408502...|         1|          Medium|\n",
      "|      7.0|       9.0|          0.0|[7.0,9.0,0.0]|0.464795070598812|     23271|     Multiple Choice|                  19|0.15789473684210525| 0.3730991995021376|    7|    RP|        A|      7.0|       9.0|          0.0|[0.15789473684210...|         1|          Medium|\n",
      "|      7.0|       9.0|          0.0|[7.0,9.0,0.0]|0.464795070598812|   1518657|Algebraic Expression|                 541| 0.3585951940850277|0.46034566782964903|    7|    RP|        A|      7.0|       9.0|          0.0|[0.35859519408502...|         1|          Medium|\n",
      "+---------+----------+-------------+-------------+-----------------+----------+--------------------+--------------------+-------------------+-------------------+-----+------+---------+---------+----------+-------------+--------------------+----------+----------------+\n",
      "only showing top 20 rows\n",
      "\n"
     ]
    }
   ],
   "execution_count": 32
  },
  {
   "metadata": {},
   "cell_type": "code",
   "outputs": [],
   "execution_count": null,
   "source": "\n",
   "id": "2c9ac2d55d9f1492"
  }
 ],
 "metadata": {
  "kernelspec": {
   "display_name": "Python 3",
   "language": "python",
   "name": "python3"
  },
  "language_info": {
   "codemirror_mode": {
    "name": "ipython",
    "version": 2
   },
   "file_extension": ".py",
   "mimetype": "text/x-python",
   "name": "python",
   "nbconvert_exporter": "python",
   "pygments_lexer": "ipython2",
   "version": "2.7.6"
  }
 },
 "nbformat": 4,
 "nbformat_minor": 5
}
